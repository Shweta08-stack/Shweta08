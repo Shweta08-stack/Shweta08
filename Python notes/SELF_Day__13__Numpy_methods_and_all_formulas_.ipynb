{
  "nbformat": 4,
  "nbformat_minor": 0,
  "metadata": {
    "colab": {
      "provenance": []
    },
    "kernelspec": {
      "name": "python3",
      "display_name": "Python 3"
    },
    "language_info": {
      "name": "python"
    }
  },
  "cells": [
    {
      "cell_type": "markdown",
      "source": [
        "### Import numpy is most important :-----\n",
        "--- whenever we use the numpy ,it is very important to install the numpy first, without import we can not use the libraries (Numpy is the powerful libraries in python )\n",
        "\n",
        "*   List item\n",
        "*   List item\n",
        "\n"
      ],
      "metadata": {
        "id": "I3-VJWlEdqEw"
      }
    },
    {
      "cell_type": "code",
      "source": [
        "import numpy as np"
      ],
      "metadata": {
        "id": "NSwlBTzXd9AR"
      },
      "execution_count": 1,
      "outputs": []
    },
    {
      "cell_type": "markdown",
      "source": [
        "## METHODS OF NUMPY :-----"
      ],
      "metadata": {
        "id": "ruf5fx80eJy2"
      }
    },
    {
      "cell_type": "code",
      "source": [],
      "metadata": {
        "id": "9i0eZOxGeQiw"
      },
      "execution_count": null,
      "outputs": []
    },
    {
      "cell_type": "markdown",
      "source": [
        "## Arange () :-- arange() is useful when you need a series of numbers in a specific range with a specific step size.\n",
        "--if we want a range from this to this (start to end) at that time we use the #arange method ()."
      ],
      "metadata": {
        "id": "IoNiFXPLeV_O"
      }
    },
    {
      "cell_type": "code",
      "source": [
        "arr"
      ],
      "metadata": {
        "colab": {
          "base_uri": "https://localhost:8080/"
        },
        "id": "yKtcOSTqzkak",
        "outputId": "24161196-0a41-4ed2-ea1f-a138cfa5f73f"
      },
      "execution_count": 31,
      "outputs": [
        {
          "output_type": "execute_result",
          "data": {
            "text/plain": [
              "array([ 1,  2,  3,  4,  5,  6,  7,  8,  9, 10])"
            ]
          },
          "metadata": {},
          "execution_count": 31
        }
      ]
    },
    {
      "cell_type": "code",
      "source": [
        "np.arange(5)   ## if want range always use .np"
      ],
      "metadata": {
        "colab": {
          "base_uri": "https://localhost:8080/"
        },
        "id": "pLzb5104zlUO",
        "outputId": "27efbf6c-4683-4f4a-ec8f-dea0103066d6"
      },
      "execution_count": 26,
      "outputs": [
        {
          "output_type": "execute_result",
          "data": {
            "text/plain": [
              "array([0, 1, 2, 3, 4])"
            ]
          },
          "metadata": {},
          "execution_count": 26
        }
      ]
    },
    {
      "cell_type": "code",
      "source": [
        "np.arange(100)   ## we take range from 0 to n number."
      ],
      "metadata": {
        "colab": {
          "base_uri": "https://localhost:8080/"
        },
        "id": "e2A-gEjLzoEd",
        "outputId": "a33c021b-23ae-4024-bca2-07fc670fa5cf"
      },
      "execution_count": 29,
      "outputs": [
        {
          "output_type": "execute_result",
          "data": {
            "text/plain": [
              "array([ 0,  1,  2,  3,  4,  5,  6,  7,  8,  9, 10, 11, 12, 13, 14, 15, 16,\n",
              "       17, 18, 19, 20, 21, 22, 23, 24, 25, 26, 27, 28, 29, 30, 31, 32, 33,\n",
              "       34, 35, 36, 37, 38, 39, 40, 41, 42, 43, 44, 45, 46, 47, 48, 49, 50,\n",
              "       51, 52, 53, 54, 55, 56, 57, 58, 59, 60, 61, 62, 63, 64, 65, 66, 67,\n",
              "       68, 69, 70, 71, 72, 73, 74, 75, 76, 77, 78, 79, 80, 81, 82, 83, 84,\n",
              "       85, 86, 87, 88, 89, 90, 91, 92, 93, 94, 95, 96, 97, 98, 99])"
            ]
          },
          "metadata": {},
          "execution_count": 29
        }
      ]
    },
    {
      "cell_type": "code",
      "source": [
        "np.arange(20)"
      ],
      "metadata": {
        "colab": {
          "base_uri": "https://localhost:8080/"
        },
        "id": "SbicsfWZzv9_",
        "outputId": "93168493-94b7-4b93-fe94-183855a85833"
      },
      "execution_count": 32,
      "outputs": [
        {
          "output_type": "execute_result",
          "data": {
            "text/plain": [
              "array([ 0,  1,  2,  3,  4,  5,  6,  7,  8,  9, 10, 11, 12, 13, 14, 15, 16,\n",
              "       17, 18, 19])"
            ]
          },
          "metadata": {},
          "execution_count": 32
        }
      ]
    },
    {
      "cell_type": "code",
      "source": [
        "np.arange(2,5)   ##[start,end]  2 is start and 5 is end..it will starts from element 2."
      ],
      "metadata": {
        "colab": {
          "base_uri": "https://localhost:8080/"
        },
        "id": "tNTLeSSG1Dq8",
        "outputId": "e6064d71-5315-4b44-b53f-a29be81dc42f"
      },
      "execution_count": 34,
      "outputs": [
        {
          "output_type": "execute_result",
          "data": {
            "text/plain": [
              "array([2, 3, 4])"
            ]
          },
          "metadata": {},
          "execution_count": 34
        }
      ]
    },
    {
      "cell_type": "code",
      "source": [
        "np.arange(100,500,2)  #(start,end,step)  # 2 is step"
      ],
      "metadata": {
        "colab": {
          "base_uri": "https://localhost:8080/"
        },
        "id": "2Lnwig6Q1GZx",
        "outputId": "2659cc83-d36b-4079-b690-91f9a3391b68"
      },
      "execution_count": 35,
      "outputs": [
        {
          "output_type": "execute_result",
          "data": {
            "text/plain": [
              "array([100, 102, 104, 106, 108, 110, 112, 114, 116, 118, 120, 122, 124,\n",
              "       126, 128, 130, 132, 134, 136, 138, 140, 142, 144, 146, 148, 150,\n",
              "       152, 154, 156, 158, 160, 162, 164, 166, 168, 170, 172, 174, 176,\n",
              "       178, 180, 182, 184, 186, 188, 190, 192, 194, 196, 198, 200, 202,\n",
              "       204, 206, 208, 210, 212, 214, 216, 218, 220, 222, 224, 226, 228,\n",
              "       230, 232, 234, 236, 238, 240, 242, 244, 246, 248, 250, 252, 254,\n",
              "       256, 258, 260, 262, 264, 266, 268, 270, 272, 274, 276, 278, 280,\n",
              "       282, 284, 286, 288, 290, 292, 294, 296, 298, 300, 302, 304, 306,\n",
              "       308, 310, 312, 314, 316, 318, 320, 322, 324, 326, 328, 330, 332,\n",
              "       334, 336, 338, 340, 342, 344, 346, 348, 350, 352, 354, 356, 358,\n",
              "       360, 362, 364, 366, 368, 370, 372, 374, 376, 378, 380, 382, 384,\n",
              "       386, 388, 390, 392, 394, 396, 398, 400, 402, 404, 406, 408, 410,\n",
              "       412, 414, 416, 418, 420, 422, 424, 426, 428, 430, 432, 434, 436,\n",
              "       438, 440, 442, 444, 446, 448, 450, 452, 454, 456, 458, 460, 462,\n",
              "       464, 466, 468, 470, 472, 474, 476, 478, 480, 482, 484, 486, 488,\n",
              "       490, 492, 494, 496, 498])"
            ]
          },
          "metadata": {},
          "execution_count": 35
        }
      ]
    },
    {
      "cell_type": "code",
      "source": [
        "np.arange(1,100,10) (start,end,step)   # 10 is step"
      ],
      "metadata": {
        "colab": {
          "base_uri": "https://localhost:8080/"
        },
        "id": "DXbg3Q231UCD",
        "outputId": "e9c204c9-4a51-47f1-bd5b-2aac9faf3701"
      },
      "execution_count": 36,
      "outputs": [
        {
          "output_type": "execute_result",
          "data": {
            "text/plain": [
              "array([ 1, 11, 21, 31, 41, 51, 61, 71, 81, 91])"
            ]
          },
          "metadata": {},
          "execution_count": 36
        }
      ]
    },
    {
      "cell_type": "code",
      "source": [],
      "metadata": {
        "id": "NkUR8wvd1l_P"
      },
      "execution_count": null,
      "outputs": []
    },
    {
      "cell_type": "markdown",
      "source": [
        "## Linspace ():--- that generates a sequence of numbers evenly spaced between two values.\n",
        "----- (start,end,space)"
      ],
      "metadata": {
        "id": "f2mMVUSE15h1"
      }
    },
    {
      "cell_type": "code",
      "source": [
        "arr"
      ],
      "metadata": {
        "colab": {
          "base_uri": "https://localhost:8080/"
        },
        "id": "5y7gBZql2YRi",
        "outputId": "00926168-3608-433b-952d-b63a4ea682c8"
      },
      "execution_count": 37,
      "outputs": [
        {
          "output_type": "execute_result",
          "data": {
            "text/plain": [
              "array([ 1,  2,  3,  4,  5,  6,  7,  8,  9, 10])"
            ]
          },
          "metadata": {},
          "execution_count": 37
        }
      ]
    },
    {
      "cell_type": "code",
      "source": [
        "np.linspace(2,10,15)    ## 2 is start , 10 is end and 15 is space."
      ],
      "metadata": {
        "colab": {
          "base_uri": "https://localhost:8080/"
        },
        "id": "BY_OqEz62Zhn",
        "outputId": "47de34b2-e08e-434c-a439-9b0792c53c8a"
      },
      "execution_count": 40,
      "outputs": [
        {
          "output_type": "execute_result",
          "data": {
            "text/plain": [
              "array([ 2.        ,  2.57142857,  3.14285714,  3.71428571,  4.28571429,\n",
              "        4.85714286,  5.42857143,  6.        ,  6.57142857,  7.14285714,\n",
              "        7.71428571,  8.28571429,  8.85714286,  9.42857143, 10.        ])"
            ]
          },
          "metadata": {},
          "execution_count": 40
        }
      ]
    },
    {
      "cell_type": "code",
      "source": [
        "np.linspace(10,20,30)"
      ],
      "metadata": {
        "colab": {
          "base_uri": "https://localhost:8080/"
        },
        "id": "s7au5R0o2fzf",
        "outputId": "a62ca71a-404a-4bf8-f6ef-bf99d593131d"
      },
      "execution_count": 42,
      "outputs": [
        {
          "output_type": "execute_result",
          "data": {
            "text/plain": [
              "array([10.        , 10.34482759, 10.68965517, 11.03448276, 11.37931034,\n",
              "       11.72413793, 12.06896552, 12.4137931 , 12.75862069, 13.10344828,\n",
              "       13.44827586, 13.79310345, 14.13793103, 14.48275862, 14.82758621,\n",
              "       15.17241379, 15.51724138, 15.86206897, 16.20689655, 16.55172414,\n",
              "       16.89655172, 17.24137931, 17.5862069 , 17.93103448, 18.27586207,\n",
              "       18.62068966, 18.96551724, 19.31034483, 19.65517241, 20.        ])"
            ]
          },
          "metadata": {},
          "execution_count": 42
        }
      ]
    },
    {
      "cell_type": "code",
      "source": [
        "arr2 = np.array([3,1,9,8,6,4])"
      ],
      "metadata": {
        "id": "hV0jN5KA218Y"
      },
      "execution_count": 44,
      "outputs": []
    },
    {
      "cell_type": "markdown",
      "source": [
        "## .SORT () :--- It sort the elements in an ascending order."
      ],
      "metadata": {
        "id": "fThcSE5e3kzd"
      }
    },
    {
      "cell_type": "code",
      "source": [
        "arr2"
      ],
      "metadata": {
        "colab": {
          "base_uri": "https://localhost:8080/"
        },
        "id": "zQ6GenKo3tNP",
        "outputId": "c8ee4ee9-5c4c-4d4d-d167-3662d7691d47"
      },
      "execution_count": 50,
      "outputs": [
        {
          "output_type": "execute_result",
          "data": {
            "text/plain": [
              "array([3, 1, 9, 8, 6, 4])"
            ]
          },
          "metadata": {},
          "execution_count": 50
        }
      ]
    },
    {
      "cell_type": "code",
      "source": [
        "np.sort(arr2)   ##sort data in ascending order."
      ],
      "metadata": {
        "colab": {
          "base_uri": "https://localhost:8080/"
        },
        "id": "jE_Qdmt638x0",
        "outputId": "876823b8-143b-4cb8-e82e-57ac3c70608f"
      },
      "execution_count": 52,
      "outputs": [
        {
          "output_type": "execute_result",
          "data": {
            "text/plain": [
              "array([1, 3, 4, 6, 8, 9])"
            ]
          },
          "metadata": {},
          "execution_count": 52
        }
      ]
    },
    {
      "cell_type": "markdown",
      "source": [
        "## Inbult function in numpy\n",
        " 1) .Max (array name) :-- it gives max elements from the entire list/tuple.(np.max)\n",
        "\n",
        " 2) .Min (array name) :-- it gives min elements from the entire list/tuple.(np.min)\n",
        "\n",
        " 3) .Sum (array name :-- It will give sum of entire elements from the list/ tuple. (np.sum)\n",
        "\n",
        " 4).Unique (arrany name ):- Ignore the duplicate elements.(np.unique)"
      ],
      "metadata": {
        "id": "7CAbrsyn4vAv"
      }
    },
    {
      "cell_type": "code",
      "source": [
        "arr3 = np.array([1,2,2,3,4,4,6,7,6])"
      ],
      "metadata": {
        "id": "e3XDsWkO5YjF"
      },
      "execution_count": 61,
      "outputs": []
    },
    {
      "cell_type": "code",
      "source": [
        "arr3"
      ],
      "metadata": {
        "colab": {
          "base_uri": "https://localhost:8080/"
        },
        "id": "ksXus1Km5sbl",
        "outputId": "6499a91a-426d-49fc-e2c3-e22d6f46be2a"
      },
      "execution_count": 62,
      "outputs": [
        {
          "output_type": "execute_result",
          "data": {
            "text/plain": [
              "array([1, 2, 2, 3, 4, 4, 6, 7, 6])"
            ]
          },
          "metadata": {},
          "execution_count": 62
        }
      ]
    },
    {
      "cell_type": "code",
      "source": [
        "np.max(arr3)  ## max is inuilt fucntion"
      ],
      "metadata": {
        "colab": {
          "base_uri": "https://localhost:8080/"
        },
        "id": "r-H5csEm5u48",
        "outputId": "55948929-8ef5-40ac-d119-ccb25aedcd4f"
      },
      "execution_count": 63,
      "outputs": [
        {
          "output_type": "execute_result",
          "data": {
            "text/plain": [
              "7"
            ]
          },
          "metadata": {},
          "execution_count": 63
        }
      ]
    },
    {
      "cell_type": "code",
      "source": [
        "np.min(arr3)   ##min is inbult fucntion."
      ],
      "metadata": {
        "colab": {
          "base_uri": "https://localhost:8080/"
        },
        "id": "hkZ9dgf25_uz",
        "outputId": "4668455a-6fe9-4d57-fa6e-377920bec3c6"
      },
      "execution_count": 66,
      "outputs": [
        {
          "output_type": "execute_result",
          "data": {
            "text/plain": [
              "1"
            ]
          },
          "metadata": {},
          "execution_count": 66
        }
      ]
    },
    {
      "cell_type": "code",
      "source": [
        "np.sum(arr3)  ## give sum of entire elements and its inbuilt funnction."
      ],
      "metadata": {
        "colab": {
          "base_uri": "https://localhost:8080/"
        },
        "id": "sZBCmmeU6Gjh",
        "outputId": "bfff1f85-0fe3-445e-b54f-ea267d00834d"
      },
      "execution_count": 68,
      "outputs": [
        {
          "output_type": "execute_result",
          "data": {
            "text/plain": [
              "35"
            ]
          },
          "metadata": {},
          "execution_count": 68
        }
      ]
    },
    {
      "cell_type": "code",
      "source": [
        "np.unique(arr3)   ##ignore the duplicates elements."
      ],
      "metadata": {
        "colab": {
          "base_uri": "https://localhost:8080/"
        },
        "id": "hNykC-tD6MZj",
        "outputId": "832cdb3b-0700-4a27-8fcc-ee1c2ab18bfe"
      },
      "execution_count": 70,
      "outputs": [
        {
          "output_type": "execute_result",
          "data": {
            "text/plain": [
              "array([1, 2, 3, 4, 6, 7])"
            ]
          },
          "metadata": {},
          "execution_count": 70
        }
      ]
    },
    {
      "cell_type": "code",
      "source": [],
      "metadata": {
        "id": "zF49q2u46UXG"
      },
      "execution_count": null,
      "outputs": []
    },
    {
      "cell_type": "markdown",
      "source": [
        "## STASTICAL MEASURE ARE MEAN ,MEDIAN AND MODE\n",
        "\n",
        "1) MEAN :-- The mean is commonly used in data analysis to find the \"central\" value of a set of numbers.\n",
        "\n",
        "rough:-- first create arry and then find the mean.\n"
      ],
      "metadata": {
        "id": "ODRKo4br6qMR"
      }
    },
    {
      "cell_type": "code",
      "source": [
        "arr3"
      ],
      "metadata": {
        "colab": {
          "base_uri": "https://localhost:8080/"
        },
        "id": "w0xLQIvu7wAj",
        "outputId": "0a2da9e3-8eee-4d1c-9844-a7f78e1ff817"
      },
      "execution_count": 71,
      "outputs": [
        {
          "output_type": "execute_result",
          "data": {
            "text/plain": [
              "array([1, 2, 2, 3, 4, 4, 6, 7, 6])"
            ]
          },
          "metadata": {},
          "execution_count": 71
        }
      ]
    },
    {
      "cell_type": "code",
      "source": [
        "np.mean(arr3)"
      ],
      "metadata": {
        "colab": {
          "base_uri": "https://localhost:8080/"
        },
        "id": "H5l5TTnt7zeK",
        "outputId": "7ada8a7c-6691-41c8-c864-1b067ca4f758"
      },
      "execution_count": 73,
      "outputs": [
        {
          "output_type": "execute_result",
          "data": {
            "text/plain": [
              "3.888888888888889"
            ]
          },
          "metadata": {},
          "execution_count": 73
        }
      ]
    },
    {
      "cell_type": "code",
      "source": [
        "arr2"
      ],
      "metadata": {
        "colab": {
          "base_uri": "https://localhost:8080/"
        },
        "id": "4B4hSSW-71nT",
        "outputId": "58cad386-e600-4867-bca8-e64687d415cd"
      },
      "execution_count": 74,
      "outputs": [
        {
          "output_type": "execute_result",
          "data": {
            "text/plain": [
              "array([3, 1, 9, 8, 6, 4])"
            ]
          },
          "metadata": {},
          "execution_count": 74
        }
      ]
    },
    {
      "cell_type": "code",
      "source": [
        "np.mean(arr2)"
      ],
      "metadata": {
        "colab": {
          "base_uri": "https://localhost:8080/"
        },
        "id": "216hHKRL75BK",
        "outputId": "17faecb6-5264-4aeb-fba4-e7dcb9ef7698"
      },
      "execution_count": 76,
      "outputs": [
        {
          "output_type": "execute_result",
          "data": {
            "text/plain": [
              "5.166666666666667"
            ]
          },
          "metadata": {},
          "execution_count": 76
        }
      ]
    },
    {
      "cell_type": "markdown",
      "source": [
        "2 ) MEDIAN :-- We use the median when we want to find the middle value of a set of numbers, especially when the data includes extreme values (outliers).\n",
        "\n",
        "what is outliers :-- its like odd one out.(An outlier is a number in a set of data that is much larger or smaller than the other numbers)"
      ],
      "metadata": {
        "id": "6X6o0_lF8e92"
      }
    },
    {
      "cell_type": "code",
      "source": [
        "arr3"
      ],
      "metadata": {
        "colab": {
          "base_uri": "https://localhost:8080/"
        },
        "id": "nVQC-M_p9FmR",
        "outputId": "9f1dec30-24c1-4792-b771-50e84554335d"
      },
      "execution_count": 77,
      "outputs": [
        {
          "output_type": "execute_result",
          "data": {
            "text/plain": [
              "array([1, 2, 2, 3, 4, 4, 6, 7, 6])"
            ]
          },
          "metadata": {},
          "execution_count": 77
        }
      ]
    },
    {
      "cell_type": "code",
      "source": [
        "np.median(arr3)"
      ],
      "metadata": {
        "colab": {
          "base_uri": "https://localhost:8080/"
        },
        "id": "H9LpEvK39GPd",
        "outputId": "eb552fdc-ffe9-4f42-e0f6-0c9cac1c9a54"
      },
      "execution_count": 78,
      "outputs": [
        {
          "output_type": "execute_result",
          "data": {
            "text/plain": [
              "4.0"
            ]
          },
          "metadata": {},
          "execution_count": 78
        }
      ]
    },
    {
      "cell_type": "code",
      "source": [
        "arr2"
      ],
      "metadata": {
        "colab": {
          "base_uri": "https://localhost:8080/"
        },
        "id": "F2CKBMpV9Ilh",
        "outputId": "764c90f8-91cb-45c4-fa75-2cfa34f3236b"
      },
      "execution_count": 79,
      "outputs": [
        {
          "output_type": "execute_result",
          "data": {
            "text/plain": [
              "array([3, 1, 9, 8, 6, 4])"
            ]
          },
          "metadata": {},
          "execution_count": 79
        }
      ]
    },
    {
      "cell_type": "code",
      "source": [
        "np.median(arr2)"
      ],
      "metadata": {
        "colab": {
          "base_uri": "https://localhost:8080/"
        },
        "id": "H0gSwu4j9Jx4",
        "outputId": "b4742577-02e9-4b3b-fc3a-4d11cdf10f17"
      },
      "execution_count": 80,
      "outputs": [
        {
          "output_type": "execute_result",
          "data": {
            "text/plain": [
              "5.0"
            ]
          },
          "metadata": {},
          "execution_count": 80
        }
      ]
    },
    {
      "cell_type": "code",
      "source": [],
      "metadata": {
        "id": "TgP0pF_99LPL"
      },
      "execution_count": null,
      "outputs": []
    },
    {
      "cell_type": "markdown",
      "source": [
        "3) MODE :--- The mode when we want to find the most frequent value in a dataset. It helps us understand which value is most common.\n",
        "\n",
        "-- For mode ,we need to first import the library like scipy (Scirntific python)\n"
      ],
      "metadata": {
        "id": "zB3aZkVJ-aWC"
      }
    },
    {
      "cell_type": "code",
      "source": [
        "from scipy import stats   ## importing the scipy"
      ],
      "metadata": {
        "id": "nw1ryifn_Flb"
      },
      "execution_count": 83,
      "outputs": []
    },
    {
      "cell_type": "code",
      "source": [
        "arr3"
      ],
      "metadata": {
        "colab": {
          "base_uri": "https://localhost:8080/"
        },
        "id": "IgK8xasE_JbY",
        "outputId": "e3b1429e-0037-471e-856c-e06075f57fb0"
      },
      "execution_count": 84,
      "outputs": [
        {
          "output_type": "execute_result",
          "data": {
            "text/plain": [
              "array([1, 2, 2, 3, 4, 4, 6, 7, 6])"
            ]
          },
          "metadata": {},
          "execution_count": 84
        }
      ]
    },
    {
      "cell_type": "code",
      "source": [
        "stats.mode(arr3)"
      ],
      "metadata": {
        "colab": {
          "base_uri": "https://localhost:8080/"
        },
        "id": "85YvgdGz_cCA",
        "outputId": "277dbf21-3f54-42a3-eadb-59e7ba69de5a"
      },
      "execution_count": 85,
      "outputs": [
        {
          "output_type": "execute_result",
          "data": {
            "text/plain": [
              "ModeResult(mode=2, count=2)"
            ]
          },
          "metadata": {},
          "execution_count": 85
        }
      ]
    },
    {
      "cell_type": "code",
      "source": [
        "stats.mode(arr2)"
      ],
      "metadata": {
        "colab": {
          "base_uri": "https://localhost:8080/"
        },
        "id": "vO8WXgYy_inh",
        "outputId": "32ff654b-99f1-4804-a0b7-0ea06f1609e6"
      },
      "execution_count": 86,
      "outputs": [
        {
          "output_type": "execute_result",
          "data": {
            "text/plain": [
              "ModeResult(mode=1, count=1)"
            ]
          },
          "metadata": {},
          "execution_count": 86
        }
      ]
    },
    {
      "cell_type": "markdown",
      "source": [
        "## VARIENCE :-- TO UNDERSTAND THE DATA SPREAD\n",
        "\n",
        "-- Varience understand that how much number differ from the avaerage value in your data.\n",
        "\n",
        "1) If number are close to the average that mean varience is low.\n",
        "\n",
        "2)If number are far away from the average that mean varience is high."
      ],
      "metadata": {
        "id": "iiz4UBTqy8ps"
      }
    },
    {
      "cell_type": "code",
      "source": [
        "import numpy as np"
      ],
      "metadata": {
        "id": "XXOW0ByHzV1c"
      },
      "execution_count": 6,
      "outputs": []
    },
    {
      "cell_type": "code",
      "source": [
        "arr4 = np.array([1,5,6,3,8,9])"
      ],
      "metadata": {
        "id": "VBmITxnPzjav"
      },
      "execution_count": 8,
      "outputs": []
    },
    {
      "cell_type": "code",
      "source": [
        "arr4"
      ],
      "metadata": {
        "colab": {
          "base_uri": "https://localhost:8080/"
        },
        "id": "g7bTnJ61zW4h",
        "outputId": "973340d4-58bf-4bcc-ccaf-c6c4a8a5ddd7"
      },
      "execution_count": 9,
      "outputs": [
        {
          "output_type": "execute_result",
          "data": {
            "text/plain": [
              "array([1, 5, 6, 3, 8, 9])"
            ]
          },
          "metadata": {},
          "execution_count": 9
        }
      ]
    },
    {
      "cell_type": "code",
      "source": [
        "np.var(arr4)"
      ],
      "metadata": {
        "colab": {
          "base_uri": "https://localhost:8080/"
        },
        "id": "L00Sfj1FzyEM",
        "outputId": "911cf6c3-4345-49ff-e3f3-1f45eeacb34d"
      },
      "execution_count": 10,
      "outputs": [
        {
          "output_type": "execute_result",
          "data": {
            "text/plain": [
              "7.5555555555555545"
            ]
          },
          "metadata": {},
          "execution_count": 10
        }
      ]
    },
    {
      "cell_type": "markdown",
      "source": [
        "## STANDARD DEVIATION :-- Standard deviation is just another way to measure how spread out the numbers from the avaerage but it brings the value back to the same units,so its easy to understand.\n",
        "\n",
        "# DIFFERENCE BETWEEN VARIENCE AND THE STANDARD DEVIATION ?\n",
        "\n",
        "1) Varience :- Variance is in squared units (for example, if your data is in meters, variance will be in meters squared).\n",
        "\n",
        "2) Standard deviation is in the same units as the data (if your data is in meters, standard deviation is also in meters)."
      ],
      "metadata": {
        "id": "Jn8Ek7kk0qJM"
      }
    },
    {
      "cell_type": "code",
      "source": [
        "arr4"
      ],
      "metadata": {
        "colab": {
          "base_uri": "https://localhost:8080/"
        },
        "id": "8rQVHUBV2IEX",
        "outputId": "88064ba1-95fe-4652-b87d-1fba8bf3f37b"
      },
      "execution_count": 11,
      "outputs": [
        {
          "output_type": "execute_result",
          "data": {
            "text/plain": [
              "array([1, 5, 6, 3, 8, 9])"
            ]
          },
          "metadata": {},
          "execution_count": 11
        }
      ]
    },
    {
      "cell_type": "code",
      "source": [
        "np.std(arr4)"
      ],
      "metadata": {
        "colab": {
          "base_uri": "https://localhost:8080/"
        },
        "id": "A13fQPmj3YF1",
        "outputId": "02a8567c-5a49-436d-830b-7d9febb3d1a0"
      },
      "execution_count": 12,
      "outputs": [
        {
          "output_type": "execute_result",
          "data": {
            "text/plain": [
              "2.748737083745107"
            ]
          },
          "metadata": {},
          "execution_count": 12
        }
      ]
    },
    {
      "cell_type": "markdown",
      "source": [
        "## Correlation Coefficient :--- TO UNDERSTAND RELATIONSHIP BETWEEN THE DIFFERET VARIABLES\n",
        "\n",
        "-- The coefficient of correlation undersatnd that how strongly two things (variables) are connected."
      ],
      "metadata": {
        "id": "RJltG94W4SKE"
      }
    },
    {
      "cell_type": "code",
      "source": [
        "arr4"
      ],
      "metadata": {
        "colab": {
          "base_uri": "https://localhost:8080/"
        },
        "id": "VlYzTGDU5K52",
        "outputId": "01710124-22fc-4220-ce4f-8dc6fef86a69"
      },
      "execution_count": 15,
      "outputs": [
        {
          "output_type": "execute_result",
          "data": {
            "text/plain": [
              "array([1, 5, 6, 3, 8, 9])"
            ]
          },
          "metadata": {},
          "execution_count": 15
        }
      ]
    },
    {
      "cell_type": "code",
      "source": [
        "np.corrcoef(arr4)"
      ],
      "metadata": {
        "colab": {
          "base_uri": "https://localhost:8080/"
        },
        "id": "sT8O5ozu5L3u",
        "outputId": "dd02d8ee-81e6-472a-d465-0865edf5e072"
      },
      "execution_count": 16,
      "outputs": [
        {
          "output_type": "execute_result",
          "data": {
            "text/plain": [
              "1.0"
            ]
          },
          "metadata": {},
          "execution_count": 16
        }
      ]
    },
    {
      "cell_type": "code",
      "source": [],
      "metadata": {
        "id": "f9ysRJyB5Q4F"
      },
      "execution_count": null,
      "outputs": []
    },
    {
      "cell_type": "markdown",
      "source": [
        "### PERCENTILE :--- Divide the data into 100 equal parts.\n",
        "\n",
        "--Percentiles help break down data and see the spread of values. (पर्सेंटाइल डेटा को तोड़ने और इसके वैल्यूज के फैलाव (spread) को समझने में मदद करते हैं।)\n",
        "\n",
        "--1st quartile (25%)(Q1)\n",
        "\n",
        "-- 2nd quartile (50%)(Q2)\n",
        "\n",
        "-- 3rd quartile (75%)(Q3)\n",
        "\n",
        "-- IQR (interquartile range)= Q3-Q1"
      ],
      "metadata": {
        "id": "geG5zTWF7Ti9"
      }
    },
    {
      "cell_type": "code",
      "source": [
        "arr4"
      ],
      "metadata": {
        "colab": {
          "base_uri": "https://localhost:8080/"
        },
        "id": "YKJM7j6s9xz2",
        "outputId": "176c94cb-3792-451d-d8c9-9cdd678f9517"
      },
      "execution_count": 25,
      "outputs": [
        {
          "output_type": "execute_result",
          "data": {
            "text/plain": [
              "array([1, 5, 6, 3, 8, 9])"
            ]
          },
          "metadata": {},
          "execution_count": 25
        }
      ]
    },
    {
      "cell_type": "code",
      "source": [
        "np.percentile(arr4,25)"
      ],
      "metadata": {
        "colab": {
          "base_uri": "https://localhost:8080/"
        },
        "id": "kdS3w4-x988n",
        "outputId": "c3daec38-3d73-4fb8-97da-467ec41c59a9"
      },
      "execution_count": 26,
      "outputs": [
        {
          "output_type": "execute_result",
          "data": {
            "text/plain": [
              "3.5"
            ]
          },
          "metadata": {},
          "execution_count": 26
        }
      ]
    },
    {
      "cell_type": "code",
      "source": [
        "np.percentile(arr4,50)"
      ],
      "metadata": {
        "colab": {
          "base_uri": "https://localhost:8080/"
        },
        "id": "UyUjSUsK9_jb",
        "outputId": "c2ec5294-6e7d-4448-be00-e35acf8d1302"
      },
      "execution_count": 28,
      "outputs": [
        {
          "output_type": "execute_result",
          "data": {
            "text/plain": [
              "5.5"
            ]
          },
          "metadata": {},
          "execution_count": 28
        }
      ]
    },
    {
      "cell_type": "code",
      "source": [
        "np.percentile(arr4,75)"
      ],
      "metadata": {
        "colab": {
          "base_uri": "https://localhost:8080/"
        },
        "id": "gKwBEaaN-BDD",
        "outputId": "29839920-64e7-4ea6-9e0f-28eb62581ffc"
      },
      "execution_count": 29,
      "outputs": [
        {
          "output_type": "execute_result",
          "data": {
            "text/plain": [
              "7.5"
            ]
          },
          "metadata": {},
          "execution_count": 29
        }
      ]
    },
    {
      "cell_type": "code",
      "source": [
        "np.percentile(arr4,75)-np.percentile(arr4,25)"
      ],
      "metadata": {
        "colab": {
          "base_uri": "https://localhost:8080/"
        },
        "id": "LAYQyOb2-Eng",
        "outputId": "45d5fde5-0ba6-4257-88c6-0652139611ee"
      },
      "execution_count": 30,
      "outputs": [
        {
          "output_type": "execute_result",
          "data": {
            "text/plain": [
              "4.0"
            ]
          },
          "metadata": {},
          "execution_count": 30
        }
      ]
    },
    {
      "cell_type": "markdown",
      "source": [
        "## COVARIENCE :--- If you have two sets of data, covariance helps to show if they both move in the same direction or in opposite directions."
      ],
      "metadata": {
        "id": "eTrQeBkB-pC0"
      }
    },
    {
      "cell_type": "code",
      "source": [
        "x=np.array([1,2,3,4,5])\n",
        "y=np.array([2,5,9,7,8])"
      ],
      "metadata": {
        "id": "U4-U-jvb-LOt"
      },
      "execution_count": 37,
      "outputs": []
    },
    {
      "cell_type": "code",
      "source": [
        "np.cov(x,y)"
      ],
      "metadata": {
        "colab": {
          "base_uri": "https://localhost:8080/"
        },
        "id": "fcBU9_Ra_lTa",
        "outputId": "fd9ca4d9-ca86-44c8-f519-28d4c40665bd"
      },
      "execution_count": 38,
      "outputs": [
        {
          "output_type": "execute_result",
          "data": {
            "text/plain": [
              "array([[2.5, 3.5],\n",
              "       [3.5, 7.7]])"
            ]
          },
          "metadata": {},
          "execution_count": 38
        }
      ]
    },
    {
      "cell_type": "code",
      "source": [
        "np.random.randint(0,50,5)"
      ],
      "metadata": {
        "colab": {
          "base_uri": "https://localhost:8080/"
        },
        "id": "xXNkzDgrAb7U",
        "outputId": "fa4928b6-2c71-4f93-ffb4-5a46aa8d205f"
      },
      "execution_count": 49,
      "outputs": [
        {
          "output_type": "execute_result",
          "data": {
            "text/plain": [
              "array([27, 45, 15, 36, 37])"
            ]
          },
          "metadata": {},
          "execution_count": 49
        }
      ]
    },
    {
      "cell_type": "code",
      "source": [],
      "metadata": {
        "id": "bLfPIwFBA5ay"
      },
      "execution_count": 47,
      "outputs": []
    },
    {
      "cell_type": "markdown",
      "source": [
        "## .RANDOM :--- Random in Python is used to generate random numbers or make random choices from a list.like randomly picking a number or shuffling items.\n",
        "\n",
        "## RANDOM FUNCTION :---\n",
        "1) .random.rand() :-- Get a random float between 0 and 1.\n",
        "\n",
        "2) .random.randint(a,b) :-Get a random integer between a and b\n",
        "\n",
        "3) np.random.randn :--- for normal(n) disctribution."
      ],
      "metadata": {
        "id": "dOEHEnFLBeuB"
      }
    },
    {
      "cell_type": "code",
      "source": [
        "np.random.rand(10)   # Get a random float between 0 and 1."
      ],
      "metadata": {
        "colab": {
          "base_uri": "https://localhost:8080/"
        },
        "id": "yBOSWjzGCBik",
        "outputId": "014dbad8-80e7-439a-f54c-946832245aac"
      },
      "execution_count": 52,
      "outputs": [
        {
          "output_type": "execute_result",
          "data": {
            "text/plain": [
              "array([0.44950311, 0.58751577, 0.52663042, 0.49622387, 0.51359757,\n",
              "       0.62320091, 0.01107503, 0.80072656, 0.31823382, 0.90310068])"
            ]
          },
          "metadata": {},
          "execution_count": 52
        }
      ]
    },
    {
      "cell_type": "code",
      "source": [
        "np.random.randint(1,100)"
      ],
      "metadata": {
        "colab": {
          "base_uri": "https://localhost:8080/"
        },
        "id": "xHtoAIm4CxzY",
        "outputId": "88f4a3ba-1577-4b03-e920-295c6ec9356a"
      },
      "execution_count": 65,
      "outputs": [
        {
          "output_type": "execute_result",
          "data": {
            "text/plain": [
              "67"
            ]
          },
          "metadata": {},
          "execution_count": 65
        }
      ]
    },
    {
      "cell_type": "code",
      "source": [
        "np.random.randn(2)"
      ],
      "metadata": {
        "colab": {
          "base_uri": "https://localhost:8080/"
        },
        "id": "a821VYVMDdlA",
        "outputId": "b2a448e3-6486-4267-bfcb-908f25e1e9a5"
      },
      "execution_count": 68,
      "outputs": [
        {
          "output_type": "execute_result",
          "data": {
            "text/plain": [
              "array([-0.86576891, -0.38373731])"
            ]
          },
          "metadata": {},
          "execution_count": 68
        }
      ]
    },
    {
      "cell_type": "code",
      "source": [],
      "metadata": {
        "id": "0kJfrIX8EJSs"
      },
      "execution_count": null,
      "outputs": []
    }
  ]
}