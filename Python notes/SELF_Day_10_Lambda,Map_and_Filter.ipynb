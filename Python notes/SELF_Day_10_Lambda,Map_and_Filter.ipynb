{
  "nbformat": 4,
  "nbformat_minor": 0,
  "metadata": {
    "colab": {
      "provenance": []
    },
    "kernelspec": {
      "name": "python3",
      "display_name": "Python 3"
    },
    "language_info": {
      "name": "python"
    }
  },
  "cells": [
    {
      "cell_type": "code",
      "execution_count": 16,
      "metadata": {
        "id": "PzH-xO1va9Qa"
      },
      "outputs": [],
      "source": [
        "### LAMBDA :--       (USE FOR ONLY ONE VALUE)\n",
        "## Lambda is use for the short and anynomous function.\n",
        "\n",
        "# syntax -\n",
        "###  lambda arguments:expression     (:)sign called as colon."
      ]
    },
    {
      "cell_type": "code",
      "source": [
        "square = lambda a : a* a"
      ],
      "metadata": {
        "id": "QDJ2PaLhc32C"
      },
      "execution_count": 17,
      "outputs": []
    },
    {
      "cell_type": "code",
      "source": [
        "square (5)\n",
        ""
      ],
      "metadata": {
        "colab": {
          "base_uri": "https://localhost:8080/"
        },
        "id": "oJqB7xLpc54Y",
        "outputId": "5d2e80b2-47f8-4396-ddbe-129a11e37e0c"
      },
      "execution_count": 18,
      "outputs": [
        {
          "output_type": "execute_result",
          "data": {
            "text/plain": [
              "25"
            ]
          },
          "metadata": {},
          "execution_count": 18
        }
      ]
    },
    {
      "cell_type": "code",
      "source": [
        "square (10)"
      ],
      "metadata": {
        "colab": {
          "base_uri": "https://localhost:8080/"
        },
        "id": "5B6s1vgYc8ke",
        "outputId": "0caadcc6-0f48-461a-d377-4c5f3945bcb1"
      },
      "execution_count": 19,
      "outputs": [
        {
          "output_type": "execute_result",
          "data": {
            "text/plain": [
              "100"
            ]
          },
          "metadata": {},
          "execution_count": 19
        }
      ]
    },
    {
      "cell_type": "code",
      "source": [
        "add= lambda a,b : a+b"
      ],
      "metadata": {
        "id": "Oc3hQMbDc-xe"
      },
      "execution_count": 20,
      "outputs": []
    },
    {
      "cell_type": "code",
      "source": [
        "add (10,20)"
      ],
      "metadata": {
        "colab": {
          "base_uri": "https://localhost:8080/"
        },
        "id": "MKSaEaTWdBqZ",
        "outputId": "54a0577b-d250-4ab8-b1ab-13f1afc1380f"
      },
      "execution_count": 21,
      "outputs": [
        {
          "output_type": "execute_result",
          "data": {
            "text/plain": [
              "30"
            ]
          },
          "metadata": {},
          "execution_count": 21
        }
      ]
    },
    {
      "cell_type": "code",
      "source": [
        "sub = lambda a ,b : a-b"
      ],
      "metadata": {
        "id": "uKMmwUPldDmS"
      },
      "execution_count": 24,
      "outputs": []
    },
    {
      "cell_type": "code",
      "source": [
        "sub (10,5)"
      ],
      "metadata": {
        "colab": {
          "base_uri": "https://localhost:8080/"
        },
        "id": "kXJyHAHFdH11",
        "outputId": "9bebfcdb-d9c9-4b1a-c00b-2092d9266e57"
      },
      "execution_count": 25,
      "outputs": [
        {
          "output_type": "execute_result",
          "data": {
            "text/plain": [
              "5"
            ]
          },
          "metadata": {},
          "execution_count": 25
        }
      ]
    },
    {
      "cell_type": "code",
      "source": [
        "is_even = lambda n : 'even' if n % 2 == 0 else \"odd\""
      ],
      "metadata": {
        "id": "lWUiQqTLdMFr"
      },
      "execution_count": 26,
      "outputs": []
    },
    {
      "cell_type": "code",
      "source": [
        "is_even(10)"
      ],
      "metadata": {
        "colab": {
          "base_uri": "https://localhost:8080/",
          "height": 35
        },
        "id": "jy65c-oSdWKT",
        "outputId": "15920f55-52eb-4da4-9a56-a3f576d6f05b"
      },
      "execution_count": 27,
      "outputs": [
        {
          "output_type": "execute_result",
          "data": {
            "text/plain": [
              "'even'"
            ],
            "application/vnd.google.colaboratory.intrinsic+json": {
              "type": "string"
            }
          },
          "metadata": {},
          "execution_count": 27
        }
      ]
    },
    {
      "cell_type": "code",
      "source": [
        "is_even(5)"
      ],
      "metadata": {
        "colab": {
          "base_uri": "https://localhost:8080/",
          "height": 35
        },
        "id": "9uvQCasUdXgf",
        "outputId": "3a6dcd6c-0dd5-4b31-d185-16ad6e41d031"
      },
      "execution_count": 29,
      "outputs": [
        {
          "output_type": "execute_result",
          "data": {
            "text/plain": [
              "'odd'"
            ],
            "application/vnd.google.colaboratory.intrinsic+json": {
              "type": "string"
            }
          },
          "metadata": {},
          "execution_count": 29
        }
      ]
    },
    {
      "cell_type": "code",
      "source": [
        "#MAP -------------\n",
        " # map ( use for all items in an iterable(list, tuple))\n",
        "#map never use alone- map always use with lambda"
      ],
      "metadata": {
        "id": "eg_zU4T2dZHD"
      },
      "execution_count": 30,
      "outputs": []
    },
    {
      "cell_type": "code",
      "source": [
        "num = [1,2,3,4,5]\n",
        "num1 =[1,2,3,4]\n"
      ],
      "metadata": {
        "id": "-xTQXS1Rdw8u"
      },
      "execution_count": 47,
      "outputs": []
    },
    {
      "cell_type": "code",
      "source": [
        "square = set(map(lambda a : a*a,num))      ##set :- we want the o/p in set braces >> map gives all items o/p"
      ],
      "metadata": {
        "id": "LGJMqMmAd5zI"
      },
      "execution_count": 48,
      "outputs": []
    },
    {
      "cell_type": "code",
      "source": [
        "square"
      ],
      "metadata": {
        "colab": {
          "base_uri": "https://localhost:8080/"
        },
        "id": "wzhQ6ipWeB7T",
        "outputId": "267d50ac-af29-45f7-dff5-3fd9825074a0"
      },
      "execution_count": 43,
      "outputs": [
        {
          "output_type": "execute_result",
          "data": {
            "text/plain": [
              "{1, 4, 9, 16, 25}"
            ]
          },
          "metadata": {},
          "execution_count": 43
        }
      ]
    },
    {
      "cell_type": "code",
      "source": [
        "add = tuple(map(lambda a,b : a + b,num,num1))   ## i want o/p in tuple(in paranthesis braces)"
      ],
      "metadata": {
        "id": "fkUhGwCdeMrE"
      },
      "execution_count": 50,
      "outputs": []
    },
    {
      "cell_type": "code",
      "source": [
        "add"
      ],
      "metadata": {
        "colab": {
          "base_uri": "https://localhost:8080/"
        },
        "id": "-tZ7ytcWeqZ7",
        "outputId": "381ed86a-ec0c-45b8-c640-39fbdae0deb1"
      },
      "execution_count": 51,
      "outputs": [
        {
          "output_type": "execute_result",
          "data": {
            "text/plain": [
              "(2, 4, 6, 8)"
            ]
          },
          "metadata": {},
          "execution_count": 51
        }
      ]
    },
    {
      "cell_type": "code",
      "source": [
        "double = set(map(lambda n :n+1,num1))"
      ],
      "metadata": {
        "id": "7KVZEbBtfFGk"
      },
      "execution_count": 52,
      "outputs": []
    },
    {
      "cell_type": "code",
      "source": [
        "double"
      ],
      "metadata": {
        "colab": {
          "base_uri": "https://localhost:8080/"
        },
        "id": "OmhnKyMbfb_v",
        "outputId": "377e4dfb-dde7-4ef2-946a-d5667580a60a"
      },
      "execution_count": 53,
      "outputs": [
        {
          "output_type": "execute_result",
          "data": {
            "text/plain": [
              "{2, 3, 4, 5}"
            ]
          },
          "metadata": {},
          "execution_count": 53
        }
      ]
    },
    {
      "cell_type": "code",
      "source": [
        "double = list(map(lambda n : n*2,num1))"
      ],
      "metadata": {
        "id": "AriD4PxrfdMN"
      },
      "execution_count": 54,
      "outputs": []
    },
    {
      "cell_type": "code",
      "source": [
        "double"
      ],
      "metadata": {
        "colab": {
          "base_uri": "https://localhost:8080/"
        },
        "id": "IRbxcXbUfo_F",
        "outputId": "dbe1376e-a03d-4488-fe3c-40808b5a9601"
      },
      "execution_count": 55,
      "outputs": [
        {
          "output_type": "execute_result",
          "data": {
            "text/plain": [
              "[2, 4, 6, 8]"
            ]
          },
          "metadata": {},
          "execution_count": 55
        }
      ]
    },
    {
      "cell_type": "code",
      "source": [
        "### FILTER ---------\n",
        "# filter with condition and always use with lambda."
      ],
      "metadata": {
        "id": "_yvJSDy0fqa2"
      },
      "execution_count": 56,
      "outputs": []
    },
    {
      "cell_type": "code",
      "source": [
        "num=[1,2,3,4,5,6]"
      ],
      "metadata": {
        "id": "X88lJmISgCII"
      },
      "execution_count": 57,
      "outputs": []
    },
    {
      "cell_type": "code",
      "source": [
        "is_even = set(filter(lambda n : n % 2 == 0,num))"
      ],
      "metadata": {
        "id": "OqhWPgnHgI31"
      },
      "execution_count": 58,
      "outputs": []
    },
    {
      "cell_type": "code",
      "source": [
        "is_even\n"
      ],
      "metadata": {
        "colab": {
          "base_uri": "https://localhost:8080/"
        },
        "id": "eBp_9a6vgfvo",
        "outputId": "6e14122a-6406-4bed-e452-857f07615c18"
      },
      "execution_count": 59,
      "outputs": [
        {
          "output_type": "execute_result",
          "data": {
            "text/plain": [
              "{2, 4, 6}"
            ]
          },
          "metadata": {},
          "execution_count": 59
        }
      ]
    },
    {
      "cell_type": "code",
      "source": [
        "is_odd = list(filter(lambda n :n % 2 != 0,num))  ## (!)use for odd numbers"
      ],
      "metadata": {
        "id": "8xCnhM_HghSQ"
      },
      "execution_count": 63,
      "outputs": []
    },
    {
      "cell_type": "code",
      "source": [
        "is_odd\n"
      ],
      "metadata": {
        "colab": {
          "base_uri": "https://localhost:8080/"
        },
        "id": "R2wWyZixg4WJ",
        "outputId": "bddc3382-2b7d-4b08-bfbf-a2dfd9611df3"
      },
      "execution_count": 64,
      "outputs": [
        {
          "output_type": "execute_result",
          "data": {
            "text/plain": [
              "[1, 3, 5]"
            ]
          },
          "metadata": {},
          "execution_count": 64
        }
      ]
    },
    {
      "cell_type": "code",
      "source": [
        "num = [5,12,7,22,4,25,9,6,18]"
      ],
      "metadata": {
        "id": "IEK52rH_g6i2"
      },
      "execution_count": 68,
      "outputs": []
    },
    {
      "cell_type": "code",
      "source": [
        "greater_than_10 = set(filter(lambda n : n > 10,num))"
      ],
      "metadata": {
        "id": "Wlb-H9_thgwI"
      },
      "execution_count": 69,
      "outputs": []
    },
    {
      "cell_type": "code",
      "source": [
        "greater_than_10"
      ],
      "metadata": {
        "colab": {
          "base_uri": "https://localhost:8080/"
        },
        "id": "u1nUOVnehqbB",
        "outputId": "3892b3cc-34f8-401e-e7ad-030d6fbbb953"
      },
      "execution_count": 70,
      "outputs": [
        {
          "output_type": "execute_result",
          "data": {
            "text/plain": [
              "{12, 18, 22, 25}"
            ]
          },
          "metadata": {},
          "execution_count": 70
        }
      ]
    },
    {
      "cell_type": "code",
      "source": [
        "less_than_10 = tuple(filter(lambda n : n <10,num))"
      ],
      "metadata": {
        "id": "IpBPICH9hr8P"
      },
      "execution_count": 71,
      "outputs": []
    },
    {
      "cell_type": "code",
      "source": [
        "less_than_10"
      ],
      "metadata": {
        "colab": {
          "base_uri": "https://localhost:8080/"
        },
        "id": "eiThpOdLh6aL",
        "outputId": "52f401f1-2733-406e-dc33-9326a192a0d9"
      },
      "execution_count": 72,
      "outputs": [
        {
          "output_type": "execute_result",
          "data": {
            "text/plain": [
              "(5, 7, 4, 9, 6)"
            ]
          },
          "metadata": {},
          "execution_count": 72
        }
      ]
    },
    {
      "cell_type": "code",
      "source": [],
      "metadata": {
        "id": "zVawBOVFh8LQ"
      },
      "execution_count": null,
      "outputs": []
    }
  ]
}