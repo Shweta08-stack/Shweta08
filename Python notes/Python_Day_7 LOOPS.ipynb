{
  "nbformat": 4,
  "nbformat_minor": 0,
  "metadata": {
    "colab": {
      "provenance": []
    },
    "kernelspec": {
      "name": "python3",
      "display_name": "Python 3"
    },
    "language_info": {
      "name": "python"
    }
  },
  "cells": [
    {
      "cell_type": "markdown",
      "source": [
        "#Loops -\n",
        "\n",
        "# for loop - used for intering over sequence\n",
        "\n",
        "# while loop - runs as long as condition is True"
      ],
      "metadata": {
        "id": "DzE7MLtQzEBl"
      }
    },
    {
      "cell_type": "code",
      "execution_count": 2,
      "metadata": {
        "colab": {
          "base_uri": "https://localhost:8080/",
          "height": 0
        },
        "id": "XlbaXH4By9Fk",
        "outputId": "08c77cba-4a19-4a17-8035-38bd3fa15657"
      },
      "outputs": [
        {
          "output_type": "stream",
          "name": "stdout",
          "text": [
            "2\n",
            "4\n",
            "5\n",
            "6\n",
            "7\n"
          ]
        }
      ],
      "source": [
        "for i in [2,4,5,6,7]:\n",
        "  print (i)"
      ]
    },
    {
      "cell_type": "code",
      "source": [
        "for i in range(5):\n",
        "  print(i)"
      ],
      "metadata": {
        "colab": {
          "base_uri": "https://localhost:8080/",
          "height": 0
        },
        "id": "5rPdYFs3z1Pq",
        "outputId": "5dc274fb-5e14-4824-83aa-50a9c649cc64"
      },
      "execution_count": 3,
      "outputs": [
        {
          "output_type": "stream",
          "name": "stdout",
          "text": [
            "0\n",
            "1\n",
            "2\n",
            "3\n",
            "4\n"
          ]
        }
      ]
    },
    {
      "cell_type": "code",
      "source": [
        "#indentation is a one TAB space\n",
        "fruits = [\"apple\", \"banana\", \"cherry\"]\n",
        "for i in fruits:\n",
        "  print(i)"
      ],
      "metadata": {
        "colab": {
          "base_uri": "https://localhost:8080/",
          "height": 0
        },
        "id": "DaTnnc4J0Ntb",
        "outputId": "a46a33c5-0519-4d39-d34c-550e1443f76e"
      },
      "execution_count": 6,
      "outputs": [
        {
          "output_type": "stream",
          "name": "stdout",
          "text": [
            "apple\n",
            "banana\n",
            "cherry\n"
          ]
        }
      ]
    },
    {
      "cell_type": "code",
      "source": [
        "for a in \"Python\":\n",
        "  print(a)"
      ],
      "metadata": {
        "colab": {
          "base_uri": "https://localhost:8080/",
          "height": 0
        },
        "id": "Vp_b3cNC0iEW",
        "outputId": "beba2f6c-3387-4881-ac34-1c9be997a24b"
      },
      "execution_count": 7,
      "outputs": [
        {
          "output_type": "stream",
          "name": "stdout",
          "text": [
            "P\n",
            "y\n",
            "t\n",
            "h\n",
            "o\n",
            "n\n"
          ]
        }
      ]
    },
    {
      "cell_type": "code",
      "source": [
        "for a in (20,45.9,\"tushar\",True):\n",
        "  print(a)"
      ],
      "metadata": {
        "colab": {
          "base_uri": "https://localhost:8080/",
          "height": 0
        },
        "id": "qdPLtOBE1Hg7",
        "outputId": "ae78a508-04d1-4b45-fc0a-dcc7f94d92dd"
      },
      "execution_count": 9,
      "outputs": [
        {
          "output_type": "stream",
          "name": "stdout",
          "text": [
            "20\n",
            "45.9\n",
            "tushar\n",
            "True\n"
          ]
        }
      ]
    },
    {
      "cell_type": "code",
      "source": [
        "student ={\"name\":\"aditya\", \"age\":25, \"grade\":\"A\"}"
      ],
      "metadata": {
        "id": "q0XUh7O21XM5"
      },
      "execution_count": 10,
      "outputs": []
    },
    {
      "cell_type": "code",
      "source": [
        "student.values()"
      ],
      "metadata": {
        "colab": {
          "base_uri": "https://localhost:8080/",
          "height": 0
        },
        "id": "iRUQcwwJ10oF",
        "outputId": "1a25a00e-fb1b-41d0-8550-c6e798f306ce"
      },
      "execution_count": 11,
      "outputs": [
        {
          "output_type": "execute_result",
          "data": {
            "text/plain": [
              "dict_values(['aditya', 25, 'A'])"
            ]
          },
          "metadata": {},
          "execution_count": 11
        }
      ]
    },
    {
      "cell_type": "code",
      "source": [
        "student.keys()"
      ],
      "metadata": {
        "colab": {
          "base_uri": "https://localhost:8080/",
          "height": 0
        },
        "id": "fmwCPR5Y16WK",
        "outputId": "460eb4ca-e2c6-4d9c-d8ad-e9d9e6737b2d"
      },
      "execution_count": 12,
      "outputs": [
        {
          "output_type": "execute_result",
          "data": {
            "text/plain": [
              "dict_keys(['name', 'age', 'grade'])"
            ]
          },
          "metadata": {},
          "execution_count": 12
        }
      ]
    },
    {
      "cell_type": "code",
      "source": [
        "student.items()"
      ],
      "metadata": {
        "colab": {
          "base_uri": "https://localhost:8080/",
          "height": 0
        },
        "id": "RjIhO2Wd18FA",
        "outputId": "0b8988bf-88c8-4ab8-e9c8-bdf8daf193f4"
      },
      "execution_count": 13,
      "outputs": [
        {
          "output_type": "execute_result",
          "data": {
            "text/plain": [
              "dict_items([('name', 'aditya'), ('age', 25), ('grade', 'A')])"
            ]
          },
          "metadata": {},
          "execution_count": 13
        }
      ]
    },
    {
      "cell_type": "code",
      "source": [
        "for i , j in student.items():\n",
        "  print(i,\"=\", j)"
      ],
      "metadata": {
        "colab": {
          "base_uri": "https://localhost:8080/",
          "height": 0
        },
        "id": "ScH4YV6l1-YU",
        "outputId": "d5dd451d-46cd-46fb-b023-86de6f3c1d20"
      },
      "execution_count": 19,
      "outputs": [
        {
          "output_type": "stream",
          "name": "stdout",
          "text": [
            "name = aditya\n",
            "age = 25\n",
            "grade = A\n"
          ]
        }
      ]
    },
    {
      "cell_type": "code",
      "source": [
        "\"=\""
      ],
      "metadata": {
        "colab": {
          "base_uri": "https://localhost:8080/",
          "height": 36
        },
        "id": "pEKu-Mob26aK",
        "outputId": "e18e9379-80f4-46c5-ebf5-09031fa6d18d"
      },
      "execution_count": 17,
      "outputs": [
        {
          "output_type": "execute_result",
          "data": {
            "text/plain": [
              "'='"
            ],
            "application/vnd.google.colaboratory.intrinsic+json": {
              "type": "string"
            }
          },
          "metadata": {},
          "execution_count": 17
        }
      ]
    },
    {
      "cell_type": "code",
      "source": [
        "#nested for loop"
      ],
      "metadata": {
        "id": "fed3nIQK3Xhe"
      },
      "execution_count": 20,
      "outputs": []
    },
    {
      "cell_type": "code",
      "source": [
        "for i in range(3):\n",
        "  for j in range(3):\n",
        "    print(f\"(i = {i}, j = {j})\")"
      ],
      "metadata": {
        "colab": {
          "base_uri": "https://localhost:8080/",
          "height": 0
        },
        "id": "QUo3jTn936GY",
        "outputId": "5edca163-6ac2-42a8-c060-7c8e1151d3b6"
      },
      "execution_count": 27,
      "outputs": [
        {
          "output_type": "stream",
          "name": "stdout",
          "text": [
            "(i = 0, j = 0)\n",
            "(i = 0, j = 1)\n",
            "(i = 0, j = 2)\n",
            "(i = 1, j = 0)\n",
            "(i = 1, j = 1)\n",
            "(i = 1, j = 2)\n",
            "(i = 2, j = 0)\n",
            "(i = 2, j = 1)\n",
            "(i = 2, j = 2)\n"
          ]
        }
      ]
    },
    {
      "cell_type": "markdown",
      "source": [
        "#while"
      ],
      "metadata": {
        "id": "nAuItmEo47zO"
      }
    },
    {
      "cell_type": "code",
      "source": [
        "i = 3\n",
        "while i <= 5:\n",
        "  print(i)\n",
        "  i = i + 1"
      ],
      "metadata": {
        "colab": {
          "base_uri": "https://localhost:8080/"
        },
        "id": "7i5tw-RO4VDF",
        "outputId": "caa3162a-eab6-4518-a639-0b91012af5da"
      },
      "execution_count": 35,
      "outputs": [
        {
          "output_type": "stream",
          "name": "stdout",
          "text": [
            "3\n",
            "4\n",
            "5\n"
          ]
        }
      ]
    },
    {
      "cell_type": "code",
      "source": [
        "#Fibonacci sequence"
      ],
      "metadata": {
        "id": "kBZ6HPKS6ESm"
      },
      "execution_count": 36,
      "outputs": []
    },
    {
      "cell_type": "code",
      "source": [
        "a = 0\n",
        "b = 1\n",
        "while b < 100:\n",
        "  print(b, end = \" \")\n",
        "  temp = b\n",
        "  b = a + b\n",
        "  a = temp\n",
        "\n",
        ""
      ],
      "metadata": {
        "colab": {
          "base_uri": "https://localhost:8080/"
        },
        "id": "Dw3KP-cq8shh",
        "outputId": "b3294b18-1dc9-47d4-e11c-070c13f32b58"
      },
      "execution_count": 45,
      "outputs": [
        {
          "output_type": "stream",
          "name": "stdout",
          "text": [
            "1 1 2 3 5 8 13 21 34 55 89 "
          ]
        }
      ]
    },
    {
      "cell_type": "code",
      "source": [
        "#factorial"
      ],
      "metadata": {
        "id": "4EIFUNxS9Syv"
      },
      "execution_count": 46,
      "outputs": []
    },
    {
      "cell_type": "code",
      "source": [
        "num = 5\n",
        "fact = 1\n",
        "while num > 1:\n",
        "  temp = num # current value in temp\n",
        "  fact = fact * temp\n",
        "  num = temp - 1\n",
        "\n",
        "print(\"factorial of num is:- \", fact)"
      ],
      "metadata": {
        "colab": {
          "base_uri": "https://localhost:8080/"
        },
        "id": "Q4IJxT6TATYC",
        "outputId": "38a5faa0-7921-40f5-9816-d771f887dc09"
      },
      "execution_count": 47,
      "outputs": [
        {
          "output_type": "stream",
          "name": "stdout",
          "text": [
            "factorial of num is:-  120\n"
          ]
        }
      ]
    },
    {
      "cell_type": "code",
      "source": [
        "num = 1234"
      ],
      "metadata": {
        "id": "ejbmo0ijA_87"
      },
      "execution_count": 48,
      "outputs": []
    },
    {
      "cell_type": "code",
      "source": [
        "num % 10"
      ],
      "metadata": {
        "colab": {
          "base_uri": "https://localhost:8080/"
        },
        "id": "SfaD6WZMDbBS",
        "outputId": "e459aa30-d942-4934-8489-1e46d784b948"
      },
      "execution_count": 49,
      "outputs": [
        {
          "output_type": "execute_result",
          "data": {
            "text/plain": [
              "4"
            ]
          },
          "metadata": {},
          "execution_count": 49
        }
      ]
    },
    {
      "cell_type": "code",
      "source": [
        "num // 10"
      ],
      "metadata": {
        "colab": {
          "base_uri": "https://localhost:8080/"
        },
        "id": "v-j9aDH_DcLN",
        "outputId": "31c52f84-e616-4e1f-8994-af14d5d70e09"
      },
      "execution_count": 50,
      "outputs": [
        {
          "output_type": "execute_result",
          "data": {
            "text/plain": [
              "123"
            ]
          },
          "metadata": {},
          "execution_count": 50
        }
      ]
    },
    {
      "cell_type": "code",
      "source": [
        "num ="
      ],
      "metadata": {
        "id": "u4mEX5P6DeeW"
      },
      "execution_count": null,
      "outputs": []
    }
  ]
}