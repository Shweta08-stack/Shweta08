{
  "nbformat": 4,
  "nbformat_minor": 0,
  "metadata": {
    "colab": {
      "provenance": []
    },
    "kernelspec": {
      "name": "python3",
      "display_name": "Python 3"
    },
    "language_info": {
      "name": "python"
    }
  },
  "cells": [
    {
      "cell_type": "code",
      "execution_count": 1,
      "metadata": {
        "id": "Rcve1-JnUnu1"
      },
      "outputs": [],
      "source": [
        "#check - positive, negative or zero"
      ]
    },
    {
      "cell_type": "code",
      "source": [
        "num = int(input(\"Enter a number :- \"))\n",
        "if num > 0:\n",
        "  print(\"positive\")\n",
        "elif num < 0:\n",
        "  print(\"negative\")\n",
        "else:\n",
        "  print(\"zero\")"
      ],
      "metadata": {
        "colab": {
          "base_uri": "https://localhost:8080/"
        },
        "id": "WBgeDcucWwW8",
        "outputId": "d3710601-dad5-4275-d328-2b9176e7b9cf"
      },
      "execution_count": 4,
      "outputs": [
        {
          "output_type": "stream",
          "name": "stdout",
          "text": [
            "Enter a number :- 0\n",
            "zero\n"
          ]
        }
      ]
    },
    {
      "cell_type": "code",
      "source": [
        "#minor, adult, seniors"
      ],
      "metadata": {
        "id": "KXHnb0woXEQd"
      },
      "execution_count": 5,
      "outputs": []
    },
    {
      "cell_type": "code",
      "source": [
        "age = int(input(\"enter your age :- \"))\n",
        "if age < 18:\n",
        "  print(\"minor\")\n",
        "elif age < 60:\n",
        "  print(\"adult\")\n",
        "else:\n",
        "  print(\"senior\")"
      ],
      "metadata": {
        "colab": {
          "base_uri": "https://localhost:8080/"
        },
        "id": "fpRj6GI4XQ2Q",
        "outputId": "510119b1-f603-4e74-ffb4-487d894369f6"
      },
      "execution_count": 9,
      "outputs": [
        {
          "output_type": "stream",
          "name": "stdout",
          "text": [
            "enter your age :- 61\n",
            "senior\n"
          ]
        }
      ]
    },
    {
      "cell_type": "code",
      "source": [
        "#even odd"
      ],
      "metadata": {
        "id": "zsAtcbt2XiGS"
      },
      "execution_count": 10,
      "outputs": []
    },
    {
      "cell_type": "code",
      "source": [
        "num = int(input(\"Enter the number :- \"))\n",
        "if num % 2 == 0:\n",
        "  print(\"even\")\n",
        "else:\n",
        "  print(\"odd\")"
      ],
      "metadata": {
        "colab": {
          "base_uri": "https://localhost:8080/"
        },
        "id": "9bvO_ihbXslY",
        "outputId": "dbafaa58-991f-4319-8429-e9b078ab2463"
      },
      "execution_count": 12,
      "outputs": [
        {
          "output_type": "stream",
          "name": "stdout",
          "text": [
            "Enter the number :- 6\n",
            "even\n"
          ]
        }
      ]
    },
    {
      "cell_type": "code",
      "source": [
        "#largetst from 2 number"
      ],
      "metadata": {
        "id": "5fblkiqjX2b6"
      },
      "execution_count": 13,
      "outputs": []
    },
    {
      "cell_type": "code",
      "source": [
        "a = int(input(\"Enter first number :- \"))\n",
        "b = int (input(\"Enter second number:- \"))\n",
        "if a > b:\n",
        "  print(\"largest number is a \", a)\n",
        "else:\n",
        "  print(\"larget number is b \", b)"
      ],
      "metadata": {
        "colab": {
          "base_uri": "https://localhost:8080/"
        },
        "id": "LKbKHK_CX8LV",
        "outputId": "49bfc344-845d-495d-f14d-8b1d510bd0ba"
      },
      "execution_count": 15,
      "outputs": [
        {
          "output_type": "stream",
          "name": "stdout",
          "text": [
            "Enter first number :- 45\n",
            "Enter second number:- 12\n",
            "largest number is a  45\n"
          ]
        }
      ]
    },
    {
      "cell_type": "code",
      "source": [
        "#check divisibal by 5 and 7"
      ],
      "metadata": {
        "id": "8ZtSn2BdYQv9"
      },
      "execution_count": 16,
      "outputs": []
    },
    {
      "cell_type": "code",
      "source": [
        "num = int(input(\"enter the number:- \"))\n",
        "if num % 5 == 0 and num % 7 ==0:\n",
        "  print(\"The number is divisible by 5 and 7 both\")\n",
        "else:\n",
        "  print(\"not divisible by 5 and 7 both\")"
      ],
      "metadata": {
        "colab": {
          "base_uri": "https://localhost:8080/"
        },
        "id": "cO3xsVt9Ybvn",
        "outputId": "2f90f96c-d7fc-4f37-cd49-7b27894d69a1"
      },
      "execution_count": 18,
      "outputs": [
        {
          "output_type": "stream",
          "name": "stdout",
          "text": [
            "enter the number:- 30\n",
            "not divisible by 5 and 7 both\n"
          ]
        }
      ]
    },
    {
      "cell_type": "code",
      "source": [
        "#leap year"
      ],
      "metadata": {
        "id": "K-qllsJfYuBM"
      },
      "execution_count": 19,
      "outputs": []
    },
    {
      "cell_type": "code",
      "source": [
        "year = int(input(\"Enter a year :- \"))\n",
        "\n",
        "if (year % 4 == 0 and year % 100 != 0) or (year % 400 == 0):\n",
        "  print(\"leap year\")\n",
        "else:\n",
        "  print(\"not leap year\")"
      ],
      "metadata": {
        "colab": {
          "base_uri": "https://localhost:8080/"
        },
        "id": "KQh1d2FwZOs0",
        "outputId": "4ed8e43c-e726-4798-97d0-bb773fa6f806"
      },
      "execution_count": 22,
      "outputs": [
        {
          "output_type": "stream",
          "name": "stdout",
          "text": [
            "Enter a year :- 2000\n",
            "leap year\n"
          ]
        }
      ]
    },
    {
      "cell_type": "code",
      "source": [
        "2000"
      ],
      "metadata": {
        "id": "Y9mQzXU9ZlQl"
      },
      "execution_count": null,
      "outputs": []
    }
  ]
}