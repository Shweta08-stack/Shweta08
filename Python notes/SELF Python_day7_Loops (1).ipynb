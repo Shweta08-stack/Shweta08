{
  "nbformat": 4,
  "nbformat_minor": 0,
  "metadata": {
    "colab": {
      "provenance": []
    },
    "kernelspec": {
      "name": "python3",
      "display_name": "Python 3"
    },
    "language_info": {
      "name": "python"
    }
  },
  "cells": [
    {
      "cell_type": "code",
      "execution_count": 1,
      "metadata": {
        "id": "LyCe6I9mZP1S"
      },
      "outputs": [],
      "source": [
        "## LOOPS :-- There are two types of loops 1)FOR LOOPS AND 2)WHILE LOOP"
      ]
    },
    {
      "cell_type": "code",
      "source": [
        "# 1) FOR LOOPS :-----It is used for intering over sequences.\n",
        "# ----- Iteration means taking values one by one (when we write i in a like that so \"i\" is a iteration)\n",
        "# ---- You can take any variable instead of \"i\""
      ],
      "metadata": {
        "id": "EKvrpqeXZkMg"
      },
      "execution_count": 4,
      "outputs": []
    },
    {
      "cell_type": "code",
      "source": [
        "for v in [1,2,3]: # \"v\"is a veriable.\n",
        "   print(v)"
      ],
      "metadata": {
        "colab": {
          "base_uri": "https://localhost:8080/"
        },
        "id": "FpEl2peUaKHg",
        "outputId": "27f4fe00-3d40-4f16-c7ae-84b5612d74ba"
      },
      "execution_count": 10,
      "outputs": [
        {
          "output_type": "stream",
          "name": "stdout",
          "text": [
            "1\n",
            "2\n",
            "3\n"
          ]
        }
      ]
    },
    {
      "cell_type": "code",
      "source": [
        "fruits =['mango','banana','cherry']"
      ],
      "metadata": {
        "id": "bDv6S2rJaWHt"
      },
      "execution_count": 20,
      "outputs": []
    },
    {
      "cell_type": "code",
      "source": [
        "for i in (fruits):  # (:)colon is must ,we end the code with the colon in for loop.\n",
        "  print(i)"
      ],
      "metadata": {
        "colab": {
          "base_uri": "https://localhost:8080/"
        },
        "id": "sszrqleha5vA",
        "outputId": "5b40976b-d8c4-454b-82c7-a0713b0c6df1"
      },
      "execution_count": 23,
      "outputs": [
        {
          "output_type": "stream",
          "name": "stdout",
          "text": [
            "mango\n",
            "banana\n",
            "cherry\n"
          ]
        }
      ]
    },
    {
      "cell_type": "code",
      "source": [
        "fruits =['mango','banana','cherry']"
      ],
      "metadata": {
        "id": "DBj-lKLob5eo"
      },
      "execution_count": 24,
      "outputs": []
    },
    {
      "cell_type": "code",
      "source": [
        "for v in fruits :\n",
        "print(v)   # Indentation error means when we do not give a space before the print ."
      ],
      "metadata": {
        "colab": {
          "base_uri": "https://localhost:8080/",
          "height": 106
        },
        "id": "4hjTGfBscTJV",
        "outputId": "a76f07e3-28f0-464e-fb92-abe7099e1dc0"
      },
      "execution_count": 27,
      "outputs": [
        {
          "output_type": "error",
          "ename": "IndentationError",
          "evalue": "expected an indented block after 'for' statement on line 1 (<ipython-input-27-9519b81d00ef>, line 2)",
          "traceback": [
            "\u001b[0;36m  File \u001b[0;32m\"<ipython-input-27-9519b81d00ef>\"\u001b[0;36m, line \u001b[0;32m2\u001b[0m\n\u001b[0;31m    print(v)\u001b[0m\n\u001b[0m    ^\u001b[0m\n\u001b[0;31mIndentationError\u001b[0m\u001b[0;31m:\u001b[0m expected an indented block after 'for' statement on line 1\n"
          ]
        }
      ]
    },
    {
      "cell_type": "code",
      "source": [
        "emp=['shweta','sakuu']"
      ],
      "metadata": {
        "id": "LOMhAUSkcXF3"
      },
      "execution_count": 28,
      "outputs": []
    },
    {
      "cell_type": "code",
      "source": [
        "for p in emp:\n",
        "  print(p)"
      ],
      "metadata": {
        "colab": {
          "base_uri": "https://localhost:8080/"
        },
        "id": "8yyNeXlXczEj",
        "outputId": "e5b20841-3939-4845-bcde-4f3f6f466864"
      },
      "execution_count": 29,
      "outputs": [
        {
          "output_type": "stream",
          "name": "stdout",
          "text": [
            "shweta\n",
            "sakuu\n"
          ]
        }
      ]
    },
    {
      "cell_type": "code",
      "source": [
        "for v in (10,50,10,50): ## v is just a veriable to iterate the value\n",
        "  print(v)"
      ],
      "metadata": {
        "colab": {
          "base_uri": "https://localhost:8080/"
        },
        "id": "MvUWpEtxdB2o",
        "outputId": "68b55739-58fb-4e20-babc-8af7b475a5ee"
      },
      "execution_count": 30,
      "outputs": [
        {
          "output_type": "stream",
          "name": "stdout",
          "text": [
            "10\n",
            "50\n",
            "10\n",
            "50\n"
          ]
        }
      ]
    },
    {
      "cell_type": "code",
      "source": [
        "for i in ('python'): # i is just a veriable to iterate the value\n",
        "  print(i)"
      ],
      "metadata": {
        "colab": {
          "base_uri": "https://localhost:8080/"
        },
        "id": "cHYu4iPydLdR",
        "outputId": "bd6d37a5-d608-48f6-9654-828180bfd184"
      },
      "execution_count": 32,
      "outputs": [
        {
          "output_type": "stream",
          "name": "stdout",
          "text": [
            "p\n",
            "y\n",
            "t\n",
            "h\n",
            "o\n",
            "n\n"
          ]
        }
      ]
    },
    {
      "cell_type": "code",
      "source": [
        "for b in (10,20.5,'shweta',True): ## b is just a veriavle to iterate the values\n",
        "  print(b)"
      ],
      "metadata": {
        "colab": {
          "base_uri": "https://localhost:8080/"
        },
        "id": "RrpZWNUwdXpf",
        "outputId": "415be08e-ce2d-48aa-b9cd-0060bf5b8daf"
      },
      "execution_count": 33,
      "outputs": [
        {
          "output_type": "stream",
          "name": "stdout",
          "text": [
            "10\n",
            "20.5\n",
            "shweta\n",
            "True\n"
          ]
        }
      ]
    },
    {
      "cell_type": "code",
      "source": [
        "## Another example with dictionary :----give keys and thr values"
      ],
      "metadata": {
        "id": "a_DdET4Adz2N"
      },
      "execution_count": 34,
      "outputs": []
    },
    {
      "cell_type": "code",
      "source": [
        "student={'name':'shweta','age':20,'city':'wardha'}"
      ],
      "metadata": {
        "id": "L9e_FoEricjL"
      },
      "execution_count": 38,
      "outputs": []
    },
    {
      "cell_type": "code",
      "source": [
        "student"
      ],
      "metadata": {
        "colab": {
          "base_uri": "https://localhost:8080/"
        },
        "id": "ol8CNK3gisGz",
        "outputId": "8dbc2430-7c30-4556-9852-db43b908ef80"
      },
      "execution_count": 39,
      "outputs": [
        {
          "output_type": "execute_result",
          "data": {
            "text/plain": [
              "{'name': 'shweta', 'age': 20, 'city': 'wardha'}"
            ]
          },
          "metadata": {},
          "execution_count": 39
        }
      ]
    },
    {
      "cell_type": "code",
      "source": [
        "student.keys()  ## keys give only keys"
      ],
      "metadata": {
        "colab": {
          "base_uri": "https://localhost:8080/"
        },
        "id": "7r23PyX7iuyY",
        "outputId": "1532b1c7-281c-416a-baf5-3ccec898088f"
      },
      "execution_count": 40,
      "outputs": [
        {
          "output_type": "execute_result",
          "data": {
            "text/plain": [
              "dict_keys(['name', 'age', 'city'])"
            ]
          },
          "metadata": {},
          "execution_count": 40
        }
      ]
    },
    {
      "cell_type": "code",
      "source": [
        "student.values()  ## values gives only values"
      ],
      "metadata": {
        "colab": {
          "base_uri": "https://localhost:8080/"
        },
        "id": "6ObZ7iq3jA9z",
        "outputId": "48664ec2-fdef-4ba4-e46f-164c878385ba"
      },
      "execution_count": 41,
      "outputs": [
        {
          "output_type": "execute_result",
          "data": {
            "text/plain": [
              "dict_values(['shweta', 20, 'wardha'])"
            ]
          },
          "metadata": {},
          "execution_count": 41
        }
      ]
    },
    {
      "cell_type": "code",
      "source": [
        "student.items()  ### items gives a output with keys and values"
      ],
      "metadata": {
        "colab": {
          "base_uri": "https://localhost:8080/"
        },
        "id": "GFTtZludjFYD",
        "outputId": "3b74f15d-2833-4d06-f22a-1067e81c0ba9"
      },
      "execution_count": 42,
      "outputs": [
        {
          "output_type": "execute_result",
          "data": {
            "text/plain": [
              "dict_items([('name', 'shweta'), ('age', 20), ('city', 'wardha')])"
            ]
          },
          "metadata": {},
          "execution_count": 42
        }
      ]
    },
    {
      "cell_type": "code",
      "source": [
        "## If we want a values in different variable like :----"
      ],
      "metadata": {
        "id": "1ve0y5sgjHiU"
      },
      "execution_count": 43,
      "outputs": []
    },
    {
      "cell_type": "code",
      "source": [
        "for i,j in student.items(): ## example 1\n",
        "  print(i ,\"=\" ,j )"
      ],
      "metadata": {
        "colab": {
          "base_uri": "https://localhost:8080/"
        },
        "id": "17slzNzZjjCx",
        "outputId": "909780ab-7183-49db-f574-ac52893963c9"
      },
      "execution_count": 45,
      "outputs": [
        {
          "output_type": "stream",
          "name": "stdout",
          "text": [
            "name = shweta\n",
            "age = 20\n",
            "city = wardha\n"
          ]
        }
      ]
    },
    {
      "cell_type": "code",
      "source": [
        "for a,b in student.items():\n",
        "  print (a ,\":\",b)"
      ],
      "metadata": {
        "colab": {
          "base_uri": "https://localhost:8080/"
        },
        "id": "iK7591g3jsEO",
        "outputId": "8b2bbae9-c267-4c92-f66c-f4d93d237d4e"
      },
      "execution_count": 47,
      "outputs": [
        {
          "output_type": "stream",
          "name": "stdout",
          "text": [
            "name : shweta\n",
            "age : 20\n",
            "city : wardha\n"
          ]
        }
      ]
    },
    {
      "cell_type": "code",
      "source": [
        "### Nested for loop ((nested means net, loop in loop))"
      ],
      "metadata": {
        "id": "Sy5GQfjPkGEY"
      },
      "execution_count": 56,
      "outputs": []
    },
    {
      "cell_type": "code",
      "source": [
        "for i in range(2):  ### if range is 2 then gives output less than 2\n",
        "  for j in range (2):\n",
        "    for k in range(2):\n",
        "      print(f\"({i},{j},{k})\")\n"
      ],
      "metadata": {
        "colab": {
          "base_uri": "https://localhost:8080/"
        },
        "id": "LSHb1IDSkVWG",
        "outputId": "42d10d31-343c-4206-b552-89ef9720c5b5"
      },
      "execution_count": 58,
      "outputs": [
        {
          "output_type": "stream",
          "name": "stdout",
          "text": [
            "(0,0,0)\n",
            "(0,0,1)\n",
            "(0,1,0)\n",
            "(0,1,1)\n",
            "(1,0,0)\n",
            "(1,0,1)\n",
            "(1,1,0)\n",
            "(1,1,1)\n"
          ]
        }
      ]
    },
    {
      "cell_type": "code",
      "source": [
        "for m in range(5):\n",
        "  for n in range(5):\n",
        "    print(f\"({m},{n})\")"
      ],
      "metadata": {
        "colab": {
          "base_uri": "https://localhost:8080/"
        },
        "id": "_0K3ctVSkb8b",
        "outputId": "4b9c6d95-7f91-43bc-fba6-bbd658804519"
      },
      "execution_count": 63,
      "outputs": [
        {
          "output_type": "stream",
          "name": "stdout",
          "text": [
            "(0,0)\n",
            "(0,1)\n",
            "(0,2)\n",
            "(0,3)\n",
            "(0,4)\n",
            "(1,0)\n",
            "(1,1)\n",
            "(1,2)\n",
            "(1,3)\n",
            "(1,4)\n",
            "(2,0)\n",
            "(2,1)\n",
            "(2,2)\n",
            "(2,3)\n",
            "(2,4)\n",
            "(3,0)\n",
            "(3,1)\n",
            "(3,2)\n",
            "(3,3)\n",
            "(3,4)\n",
            "(4,0)\n",
            "(4,1)\n",
            "(4,2)\n",
            "(4,3)\n",
            "(4,4)\n"
          ]
        }
      ]
    },
    {
      "cell_type": "code",
      "source": [
        "### While loop   (while=kadhi paryant) :---- Runs as long as condition is true."
      ],
      "metadata": {
        "id": "9oedHBSLnmKn"
      },
      "execution_count": 64,
      "outputs": []
    },
    {
      "cell_type": "code",
      "source": [
        "i= 0\n",
        "while i < 5:\n",
        "  print(i)\n",
        "  i = i+1"
      ],
      "metadata": {
        "colab": {
          "base_uri": "https://localhost:8080/"
        },
        "id": "628mwac4oUqT",
        "outputId": "079048b7-f77e-4b07-ce16-59b4ba9d4967"
      },
      "execution_count": 75,
      "outputs": [
        {
          "output_type": "stream",
          "name": "stdout",
          "text": [
            "0\n",
            "1\n",
            "2\n",
            "3\n",
            "4\n"
          ]
        }
      ]
    },
    {
      "cell_type": "code",
      "source": [
        "k= 1\n",
        "while k < 10:\n",
        "  print(\"hello\")\n",
        "  k=k+1"
      ],
      "metadata": {
        "colab": {
          "base_uri": "https://localhost:8080/"
        },
        "id": "9WyNc16JpwFM",
        "outputId": "205d485d-8246-4547-c210-fbaa20f1a70c"
      },
      "execution_count": 86,
      "outputs": [
        {
          "output_type": "stream",
          "name": "stdout",
          "text": [
            "hello\n",
            "hello\n",
            "hello\n",
            "hello\n",
            "hello\n",
            "hello\n",
            "hello\n",
            "hello\n",
            "hello\n"
          ]
        }
      ]
    },
    {
      "cell_type": "code",
      "source": [
        " i = 5\n",
        " while i < 10:\n",
        "  print(i)\n",
        "  i = i+1"
      ],
      "metadata": {
        "colab": {
          "base_uri": "https://localhost:8080/"
        },
        "id": "-hcAzCyMqzxF",
        "outputId": "3158e236-f223-4284-ebb4-9df76bcf690b"
      },
      "execution_count": 89,
      "outputs": [
        {
          "output_type": "stream",
          "name": "stdout",
          "text": [
            "5\n",
            "6\n",
            "7\n",
            "8\n",
            "9\n"
          ]
        }
      ]
    },
    {
      "cell_type": "code",
      "source": [
        "i = 8\n",
        "while i <10:\n",
        "  print(\"hello\")\n",
        "  i = i+1"
      ],
      "metadata": {
        "colab": {
          "base_uri": "https://localhost:8080/"
        },
        "id": "jJUcTcEZrBCG",
        "outputId": "fb9ae183-78fe-4360-a591-a0b26a348d34"
      },
      "execution_count": 91,
      "outputs": [
        {
          "output_type": "stream",
          "name": "stdout",
          "text": [
            "hello\n",
            "hello\n"
          ]
        }
      ]
    },
    {
      "cell_type": "code",
      "source": [
        "#### Fibonacci Series :--addition of two number\n",
        "##if we have a = 0 and b=1 and temp is variable where we put a+b then we will give a ouput"
      ],
      "metadata": {
        "id": "D4cAgqTUrVpG"
      },
      "execution_count": 93,
      "outputs": []
    },
    {
      "cell_type": "code",
      "source": [
        "a=0\n",
        "b=1\n",
        "while b < 100:\n",
        "  print(b,end=\" \")\n",
        "  temp=b  ## first we save b values\n",
        "  b=a+b   ## give result in b\n",
        "  a=temp  ## we save temp value in a"
      ],
      "metadata": {
        "colab": {
          "base_uri": "https://localhost:8080/"
        },
        "id": "7fEnBCW1r7Jw",
        "outputId": "9fa8e740-d775-4864-82b9-b726b756701f"
      },
      "execution_count": 95,
      "outputs": [
        {
          "output_type": "stream",
          "name": "stdout",
          "text": [
            "1 1 2 3 5 8 13 21 34 55 89 "
          ]
        }
      ]
    },
    {
      "cell_type": "code",
      "source": [
        " a= 1\n",
        " b= 2\n",
        " while b < 200 :\n",
        "  print(b ,end=\":\")\n",
        "  temp=b\n",
        "  b=a+b\n",
        "  a=temp"
      ],
      "metadata": {
        "colab": {
          "base_uri": "https://localhost:8080/"
        },
        "id": "zvUYKnKEsa1b",
        "outputId": "56fa17f6-dc03-405d-91e3-2880cd5da2e5"
      },
      "execution_count": 97,
      "outputs": [
        {
          "output_type": "stream",
          "name": "stdout",
          "text": [
            "2:3:5:8:13:21:34:55:89:144:"
          ]
        }
      ]
    },
    {
      "cell_type": "code",
      "source": [
        "a=5\n",
        "b=1\n",
        "while b<100:\n",
        "  print(b,end=\" \")\n",
        "  temp=b\n",
        "  b=a+b\n",
        "  a=temp"
      ],
      "metadata": {
        "colab": {
          "base_uri": "https://localhost:8080/"
        },
        "id": "1DDF7VOstZVE",
        "outputId": "82cd88d7-88e2-4f2e-e75a-a559405e0e40"
      },
      "execution_count": 99,
      "outputs": [
        {
          "output_type": "stream",
          "name": "stdout",
          "text": [
            "1 6 7 13 20 33 53 86 "
          ]
        }
      ]
    },
    {
      "cell_type": "code",
      "source": [
        "### Factorial Series :-- 5! = 5*4*3*2*1"
      ],
      "metadata": {
        "id": "FAsAaKEnuUci"
      },
      "execution_count": 100,
      "outputs": []
    },
    {
      "cell_type": "code",
      "source": [],
      "metadata": {
        "id": "NLMawcnDyp4U"
      },
      "execution_count": 110,
      "outputs": []
    },
    {
      "cell_type": "code",
      "source": [],
      "metadata": {
        "id": "-n3pgT0fzJ69"
      },
      "execution_count": 109,
      "outputs": []
    },
    {
      "cell_type": "code",
      "source": [],
      "metadata": {
        "id": "MVWkapx_zLKh"
      },
      "execution_count": null,
      "outputs": []
    }
  ]
}