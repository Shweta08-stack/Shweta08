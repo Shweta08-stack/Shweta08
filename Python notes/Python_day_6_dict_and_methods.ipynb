{
  "nbformat": 4,
  "nbformat_minor": 0,
  "metadata": {
    "colab": {
      "provenance": []
    },
    "kernelspec": {
      "name": "python3",
      "display_name": "Python 3"
    },
    "language_info": {
      "name": "python"
    }
  },
  "cells": [
    {
      "cell_type": "code",
      "execution_count": 3,
      "metadata": {
        "id": "X5Lp2fbGBAY1"
      },
      "outputs": [],
      "source": [
        "## DICTIONARY-{KEYS:VALUES}\n",
        "#-- unordered\n",
        "#---mutuable :-mutable means we can change ,modifiy,remove\n",
        "#---keys:values pair structure\n",
        "#---Unique key must be unique and immutable(can not change)"
      ]
    },
    {
      "cell_type": "code",
      "source": [
        "# EMPTY DICT :--"
      ],
      "metadata": {
        "id": "jzEp1wvXBaWB"
      },
      "execution_count": 4,
      "outputs": []
    },
    {
      "cell_type": "code",
      "source": [
        "d={}"
      ],
      "metadata": {
        "id": "ViXUy-SSB27V"
      },
      "execution_count": 5,
      "outputs": []
    },
    {
      "cell_type": "code",
      "source": [
        "type(d)"
      ],
      "metadata": {
        "colab": {
          "base_uri": "https://localhost:8080/"
        },
        "id": "zNbSgyCZB4OT",
        "outputId": "cb21e1d7-59d9-4af0-f739-fde83fc52002"
      },
      "execution_count": 6,
      "outputs": [
        {
          "output_type": "execute_result",
          "data": {
            "text/plain": [
              "dict"
            ]
          },
          "metadata": {},
          "execution_count": 6
        }
      ]
    },
    {
      "cell_type": "code",
      "source": [
        "#Example 1"
      ],
      "metadata": {
        "id": "Z_mIRmzMB5V3"
      },
      "execution_count": 7,
      "outputs": []
    },
    {
      "cell_type": "code",
      "source": [
        "student={'name':'shweta','age':21,'city':'wardha'}"
      ],
      "metadata": {
        "id": "2jLJaZfpB8fb"
      },
      "execution_count": 8,
      "outputs": []
    },
    {
      "cell_type": "code",
      "source": [
        "student"
      ],
      "metadata": {
        "colab": {
          "base_uri": "https://localhost:8080/"
        },
        "id": "642o6aAfCFCh",
        "outputId": "c3840624-6f5e-46e5-ff14-890ab7bdf105"
      },
      "execution_count": 9,
      "outputs": [
        {
          "output_type": "execute_result",
          "data": {
            "text/plain": [
              "{'name': 'shweta', 'age': 21, 'city': 'wardha'}"
            ]
          },
          "metadata": {},
          "execution_count": 9
        }
      ]
    },
    {
      "cell_type": "code",
      "source": [
        "##Accessing elemets using the keys :=We can access the data\n",
        "#----jjab bhi hum indexing karte hai us time square braces lete hai."
      ],
      "metadata": {
        "id": "ogciB5eBCGGi"
      },
      "execution_count": 10,
      "outputs": []
    },
    {
      "cell_type": "code",
      "source": [
        "student['age']"
      ],
      "metadata": {
        "colab": {
          "base_uri": "https://localhost:8080/"
        },
        "id": "oozA_64aCZo6",
        "outputId": "75f104f7-952b-49d9-d32b-aa94c24f4f9c"
      },
      "execution_count": 11,
      "outputs": [
        {
          "output_type": "execute_result",
          "data": {
            "text/plain": [
              "21"
            ]
          },
          "metadata": {},
          "execution_count": 11
        }
      ]
    },
    {
      "cell_type": "code",
      "source": [
        "student['name']"
      ],
      "metadata": {
        "colab": {
          "base_uri": "https://localhost:8080/",
          "height": 35
        },
        "id": "31vUMuhfCczn",
        "outputId": "3d3dc2bc-5de3-4596-b570-8b6def492768"
      },
      "execution_count": 12,
      "outputs": [
        {
          "output_type": "execute_result",
          "data": {
            "text/plain": [
              "'shweta'"
            ],
            "application/vnd.google.colaboratory.intrinsic+json": {
              "type": "string"
            }
          },
          "metadata": {},
          "execution_count": 12
        }
      ]
    },
    {
      "cell_type": "code",
      "source": [
        "## METHIDS :----"
      ],
      "metadata": {
        "id": "Z7mMpYtXCeyw"
      },
      "execution_count": 13,
      "outputs": []
    },
    {
      "cell_type": "code",
      "source": [
        "# 1)GET METHID :- We can take the data from the veriiable"
      ],
      "metadata": {
        "id": "LjzfiR25CqHb"
      },
      "execution_count": 14,
      "outputs": []
    },
    {
      "cell_type": "code",
      "source": [],
      "metadata": {
        "id": "DYA1ur5REEuL"
      },
      "execution_count": null,
      "outputs": []
    },
    {
      "cell_type": "code",
      "source": [
        "student={'name':'shweta','age':21,'city':'wardha'}"
      ],
      "metadata": {
        "id": "ZvVB1J3jEaiA"
      },
      "execution_count": 7,
      "outputs": []
    },
    {
      "cell_type": "code",
      "source": [
        "student.get('salary',\"no\") ## no is default value,, result showing no because salary column is not availble"
      ],
      "metadata": {
        "colab": {
          "base_uri": "https://localhost:8080/",
          "height": 35
        },
        "id": "4-nrTpIpEbAn",
        "outputId": "50325420-49bb-40c3-e9b6-4b03a7c115a7"
      },
      "execution_count": 8,
      "outputs": [
        {
          "output_type": "execute_result",
          "data": {
            "text/plain": [
              "'no'"
            ],
            "application/vnd.google.colaboratory.intrinsic+json": {
              "type": "string"
            }
          },
          "metadata": {},
          "execution_count": 8
        }
      ]
    },
    {
      "cell_type": "code",
      "source": [
        "student.get('name','shruti') ## shruti is a default value"
      ],
      "metadata": {
        "colab": {
          "base_uri": "https://localhost:8080/",
          "height": 35
        },
        "id": "ckDnev6qEf4W",
        "outputId": "fc791d6f-b88f-463e-95f5-511079d35479"
      },
      "execution_count": 9,
      "outputs": [
        {
          "output_type": "execute_result",
          "data": {
            "text/plain": [
              "'shweta'"
            ],
            "application/vnd.google.colaboratory.intrinsic+json": {
              "type": "string"
            }
          },
          "metadata": {},
          "execution_count": 9
        }
      ]
    },
    {
      "cell_type": "code",
      "source": [
        "student.get('age',50) ## 50 is a default value"
      ],
      "metadata": {
        "colab": {
          "base_uri": "https://localhost:8080/"
        },
        "id": "DuiPeNZ3ErNu",
        "outputId": "97ddd346-bdde-42aa-e2a2-93b6ed92ae54"
      },
      "execution_count": 10,
      "outputs": [
        {
          "output_type": "execute_result",
          "data": {
            "text/plain": [
              "21"
            ]
          },
          "metadata": {},
          "execution_count": 10
        }
      ]
    },
    {
      "cell_type": "code",
      "source": [
        "##AASIGN OPERATOR :-- we can asign the operator and replace of any other elemts"
      ],
      "metadata": {
        "id": "g-mKM4U9E2Vi"
      },
      "execution_count": 38,
      "outputs": []
    },
    {
      "cell_type": "code",
      "source": [
        "student['age']=50 ## previous age was 30,we can change the age using by operator."
      ],
      "metadata": {
        "id": "1T2Rui24FCZv"
      },
      "execution_count": 41,
      "outputs": []
    },
    {
      "cell_type": "code",
      "source": [
        "student"
      ],
      "metadata": {
        "colab": {
          "base_uri": "https://localhost:8080/"
        },
        "id": "k9ztadJnFGoc",
        "outputId": "f4c42d74-f8b1-41a2-b252-7d00e28e027f"
      },
      "execution_count": 42,
      "outputs": [
        {
          "output_type": "execute_result",
          "data": {
            "text/plain": [
              "{'name': 'shweta', 'age': 50, 'city': 'wardha'}"
            ]
          },
          "metadata": {},
          "execution_count": 42
        }
      ]
    },
    {
      "cell_type": "code",
      "source": [
        "student['name']=\"Priyanka\""
      ],
      "metadata": {
        "id": "czDwBhpuFHYH"
      },
      "execution_count": 44,
      "outputs": []
    },
    {
      "cell_type": "code",
      "source": [
        "student"
      ],
      "metadata": {
        "colab": {
          "base_uri": "https://localhost:8080/"
        },
        "id": "MwgO8FwTFSek",
        "outputId": "e037e2c2-83c4-4d06-c25e-00090725cf42"
      },
      "execution_count": 45,
      "outputs": [
        {
          "output_type": "execute_result",
          "data": {
            "text/plain": [
              "{'name': 'Priyanka', 'age': 50, 'city': 'wardha'}"
            ]
          },
          "metadata": {},
          "execution_count": 45
        }
      ]
    },
    {
      "cell_type": "code",
      "source": [
        "student[\"city\"]=\"nagpur\""
      ],
      "metadata": {
        "id": "Iw5FDlKAFV9U"
      },
      "execution_count": 47,
      "outputs": []
    },
    {
      "cell_type": "code",
      "source": [
        "student"
      ],
      "metadata": {
        "colab": {
          "base_uri": "https://localhost:8080/"
        },
        "id": "-5Q-NRAhFZ5Y",
        "outputId": "c4b67e48-3f98-4b43-dcd9-1677c08c385e"
      },
      "execution_count": 48,
      "outputs": [
        {
          "output_type": "execute_result",
          "data": {
            "text/plain": [
              "{'name': 'Priyanka', 'age': 50, 'city': 'nagpur'}"
            ]
          },
          "metadata": {},
          "execution_count": 48
        }
      ]
    },
    {
      "cell_type": "code",
      "source": [
        "student"
      ],
      "metadata": {
        "colab": {
          "base_uri": "https://localhost:8080/"
        },
        "id": "r8f_FKM2p02R",
        "outputId": "755f9546-e92a-4074-9e07-a008c4fdb509"
      },
      "execution_count": 13,
      "outputs": [
        {
          "output_type": "execute_result",
          "data": {
            "text/plain": [
              "{'name': 'shweta', 'age': 21, 'city': 'wardha'}"
            ]
          },
          "metadata": {},
          "execution_count": 13
        }
      ]
    },
    {
      "cell_type": "code",
      "source": [
        "student['salary']=1000 #we can also add the elemet"
      ],
      "metadata": {
        "id": "7jNORjvhqJXr"
      },
      "execution_count": 14,
      "outputs": []
    },
    {
      "cell_type": "code",
      "source": [
        "student"
      ],
      "metadata": {
        "colab": {
          "base_uri": "https://localhost:8080/"
        },
        "id": "xUb0JS4fquZp",
        "outputId": "52dbcef3-2602-4e4f-8dee-57f5cf5c53ba"
      },
      "execution_count": 15,
      "outputs": [
        {
          "output_type": "execute_result",
          "data": {
            "text/plain": [
              "{'name': 'shweta', 'age': 21, 'city': 'wardha', 'salary': 1000}"
            ]
          },
          "metadata": {},
          "execution_count": 15
        }
      ]
    },
    {
      "cell_type": "code",
      "source": [
        "student['salary']"
      ],
      "metadata": {
        "colab": {
          "base_uri": "https://localhost:8080/"
        },
        "id": "WnOuZMCdqvgm",
        "outputId": "b22f5c83-5391-4f1c-d176-1691d7164fa3"
      },
      "execution_count": 16,
      "outputs": [
        {
          "output_type": "execute_result",
          "data": {
            "text/plain": [
              "1000"
            ]
          },
          "metadata": {},
          "execution_count": 16
        }
      ]
    },
    {
      "cell_type": "code",
      "source": [
        "student['name']=\"shruti\""
      ],
      "metadata": {
        "id": "bc8bXnfMq0qx"
      },
      "execution_count": 18,
      "outputs": []
    },
    {
      "cell_type": "code",
      "source": [
        "student"
      ],
      "metadata": {
        "colab": {
          "base_uri": "https://localhost:8080/"
        },
        "id": "SlQSOFD-q7wO",
        "outputId": "b51c7c19-82fb-4651-f199-f0a1b9412b04"
      },
      "execution_count": 19,
      "outputs": [
        {
          "output_type": "execute_result",
          "data": {
            "text/plain": [
              "{'name': 'shruti', 'age': 21, 'city': 'wardha', 'salary': 1000}"
            ]
          },
          "metadata": {},
          "execution_count": 19
        }
      ]
    },
    {
      "cell_type": "code",
      "source": [
        "##POP METHOD() :----Remove the eelement"
      ],
      "metadata": {
        "id": "ZpkfiP12q_l8"
      },
      "execution_count": 20,
      "outputs": []
    },
    {
      "cell_type": "code",
      "source": [
        "student.pop('age')"
      ],
      "metadata": {
        "colab": {
          "base_uri": "https://localhost:8080/"
        },
        "id": "a5FAVx-GrGpR",
        "outputId": "e74bf67a-e060-47dd-c69b-49105e4c904f"
      },
      "execution_count": 21,
      "outputs": [
        {
          "output_type": "execute_result",
          "data": {
            "text/plain": [
              "21"
            ]
          },
          "metadata": {},
          "execution_count": 21
        }
      ]
    },
    {
      "cell_type": "code",
      "source": [
        "student"
      ],
      "metadata": {
        "colab": {
          "base_uri": "https://localhost:8080/"
        },
        "id": "PS4Kla1srLCl",
        "outputId": "61f7a266-5dac-4068-ea81-d6e75afd93d2"
      },
      "execution_count": 22,
      "outputs": [
        {
          "output_type": "execute_result",
          "data": {
            "text/plain": [
              "{'name': 'shruti', 'city': 'wardha', 'salary': 1000}"
            ]
          },
          "metadata": {},
          "execution_count": 22
        }
      ]
    },
    {
      "cell_type": "code",
      "source": [
        "student.pop('salary')"
      ],
      "metadata": {
        "colab": {
          "base_uri": "https://localhost:8080/"
        },
        "id": "suR5-mwirL_D",
        "outputId": "c3fc6e44-7c92-4446-b83c-550057c195b9"
      },
      "execution_count": 23,
      "outputs": [
        {
          "output_type": "execute_result",
          "data": {
            "text/plain": [
              "1000"
            ]
          },
          "metadata": {},
          "execution_count": 23
        }
      ]
    },
    {
      "cell_type": "code",
      "source": [
        "student"
      ],
      "metadata": {
        "colab": {
          "base_uri": "https://localhost:8080/"
        },
        "id": "SSYj7AyZrRJ_",
        "outputId": "3183d43f-2ffd-47ce-ce57-9b12d0450859"
      },
      "execution_count": 24,
      "outputs": [
        {
          "output_type": "execute_result",
          "data": {
            "text/plain": [
              "{'name': 'shruti', 'city': 'wardha'}"
            ]
          },
          "metadata": {},
          "execution_count": 24
        }
      ]
    },
    {
      "cell_type": "code",
      "source": [
        "##Delete (del) :- Delete is the keyword not the method. if we use del keywords it will directly delete the element."
      ],
      "metadata": {
        "id": "exP2AT3frSGn"
      },
      "execution_count": 25,
      "outputs": []
    },
    {
      "cell_type": "code",
      "source": [
        "del student['city']"
      ],
      "metadata": {
        "id": "rXIjVdd5rjh_"
      },
      "execution_count": 27,
      "outputs": []
    },
    {
      "cell_type": "code",
      "source": [
        "student"
      ],
      "metadata": {
        "colab": {
          "base_uri": "https://localhost:8080/"
        },
        "id": "c0Jw5fZ0rxvC",
        "outputId": "30569dbb-2fe6-431a-f9c0-57f84d6942b7"
      },
      "execution_count": 28,
      "outputs": [
        {
          "output_type": "execute_result",
          "data": {
            "text/plain": [
              "{'name': 'shruti'}"
            ]
          },
          "metadata": {},
          "execution_count": 28
        }
      ]
    },
    {
      "cell_type": "code",
      "source": [
        "del student['name']"
      ],
      "metadata": {
        "id": "wxv0NM_Sr0SD"
      },
      "execution_count": 29,
      "outputs": []
    },
    {
      "cell_type": "code",
      "source": [
        "student"
      ],
      "metadata": {
        "colab": {
          "base_uri": "https://localhost:8080/"
        },
        "id": "bCfQlZdOr6Nf",
        "outputId": "0bfc33f1-86ca-4f28-e74f-77e4e8f3a491"
      },
      "execution_count": 31,
      "outputs": [
        {
          "output_type": "execute_result",
          "data": {
            "text/plain": [
              "{}"
            ]
          },
          "metadata": {},
          "execution_count": 31
        }
      ]
    },
    {
      "cell_type": "code",
      "source": [
        "student={'name':'shweta','age':22}"
      ],
      "metadata": {
        "id": "QExlJquZr6zw"
      },
      "execution_count": 34,
      "outputs": []
    },
    {
      "cell_type": "code",
      "source": [
        "student"
      ],
      "metadata": {
        "colab": {
          "base_uri": "https://localhost:8080/"
        },
        "id": "GqdPGMU0sFUD",
        "outputId": "b1208504-4713-4955-89af-5e1d48628343"
      },
      "execution_count": 35,
      "outputs": [
        {
          "output_type": "execute_result",
          "data": {
            "text/plain": [
              "{'name': 'shweta', 'age': 22}"
            ]
          },
          "metadata": {},
          "execution_count": 35
        }
      ]
    },
    {
      "cell_type": "code",
      "source": [
        "del student['name']"
      ],
      "metadata": {
        "id": "ANpfLjPasJr1"
      },
      "execution_count": 36,
      "outputs": []
    },
    {
      "cell_type": "code",
      "source": [
        "student"
      ],
      "metadata": {
        "colab": {
          "base_uri": "https://localhost:8080/"
        },
        "id": "Fsk3SV3nsL-1",
        "outputId": "72145255-be16-47be-8b25-90b0483d44f3"
      },
      "execution_count": 37,
      "outputs": [
        {
          "output_type": "execute_result",
          "data": {
            "text/plain": [
              "{'age': 22}"
            ]
          },
          "metadata": {},
          "execution_count": 37
        }
      ]
    },
    {
      "cell_type": "code",
      "source": [
        "student.clear() ###Clear the entire data"
      ],
      "metadata": {
        "id": "Ir5wlSVEsM1t"
      },
      "execution_count": 38,
      "outputs": []
    },
    {
      "cell_type": "code",
      "source": [
        "student"
      ],
      "metadata": {
        "colab": {
          "base_uri": "https://localhost:8080/"
        },
        "id": "o-OWbNGBsP9i",
        "outputId": "024f2aa1-f57b-4559-aae9-efb7013604c0"
      },
      "execution_count": 39,
      "outputs": [
        {
          "output_type": "execute_result",
          "data": {
            "text/plain": [
              "{}"
            ]
          },
          "metadata": {},
          "execution_count": 39
        }
      ]
    },
    {
      "cell_type": "code",
      "source": [
        "####WE CREATE A NEW DICTIONARY NOW"
      ],
      "metadata": {
        "id": "K-iYdKwzsQrh"
      },
      "execution_count": 40,
      "outputs": []
    },
    {
      "cell_type": "code",
      "source": [
        "student={'name':'shweta','age':21}"
      ],
      "metadata": {
        "id": "NNfZC99SsoCY"
      },
      "execution_count": 42,
      "outputs": []
    },
    {
      "cell_type": "code",
      "source": [
        "student"
      ],
      "metadata": {
        "colab": {
          "base_uri": "https://localhost:8080/"
        },
        "id": "ixZtsVMhsx0S",
        "outputId": "77a39201-09c1-405b-e116-06311322911d"
      },
      "execution_count": 43,
      "outputs": [
        {
          "output_type": "execute_result",
          "data": {
            "text/plain": [
              "{'name': 'shweta', 'age': 21}"
            ]
          },
          "metadata": {},
          "execution_count": 43
        }
      ]
    },
    {
      "cell_type": "code",
      "source": [
        "#IF WE WANT KEYS :-----"
      ],
      "metadata": {
        "id": "5ptoBD74s0gN"
      },
      "execution_count": 44,
      "outputs": []
    },
    {
      "cell_type": "code",
      "source": [
        "student.keys()"
      ],
      "metadata": {
        "colab": {
          "base_uri": "https://localhost:8080/"
        },
        "id": "0IEZQ0PIs6ab",
        "outputId": "2d45074f-df6d-464c-bfbd-bd5142986c3b"
      },
      "execution_count": 46,
      "outputs": [
        {
          "output_type": "execute_result",
          "data": {
            "text/plain": [
              "dict_keys(['name', 'age'])"
            ]
          },
          "metadata": {},
          "execution_count": 46
        }
      ]
    },
    {
      "cell_type": "code",
      "source": [
        "## IF WE WANT VALUES FROM THE DICTIONARY:-----------"
      ],
      "metadata": {
        "id": "aveUjciTtCwW"
      },
      "execution_count": 47,
      "outputs": []
    },
    {
      "cell_type": "code",
      "source": [
        "student.values()"
      ],
      "metadata": {
        "colab": {
          "base_uri": "https://localhost:8080/"
        },
        "id": "eCSq5fzDtNcI",
        "outputId": "e1c91c27-8126-4655-a156-4b902625ee32"
      },
      "execution_count": 48,
      "outputs": [
        {
          "output_type": "execute_result",
          "data": {
            "text/plain": [
              "dict_values(['shweta', 21])"
            ]
          },
          "metadata": {},
          "execution_count": 48
        }
      ]
    },
    {
      "cell_type": "code",
      "source": [
        "#### IF WE WANT TO UPDATE /ADD A SINGLE ELEMET  :--"
      ],
      "metadata": {
        "id": "Wet879nttO93"
      },
      "execution_count": 49,
      "outputs": []
    },
    {
      "cell_type": "code",
      "source": [
        "student['salary']=1000"
      ],
      "metadata": {
        "id": "l4154NVPtZew"
      },
      "execution_count": 51,
      "outputs": []
    },
    {
      "cell_type": "code",
      "source": [
        "student"
      ],
      "metadata": {
        "colab": {
          "base_uri": "https://localhost:8080/"
        },
        "id": "ttsFKz-Ftbhn",
        "outputId": "4a272796-8d3a-4244-bd48-840daaf090d9"
      },
      "execution_count": 52,
      "outputs": [
        {
          "output_type": "execute_result",
          "data": {
            "text/plain": [
              "{'name': 'shweta', 'age': 21, 'salary': 1000}"
            ]
          },
          "metadata": {},
          "execution_count": 52
        }
      ]
    },
    {
      "cell_type": "code",
      "source": [
        "### UPDATE METHOD() :-- If we want to update te multiple values"
      ],
      "metadata": {
        "id": "oE_ZbF3rtfs9"
      },
      "execution_count": 53,
      "outputs": []
    },
    {
      "cell_type": "code",
      "source": [
        "student.update({'age':20,'city':'wardha','emplyoee':10})"
      ],
      "metadata": {
        "id": "1m3JZafGtnd5"
      },
      "execution_count": 55,
      "outputs": []
    },
    {
      "cell_type": "code",
      "source": [
        "student"
      ],
      "metadata": {
        "colab": {
          "base_uri": "https://localhost:8080/"
        },
        "id": "ZsnBD4jNt0Kz",
        "outputId": "eb54d009-9b51-45ed-cbff-a48197efae33"
      },
      "execution_count": 56,
      "outputs": [
        {
          "output_type": "execute_result",
          "data": {
            "text/plain": [
              "{'name': 'shweta', 'age': 20, 'salary': 1000, 'city': 'wardha', 'emplyoee': 10}"
            ]
          },
          "metadata": {},
          "execution_count": 56
        }
      ]
    },
    {
      "cell_type": "code",
      "source": [
        "student.update({'student':10})"
      ],
      "metadata": {
        "id": "zTpGDn27t5Za"
      },
      "execution_count": 59,
      "outputs": []
    },
    {
      "cell_type": "code",
      "source": [
        "student"
      ],
      "metadata": {
        "colab": {
          "base_uri": "https://localhost:8080/"
        },
        "id": "O7k8g_IzuH2P",
        "outputId": "f3de0dbc-a561-4091-f584-a1e6c9f2e79d"
      },
      "execution_count": 60,
      "outputs": [
        {
          "output_type": "execute_result",
          "data": {
            "text/plain": [
              "{'name': 'shweta',\n",
              " 'age': 20,\n",
              " 'salary': 1000,\n",
              " 'city': 'wardha',\n",
              " 'emplyoee': 10,\n",
              " 'student': 10}"
            ]
          },
          "metadata": {},
          "execution_count": 60
        }
      ]
    },
    {
      "cell_type": "code",
      "source": [
        "###### SINGLE DATA TYPES :---\n",
        "#---int,float,str,boolean,nun"
      ],
      "metadata": {
        "id": "id9jJMbDuQTj"
      },
      "execution_count": 61,
      "outputs": []
    },
    {
      "cell_type": "code",
      "source": [
        "### Multiple datatypes :---\n",
        "#--- List[] , Tupple () ,Set {()} , dict {}"
      ],
      "metadata": {
        "id": "5sDW5Y1Xudgj"
      },
      "execution_count": 62,
      "outputs": []
    },
    {
      "cell_type": "code",
      "source": [
        "## DICTIONARY WITH LIST :---"
      ],
      "metadata": {
        "id": "VAiehlC2usTa"
      },
      "execution_count": 63,
      "outputs": []
    },
    {
      "cell_type": "code",
      "source": [
        "data = {'name':['shweta','shruti','selu'],'age':[21,20,30],'city':['wardha','nagpur','wardha']}"
      ],
      "metadata": {
        "id": "AaSA4nCxuv88"
      },
      "execution_count": 66,
      "outputs": []
    },
    {
      "cell_type": "code",
      "source": [
        "data"
      ],
      "metadata": {
        "colab": {
          "base_uri": "https://localhost:8080/"
        },
        "id": "UYSgqxOXvgz2",
        "outputId": "d27d916c-5051-4aec-8bd5-0b89a684a1da"
      },
      "execution_count": 67,
      "outputs": [
        {
          "output_type": "execute_result",
          "data": {
            "text/plain": [
              "{'name': ['shweta', 'shruti', 'selu'],\n",
              " 'age': [21, 20, 30],\n",
              " 'city': ['wardha', 'nagpur', 'wardha']}"
            ]
          },
          "metadata": {},
          "execution_count": 67
        }
      ]
    },
    {
      "cell_type": "code",
      "source": [
        "data['age']"
      ],
      "metadata": {
        "colab": {
          "base_uri": "https://localhost:8080/"
        },
        "id": "ADAdQPw3wBDT",
        "outputId": "62b084dc-424e-41ab-e8f6-6a5466f32faa"
      },
      "execution_count": 68,
      "outputs": [
        {
          "output_type": "execute_result",
          "data": {
            "text/plain": [
              "[21, 20, 30]"
            ]
          },
          "metadata": {},
          "execution_count": 68
        }
      ]
    },
    {
      "cell_type": "code",
      "source": [
        "data['age'][0]"
      ],
      "metadata": {
        "colab": {
          "base_uri": "https://localhost:8080/"
        },
        "id": "5Zu5z56RwGRG",
        "outputId": "a2971f15-a5e9-42db-8a60-ac21c1afb53a"
      },
      "execution_count": 69,
      "outputs": [
        {
          "output_type": "execute_result",
          "data": {
            "text/plain": [
              "21"
            ]
          },
          "metadata": {},
          "execution_count": 69
        }
      ]
    },
    {
      "cell_type": "code",
      "source": [
        "data['name']"
      ],
      "metadata": {
        "colab": {
          "base_uri": "https://localhost:8080/"
        },
        "id": "hvsyE_vAwI0E",
        "outputId": "9f4b9bdf-9a43-42f9-f997-81aab0feebf4"
      },
      "execution_count": 70,
      "outputs": [
        {
          "output_type": "execute_result",
          "data": {
            "text/plain": [
              "['shweta', 'shruti', 'selu']"
            ]
          },
          "metadata": {},
          "execution_count": 70
        }
      ]
    },
    {
      "cell_type": "code",
      "source": [
        "data['name'][2]"
      ],
      "metadata": {
        "colab": {
          "base_uri": "https://localhost:8080/",
          "height": 35
        },
        "id": "1KacJ-Y-wKlf",
        "outputId": "c23da455-6d64-4318-9fc7-8829b055db8e"
      },
      "execution_count": 71,
      "outputs": [
        {
          "output_type": "execute_result",
          "data": {
            "text/plain": [
              "'selu'"
            ],
            "application/vnd.google.colaboratory.intrinsic+json": {
              "type": "string"
            }
          },
          "metadata": {},
          "execution_count": 71
        }
      ]
    },
    {
      "cell_type": "code",
      "source": [
        "data['city']"
      ],
      "metadata": {
        "colab": {
          "base_uri": "https://localhost:8080/"
        },
        "id": "nYCQhRlxwNg8",
        "outputId": "53e7cbcd-668c-4580-eaaa-dd6c52edbb29"
      },
      "execution_count": 72,
      "outputs": [
        {
          "output_type": "execute_result",
          "data": {
            "text/plain": [
              "['wardha', 'nagpur', 'wardha']"
            ]
          },
          "metadata": {},
          "execution_count": 72
        }
      ]
    },
    {
      "cell_type": "code",
      "source": [
        "data['city'][1]"
      ],
      "metadata": {
        "colab": {
          "base_uri": "https://localhost:8080/",
          "height": 35
        },
        "id": "atT0OZvdwPoC",
        "outputId": "356106bf-4c32-4bec-f717-62ede5d6f81d"
      },
      "execution_count": 73,
      "outputs": [
        {
          "output_type": "execute_result",
          "data": {
            "text/plain": [
              "'nagpur'"
            ],
            "application/vnd.google.colaboratory.intrinsic+json": {
              "type": "string"
            }
          },
          "metadata": {},
          "execution_count": 73
        }
      ]
    },
    {
      "cell_type": "code",
      "source": [
        "### DICTIONARY WITH DICTIONARY :--- We use the nested dictionary"
      ],
      "metadata": {
        "id": "bgEkm1rawTng"
      },
      "execution_count": 74,
      "outputs": []
    },
    {
      "cell_type": "code",
      "source": [
        "data ={'sales':{'emp':['shweta','shruti','selu'],'budget':1000},'it':{'emp':['shreya','aditya'],'budget':2000},'hr':{'emp':['garg','kshitya'],'budget':3000}}"
      ],
      "metadata": {
        "id": "plE-rWvXxBRj"
      },
      "execution_count": 78,
      "outputs": []
    },
    {
      "cell_type": "code",
      "source": [],
      "metadata": {
        "colab": {
          "base_uri": "https://localhost:8080/"
        },
        "id": "ar3wT0evzl9R",
        "outputId": "bb06cbb6-7e9f-45ae-e0a2-76962de0ed16"
      },
      "execution_count": 80,
      "outputs": [
        {
          "output_type": "execute_result",
          "data": {
            "text/plain": [
              "{'sales': {'emp': ['shweta', 'shruti', 'selu'], 'budget': 1000},\n",
              " 'it': {'emp': ['shreya', 'aditya'], 'budget': 2000},\n",
              " 'hr': {'emp': ['garg', 'kshitya'], 'budget': 3000}}"
            ]
          },
          "metadata": {},
          "execution_count": 80
        }
      ]
    },
    {
      "cell_type": "code",
      "source": [
        "data['sales']['emp']"
      ],
      "metadata": {
        "colab": {
          "base_uri": "https://localhost:8080/"
        },
        "id": "nOcDGCLIz24-",
        "outputId": "56b0a166-54ba-40ba-db69-eb8ca56a5652"
      },
      "execution_count": 81,
      "outputs": [
        {
          "output_type": "execute_result",
          "data": {
            "text/plain": [
              "['shweta', 'shruti', 'selu']"
            ]
          },
          "metadata": {},
          "execution_count": 81
        }
      ]
    },
    {
      "cell_type": "code",
      "source": [
        "data['sales']['emp'][1]"
      ],
      "metadata": {
        "colab": {
          "base_uri": "https://localhost:8080/",
          "height": 35
        },
        "id": "fc1FSM_Lz6z5",
        "outputId": "cbdfd565-96bb-4edb-f094-2f79c6aeaa2c"
      },
      "execution_count": 83,
      "outputs": [
        {
          "output_type": "execute_result",
          "data": {
            "text/plain": [
              "'shruti'"
            ],
            "application/vnd.google.colaboratory.intrinsic+json": {
              "type": "string"
            }
          },
          "metadata": {},
          "execution_count": 83
        }
      ]
    },
    {
      "cell_type": "code",
      "source": [
        "data['it']['emp']"
      ],
      "metadata": {
        "colab": {
          "base_uri": "https://localhost:8080/"
        },
        "id": "sC-WSsQ9z_1j",
        "outputId": "794cc3a7-2ea4-467b-9853-c3e17d2627a4"
      },
      "execution_count": 84,
      "outputs": [
        {
          "output_type": "execute_result",
          "data": {
            "text/plain": [
              "['shreya', 'aditya']"
            ]
          },
          "metadata": {},
          "execution_count": 84
        }
      ]
    },
    {
      "cell_type": "code",
      "source": [
        "data['it']['emp'][0]"
      ],
      "metadata": {
        "colab": {
          "base_uri": "https://localhost:8080/",
          "height": 35
        },
        "id": "N8yRkdW90IeZ",
        "outputId": "3e275ca6-cc85-40ec-faeb-3ad6234d2010"
      },
      "execution_count": 85,
      "outputs": [
        {
          "output_type": "execute_result",
          "data": {
            "text/plain": [
              "'shreya'"
            ],
            "application/vnd.google.colaboratory.intrinsic+json": {
              "type": "string"
            }
          },
          "metadata": {},
          "execution_count": 85
        }
      ]
    },
    {
      "cell_type": "code",
      "source": [
        "data['it']['budget']"
      ],
      "metadata": {
        "colab": {
          "base_uri": "https://localhost:8080/"
        },
        "id": "02w8hpPv0MLI",
        "outputId": "87054c05-6f42-4e93-d5e7-b6116282db38"
      },
      "execution_count": 89,
      "outputs": [
        {
          "output_type": "execute_result",
          "data": {
            "text/plain": [
              "2000"
            ]
          },
          "metadata": {},
          "execution_count": 89
        }
      ]
    },
    {
      "cell_type": "code",
      "source": [],
      "metadata": {
        "id": "8A_tRp-K0Pxx"
      },
      "execution_count": null,
      "outputs": []
    }
  ]
}