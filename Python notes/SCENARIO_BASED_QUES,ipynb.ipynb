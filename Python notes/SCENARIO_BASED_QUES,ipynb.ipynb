{
  "nbformat": 4,
  "nbformat_minor": 0,
  "metadata": {
    "colab": {
      "provenance": []
    },
    "kernelspec": {
      "name": "python3",
      "display_name": "Python 3"
    },
    "language_info": {
      "name": "python"
    }
  },
  "cells": [
    {
      "cell_type": "code",
      "execution_count": 1,
      "metadata": {
        "id": "l9FaAEx9uMnF"
      },
      "outputs": [],
      "source": [
        "# 1)check positive ,negative and zero number"
      ]
    },
    {
      "cell_type": "code",
      "source": [
        "num = 0\n",
        "\n",
        "if num >0 :\n",
        "  print(\"Number is positive\")\n",
        "elif num < 0:\n",
        "  print(\"number is negative\")\n",
        "else:\n",
        "  print(\"number is zero\")"
      ],
      "metadata": {
        "colab": {
          "base_uri": "https://localhost:8080/",
          "height": 0
        },
        "id": "C6G1DpYQzCM-",
        "outputId": "26792499-6e22-4806-a782-05a85971bc23"
      },
      "execution_count": 5,
      "outputs": [
        {
          "output_type": "stream",
          "name": "stdout",
          "text": [
            "number is zero\n"
          ]
        }
      ]
    },
    {
      "cell_type": "code",
      "source": [
        "## if we want a input from user"
      ],
      "metadata": {
        "id": "eChuXC5AzyJz"
      },
      "execution_count": 6,
      "outputs": []
    },
    {
      "cell_type": "code",
      "source": [
        "num =int(input(\"Enter the number\"))\n",
        "if num >0:\n",
        "  print(\"Number is positive\")\n",
        "elif num < 0:\n",
        "  print(\"Number is negative\")\n",
        "else:\n",
        "  print(\"Number is zero\")"
      ],
      "metadata": {
        "colab": {
          "base_uri": "https://localhost:8080/",
          "height": 0
        },
        "id": "Hv4OuU6R0n7j",
        "outputId": "3ce2fd94-2149-49e6-950c-e403fa0bbaa5"
      },
      "execution_count": 10,
      "outputs": [
        {
          "output_type": "stream",
          "name": "stdout",
          "text": [
            "Enter the number0\n",
            "Number is zero\n"
          ]
        }
      ]
    },
    {
      "cell_type": "code",
      "source": [
        "## To check EVEN OR ODD"
      ],
      "metadata": {
        "id": "boDSzXso1Ax7"
      },
      "execution_count": 11,
      "outputs": []
    },
    {
      "cell_type": "code",
      "source": [
        "num =9\n",
        "\n",
        "if num % 2==0:\n",
        "  print(\"Number is even\")\n",
        "else:\n",
        "  print(\"Number is odd\")"
      ],
      "metadata": {
        "colab": {
          "base_uri": "https://localhost:8080/",
          "height": 0
        },
        "id": "KWtNSZ_p4XBY",
        "outputId": "4c15a3e2-0801-48da-ff93-b2f058e1ed93"
      },
      "execution_count": 13,
      "outputs": [
        {
          "output_type": "stream",
          "name": "stdout",
          "text": [
            "Number is odd\n"
          ]
        }
      ]
    },
    {
      "cell_type": "code",
      "source": [
        "num = int(input(\"enter the number\"))\n",
        "\n",
        "if num %2==0:\n",
        "  print(\"Number is even\")\n",
        "else:\n",
        "  (\"Number is odd\")"
      ],
      "metadata": {
        "colab": {
          "base_uri": "https://localhost:8080/",
          "height": 0
        },
        "id": "JpyRnzp08YUN",
        "outputId": "b4c278b3-2b3f-4803-8dd3-d15d96da3a47"
      },
      "execution_count": 15,
      "outputs": [
        {
          "output_type": "stream",
          "name": "stdout",
          "text": [
            "enter the number10\n",
            "Number is even\n"
          ]
        }
      ]
    },
    {
      "cell_type": "code",
      "source": [
        "## Largest two number"
      ],
      "metadata": {
        "id": "xl4wB4VQ89Lf"
      },
      "execution_count": 16,
      "outputs": []
    },
    {
      "cell_type": "code",
      "source": [
        "a= int(input(\"Enter the first number\"))\n",
        "b= int (input(\"Enter second number\"))\n",
        "\n",
        "if a >b:\n",
        "  print(\"Greatest number is:\",a)\n",
        "else:\n",
        "  print(\"Greatest number is: \",b)"
      ],
      "metadata": {
        "colab": {
          "base_uri": "https://localhost:8080/",
          "height": 0
        },
        "id": "yCZhXyNG_YWa",
        "outputId": "7df9a28a-3210-48f9-a7aa-027aad2bd17d"
      },
      "execution_count": 20,
      "outputs": [
        {
          "output_type": "stream",
          "name": "stdout",
          "text": [
            "Enter the first number50\n",
            "Enter second number10000\n",
            "Greatest number is:  10000\n"
          ]
        }
      ]
    },
    {
      "cell_type": "code",
      "source": [
        "## To check both the number is divisible by 5 and 7"
      ],
      "metadata": {
        "id": "yiek093WEfY3"
      },
      "execution_count": 21,
      "outputs": []
    },
    {
      "cell_type": "code",
      "source": [
        "num =35\n",
        "\n",
        "if num % 5==0 and num % 7==0:\n",
        "  print(\"number is divided by 5 and 7 :--- \")\n",
        "else:\n",
        "  print(\"number is not divided:\")"
      ],
      "metadata": {
        "colab": {
          "base_uri": "https://localhost:8080/",
          "height": 0
        },
        "id": "1TQ4y8CuE2Qw",
        "outputId": "0938063f-b119-406a-f470-2def557091e2"
      },
      "execution_count": 25,
      "outputs": [
        {
          "output_type": "stream",
          "name": "stdout",
          "text": [
            "number is divided by 5 and 7 :--- \n"
          ]
        }
      ]
    },
    {
      "cell_type": "code",
      "source": [
        "## Second way --want input from user"
      ],
      "metadata": {
        "id": "4PfLrNV7FMJc"
      },
      "execution_count": 26,
      "outputs": []
    },
    {
      "cell_type": "code",
      "source": [
        "num =int(input(\"enter the number\"))\n",
        "if num % 5==0 and num % 7==0:\n",
        "  print(\"divided with both number\")\n",
        "else:\n",
        "  print(\"not divided\")"
      ],
      "metadata": {
        "colab": {
          "base_uri": "https://localhost:8080/",
          "height": 0
        },
        "id": "-_IEs6kXFc5P",
        "outputId": "3a14c2ea-1466-432c-a3ca-d835fcd570f5"
      },
      "execution_count": 30,
      "outputs": [
        {
          "output_type": "stream",
          "name": "stdout",
          "text": [
            "enter the number55\n",
            "not divided\n"
          ]
        }
      ]
    },
    {
      "cell_type": "code",
      "source": [
        "### Intermediate question :---"
      ],
      "metadata": {
        "id": "vEUfJRplFln9"
      },
      "execution_count": 31,
      "outputs": []
    },
    {
      "cell_type": "code",
      "source": [
        "## 1) Check the leap year"
      ],
      "metadata": {
        "id": "SuegJu4tGKR9"
      },
      "execution_count": 32,
      "outputs": []
    },
    {
      "cell_type": "code",
      "source": [
        "year = int(input(\"enter a year\"))\n",
        "\n",
        "if (year % 4 ==0 and year %100 != 0) or (year %400 == 0):\n",
        "  print(\"it is a leap year\")\n",
        "else:\n",
        "  print (\"it is not a leap year\")"
      ],
      "metadata": {
        "colab": {
          "base_uri": "https://localhost:8080/",
          "height": 0
        },
        "id": "wUS03Wz7G3fC",
        "outputId": "d978e9ce-b943-4c64-d0da-f89ad37a2bc2"
      },
      "execution_count": 47,
      "outputs": [
        {
          "output_type": "stream",
          "name": "stdout",
          "text": [
            "enter a year2025\n",
            "it is not a leap year\n"
          ]
        }
      ]
    },
    {
      "cell_type": "code",
      "source": [
        "## 2) Write a program that asks for the user's marks and prints the grade based on the following:\n",
        "#90-100: A\n",
        "#80-89: B\n",
        "#70-79: C\n",
        "#60-69: D\n",
        "#Below 60: F"
      ],
      "metadata": {
        "id": "Su5t6rqZHRQE"
      },
      "execution_count": 48,
      "outputs": []
    },
    {
      "cell_type": "code",
      "source": [
        "marks =int(input(\"enter your marks: \"))\n",
        "\n",
        "if marks >=90:\n",
        "  print(\"grade A\")\n",
        "elif marks >=80 :\n",
        "  print(\"grade B\")\n",
        "elif marks >=70 :\n",
        "  print(\"grade C\")\n",
        "elif marks>=60 :\n",
        "  print(\"grade D\")\n",
        "else:\n",
        "  print(\"fail\")\n"
      ],
      "metadata": {
        "colab": {
          "base_uri": "https://localhost:8080/",
          "height": 0
        },
        "id": "okKmtPgqJDXx",
        "outputId": "a28d5cb3-4f1b-4ade-d2de-b88049ce6a32"
      },
      "execution_count": 54,
      "outputs": [
        {
          "output_type": "stream",
          "name": "stdout",
          "text": [
            "enter your matks: 65\n",
            "grade D\n"
          ]
        }
      ]
    },
    {
      "cell_type": "code",
      "source": [
        "## Ask user for gender (M/F) ,and print a message accordingly."
      ],
      "metadata": {
        "id": "KB_gPbcBPbm8"
      },
      "execution_count": 55,
      "outputs": []
    },
    {
      "cell_type": "code",
      "source": [
        "age = input(\"enter your gender:-- \").upper()\n",
        "if age == \"M\":\n",
        "  print(\"hello sir !\")\n",
        "elif age == \"F\":\n",
        "  print(\"Hello Mam !\")\n",
        "else:\n",
        "  print(\"invalid\")"
      ],
      "metadata": {
        "colab": {
          "base_uri": "https://localhost:8080/",
          "height": 0
        },
        "id": "FVc2pJmsQz2S",
        "outputId": "b5e16b4d-bfd2-4bb4-9fa6-7ea2d7e5524a"
      },
      "execution_count": 71,
      "outputs": [
        {
          "output_type": "stream",
          "name": "stdout",
          "text": [
            "enter your gender:-- c\n",
            "invalid\n"
          ]
        }
      ]
    },
    {
      "cell_type": "code",
      "source": [
        "## To check the number is in the range 1 to 100"
      ],
      "metadata": {
        "id": "9WYvoNZ6RZOF"
      },
      "execution_count": 72,
      "outputs": []
    },
    {
      "cell_type": "code",
      "source": [
        "num = int(input(\"enter a number: \"))\n",
        "if 1 <= num <=100 :\n",
        "  print(\"number is in range\")\n",
        "else:\n",
        "  print(\"out if range\")"
      ],
      "metadata": {
        "colab": {
          "base_uri": "https://localhost:8080/",
          "height": 0
        },
        "id": "Tz7x46LJT7l1",
        "outputId": "f83c02f4-50ef-4f02-a640-9778ce952fe4"
      },
      "execution_count": 80,
      "outputs": [
        {
          "output_type": "stream",
          "name": "stdout",
          "text": [
            "enter a number: 100\n",
            "number is in range\n"
          ]
        }
      ]
    },
    {
      "cell_type": "code",
      "source": [
        "## Write a Python script to check if a triangle is valid based on the sum of its angles (sum must be 180°)."
      ],
      "metadata": {
        "id": "9Utdn8DjVAE5"
      },
      "execution_count": 81,
      "outputs": []
    },
    {
      "cell_type": "code",
      "source": [
        "a= int(input(\"enter first triiangle\"))\n",
        "b= int(input(\"enter second triangle\"))\n",
        "c=int(input(\"enter third triangle\"))\n",
        "\n",
        "if a+b+c == 180 :\n",
        "  print(\"valid triangle\")\n",
        "else:\n",
        "  print(\"invalid triangle\")"
      ],
      "metadata": {
        "colab": {
          "base_uri": "https://localhost:8080/",
          "height": 0
        },
        "id": "Yjpd8U9uVm3r",
        "outputId": "0f1c2f94-aa8a-458e-bb89-ddbd44fa5ae1"
      },
      "execution_count": 90,
      "outputs": [
        {
          "output_type": "stream",
          "name": "stdout",
          "text": [
            "enter first triiangle90\n",
            "enter second triangle90\n",
            "enter third triangle90\n",
            "invalid triangle\n"
          ]
        }
      ]
    },
    {
      "cell_type": "code",
      "source": [
        "char = input(\"enter a character : \").lower()\n",
        "\n",
        "if char in \"aeiou\" :\n",
        "  print(\"vowel\")\n",
        "else:\n",
        "  print(\"consonant\")"
      ],
      "metadata": {
        "colab": {
          "base_uri": "https://localhost:8080/",
          "height": 0
        },
        "id": "dfAbjirQXBlV",
        "outputId": "5af44cf4-9bba-4e75-853f-d4d69978182b"
      },
      "execution_count": 108,
      "outputs": [
        {
          "output_type": "stream",
          "name": "stdout",
          "text": [
            "enter a character : m\n",
            "consonant\n"
          ]
        }
      ]
    },
    {
      "cell_type": "code",
      "source": [
        "\n",
        ""
      ],
      "metadata": {
        "colab": {
          "base_uri": "https://localhost:8080/",
          "height": 159
        },
        "id": "fmwHLF7MXXmX",
        "outputId": "b06980cc-e5be-43cc-c3a6-1dae251c2191"
      },
      "execution_count": 107,
      "outputs": [
        {
          "output_type": "error",
          "ename": "NameError",
          "evalue": "name 'z' is not defined",
          "traceback": [
            "\u001b[0;31m---------------------------------------------------------------------------\u001b[0m",
            "\u001b[0;31mNameError\u001b[0m                                 Traceback (most recent call last)",
            "\u001b[0;32m<ipython-input-107-53852496458c>\u001b[0m in \u001b[0;36m<cell line: 0>\u001b[0;34m()\u001b[0m\n\u001b[0;32m----> 1\u001b[0;31m \u001b[0mz\u001b[0m\u001b[0;34m\u001b[0m\u001b[0;34m\u001b[0m\u001b[0m\n\u001b[0m\u001b[1;32m      2\u001b[0m \u001b[0;34m\u001b[0m\u001b[0m\n",
            "\u001b[0;31mNameError\u001b[0m: name 'z' is not defined"
          ]
        }
      ]
    },
    {
      "cell_type": "code",
      "source": [],
      "metadata": {
        "id": "60-jfcMAYxiK"
      },
      "execution_count": null,
      "outputs": []
    }
  ]
}