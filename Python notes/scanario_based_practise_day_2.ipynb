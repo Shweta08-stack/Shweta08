{
  "nbformat": 4,
  "nbformat_minor": 0,
  "metadata": {
    "colab": {
      "provenance": []
    },
    "kernelspec": {
      "name": "python3",
      "display_name": "Python 3"
    },
    "language_info": {
      "name": "python"
    }
  },
  "cells": [
    {
      "cell_type": "code",
      "execution_count": 1,
      "metadata": {
        "id": "gbxjbOe-scXD"
      },
      "outputs": [],
      "source": [
        "### Write a program that asks for a password and checks if it matches a predefined password."
      ]
    },
    {
      "cell_type": "code",
      "source": [
        "set_password =\"python@123\"\n",
        "\n",
        "password =input(\"enter your password:-- must contain 1 caps,1 small,1 char,and 9 digits :----\")\n",
        "\n",
        "if password==set_password:\n",
        "  print(\"access granted\")\n",
        "else:\n",
        "  print('invalid')"
      ],
      "metadata": {
        "colab": {
          "base_uri": "https://localhost:8080/"
        },
        "id": "go7HWm1lsgu0",
        "outputId": "255fdcf9-fefb-4ea4-bc93-53f53e64016f"
      },
      "execution_count": 23,
      "outputs": [
        {
          "output_type": "stream",
          "name": "stdout",
          "text": [
            "enter your password:-- must contain 1 caps,1 small,1 char,and 9 digits :----python@123\n",
            "access granted\n"
          ]
        }
      ]
    },
    {
      "cell_type": "code",
      "source": [
        "## Write a program that takes the three sides of a triangle as input and determines whether it is an equilateral, isosceles, or scalene triangle."
      ],
      "metadata": {
        "id": "23vwSdqdtLOv"
      },
      "execution_count": 22,
      "outputs": []
    },
    {
      "cell_type": "code",
      "source": [
        "a=int(input(\"enter first triangle:-\"))\n",
        "b= int(input(\"enter second triangle:--\"))\n",
        "c=int(input(\"enter third triangle\"))\n",
        "\n",
        "if a== b== c:\n",
        "  print(\"equivalent\")\n",
        "elif a==b or b==c or a==c:\n",
        "  print(\"isosceles\")\n",
        "else:\n",
        "  print(\"scalene\")"
      ],
      "metadata": {
        "colab": {
          "base_uri": "https://localhost:8080/"
        },
        "id": "T96CDn1ht_Lj",
        "outputId": "6ff64ebe-a992-4f2c-f9c6-303447562983"
      },
      "execution_count": 26,
      "outputs": [
        {
          "output_type": "stream",
          "name": "stdout",
          "text": [
            "enter first triangle:-50\n",
            "enter second triangle:--50\n",
            "enter third triangle5\n",
            "isosceles\n"
          ]
        }
      ]
    },
    {
      "cell_type": "code",
      "source": [
        "## Write a program to check if a person is eligible to vote (age must be 18 or above)."
      ],
      "metadata": {
        "id": "2_TqtuoWukE2"
      },
      "execution_count": 28,
      "outputs": []
    },
    {
      "cell_type": "code",
      "source": [
        "age = int(input(\"enter your age :-- \"))\n",
        "\n",
        "if age >=18:\n",
        "  print(\"you are eligible for vote\")\n",
        "else:\n",
        "  print('you are not eligible for vote')"
      ],
      "metadata": {
        "colab": {
          "base_uri": "https://localhost:8080/"
        },
        "id": "k5_FgQMtxRf-",
        "outputId": "22b8e2a5-0fe0-451a-8ee7-016d9ac926d4"
      },
      "execution_count": 31,
      "outputs": [
        {
          "output_type": "stream",
          "name": "stdout",
          "text": [
            "enter your age :-- 60\n",
            "you are eligible for vote\n"
          ]
        }
      ]
    },
    {
      "cell_type": "code",
      "source": [
        "## A company gives bonuses based on an employee’s salary:\n",
        "#If salary < ₹50,000, bonus is 10%.\n",
        "#If salary ≥ ₹50,000, bonus is 5%.\n",
        "#Calculate and print the bonus amount."
      ],
      "metadata": {
        "id": "TUUx51QNxun_"
      },
      "execution_count": 39,
      "outputs": []
    },
    {
      "cell_type": "code",
      "source": [
        "salary = float(input(\"enter your salary:- \"))\n",
        "\n",
        "if salary < 50000:\n",
        "  bonus=salary*0.1\n",
        "else:\n",
        "  bonus=salary *0.05\n",
        "print(\"your bonus is:-\",bonus)"
      ],
      "metadata": {
        "colab": {
          "base_uri": "https://localhost:8080/"
        },
        "id": "Nuwn_13-xyay",
        "outputId": "dcddec39-4b04-46f5-dec7-1cd5629cde37"
      },
      "execution_count": 59,
      "outputs": [
        {
          "output_type": "stream",
          "name": "stdout",
          "text": [
            "enter your salary:- 49000\n",
            "your bonus is:- 4900.0\n"
          ]
        }
      ]
    },
    {
      "cell_type": "code",
      "source": [
        "## A shop offers a discount based on purchase amount:\n",
        "#Above ₹5000: 20% discount\n",
        "#₹1000-₹5000: 10% discount\n",
        "#Below ₹1000: No discount\n",
        "#Ask the user for the purchase amount and calculate the final price."
      ],
      "metadata": {
        "id": "xsy7bzRL1x_2"
      },
      "execution_count": 61,
      "outputs": []
    },
    {
      "cell_type": "code",
      "source": [
        "amt = float(input(\"Enter your amount\"))\n",
        "if amt > 5000 :\n",
        "  discount = amt * 0.2   ## 20%\n",
        "elif amt >=1000 :\n",
        "  discount = amt * 0.1   #10%\n",
        "else:\n",
        "  discount = 0\n",
        "print(\"your discount is: \",discount)\n"
      ],
      "metadata": {
        "colab": {
          "base_uri": "https://localhost:8080/"
        },
        "id": "z4H33xm_6Woe",
        "outputId": "6ad191f5-37c7-4645-eed7-83af473602c2"
      },
      "execution_count": 79,
      "outputs": [
        {
          "output_type": "stream",
          "name": "stdout",
          "text": [
            "Enter your amount400\n",
            "your discount is:  0\n"
          ]
        }
      ]
    },
    {
      "cell_type": "code",
      "source": [
        "## Take three numbers as input and print them in ascending order."
      ],
      "metadata": {
        "id": "Q_YjbzfW73s2"
      },
      "execution_count": 80,
      "outputs": []
    },
    {
      "cell_type": "code",
      "source": [
        "a=int(input(\"enter first number: \"))\n",
        "b= int(input('enter second number'))\n",
        "c= int(input(\"enter third number\"))\n",
        "\n",
        "num=[a,b,c]\n",
        "\n",
        "num.sort()\n",
        "\n",
        "print(\"Numbrs are in ascending order : \",num)"
      ],
      "metadata": {
        "colab": {
          "base_uri": "https://localhost:8080/"
        },
        "id": "uvlxX-aV9-cX",
        "outputId": "034b096e-9fee-4912-dcdd-5adfbbd71640"
      },
      "execution_count": 86,
      "outputs": [
        {
          "output_type": "stream",
          "name": "stdout",
          "text": [
            "enter first number: 90\n",
            "enter second number10\n",
            "enter third number110\n",
            "Numbrs are in ascending order :  [10, 90, 110]\n"
          ]
        }
      ]
    },
    {
      "cell_type": "code",
      "source": [
        "a= int(input(\"enter first number\"))  #### ti check the gretest number\n",
        "b=int(input(\"enter second number\"))\n",
        "\n",
        "if a>b :\n",
        "  print(\"greatest no is: \",a)\n",
        "else:\n",
        "  print(\"greatest number is :\",b)"
      ],
      "metadata": {
        "colab": {
          "base_uri": "https://localhost:8080/"
        },
        "id": "viIgwASR-vQv",
        "outputId": "1fa8cac7-b78d-4080-e2db-0f8b5f8d24b1"
      },
      "execution_count": 90,
      "outputs": [
        {
          "output_type": "stream",
          "name": "stdout",
          "text": [
            "enter first number20.50\n",
            "enter second number10\n",
            "greatest no is:  20.5\n"
          ]
        }
      ]
    },
    {
      "cell_type": "code",
      "source": [
        "## Write a program to check whether a given day is a weekday or a weekend."
      ],
      "metadata": {
        "id": "5K3X5EeiBkzi"
      },
      "execution_count": null,
      "outputs": []
    },
    {
      "cell_type": "code",
      "source": [
        "day = input(\"enter a day: \").lower()\n",
        "\n",
        "if day in [\"saturday\",\"sunday\"]:\n",
        "  print(\"weekend\")\n",
        "else:\n",
        "  print(\"weekday\")"
      ],
      "metadata": {
        "colab": {
          "base_uri": "https://localhost:8080/"
        },
        "id": "y-rdjIBPCB5V",
        "outputId": "b885e85b-cd0c-45aa-d401-af469f403621"
      },
      "execution_count": 101,
      "outputs": [
        {
          "output_type": "stream",
          "name": "stdout",
          "text": [
            "enter a day: saturday\n",
            "weekend\n"
          ]
        }
      ]
    },
    {
      "cell_type": "code",
      "source": [],
      "metadata": {
        "id": "HDZZOOGkCWER"
      },
      "execution_count": 101,
      "outputs": []
    }
  ]
}