{
  "nbformat": 4,
  "nbformat_minor": 0,
  "metadata": {
    "colab": {
      "provenance": []
    },
    "kernelspec": {
      "name": "python3",
      "display_name": "Python 3"
    },
    "language_info": {
      "name": "python"
    }
  },
  "cells": [
    {
      "cell_type": "code",
      "execution_count": 1,
      "metadata": {
        "id": "7ANzMPK1J-Ey"
      },
      "outputs": [],
      "source": [
        "\n",
        "##  Write a function add_numbers(a, b) that takes two numbers as input and returns their sum."
      ]
    },
    {
      "cell_type": "code",
      "source": [
        "def add_number (a,b):   ## def is a define the function,whenever we use the return we define (def) the function.\n",
        "  return a+b"
      ],
      "metadata": {
        "id": "vTtZt6PvK514"
      },
      "execution_count": 4,
      "outputs": []
    },
    {
      "cell_type": "code",
      "source": [
        "add_number(4,5)    ## blank paranthesis means we call the function"
      ],
      "metadata": {
        "colab": {
          "base_uri": "https://localhost:8080/"
        },
        "id": "bD7fQA4yLzUV",
        "outputId": "1d6368f0-5b93-44fa-e1e6-9fd018e073e7"
      },
      "execution_count": 8,
      "outputs": [
        {
          "output_type": "execute_result",
          "data": {
            "text/plain": [
              "9"
            ]
          },
          "metadata": {},
          "execution_count": 8
        }
      ]
    },
    {
      "cell_type": "code",
      "source": [
        "add_number(10,10)"
      ],
      "metadata": {
        "colab": {
          "base_uri": "https://localhost:8080/"
        },
        "id": "G8VdbWLZL14T",
        "outputId": "a627c866-3083-4a50-bbb8-19466510cecf"
      },
      "execution_count": 6,
      "outputs": [
        {
          "output_type": "execute_result",
          "data": {
            "text/plain": [
              "20"
            ]
          },
          "metadata": {},
          "execution_count": 6
        }
      ]
    },
    {
      "cell_type": "code",
      "source": [
        "# Write a function check_even_odd(n) that takes a number as input and prints whether it is \"Even\" or \"Odd\".\n"
      ],
      "metadata": {
        "id": "4KnI-c-PMFvc"
      },
      "execution_count": 9,
      "outputs": []
    },
    {
      "cell_type": "code",
      "source": [
        "def check_even_odd(n):     #we wull use if else condition\n",
        "  if (n%2==0):\n",
        "   print(\"Even\")\n",
        "  else:\n",
        "     print(\"Odd\")"
      ],
      "metadata": {
        "id": "63W1NHiFMnNj"
      },
      "execution_count": 18,
      "outputs": []
    },
    {
      "cell_type": "code",
      "source": [
        "check_even_odd(12)"
      ],
      "metadata": {
        "colab": {
          "base_uri": "https://localhost:8080/"
        },
        "id": "Nmq1neBUMvRn",
        "outputId": "9461e788-594a-4acc-c44f-d958b786afb8"
      },
      "execution_count": 19,
      "outputs": [
        {
          "output_type": "stream",
          "name": "stdout",
          "text": [
            "Even\n"
          ]
        }
      ]
    },
    {
      "cell_type": "code",
      "source": [
        "check_even_odd(3)"
      ],
      "metadata": {
        "colab": {
          "base_uri": "https://localhost:8080/"
        },
        "id": "kkAIEJWYSBMe",
        "outputId": "b2eba42d-c79d-451b-fa9f-e8a297f13114"
      },
      "execution_count": 20,
      "outputs": [
        {
          "output_type": "stream",
          "name": "stdout",
          "text": [
            "Odd\n"
          ]
        }
      ]
    },
    {
      "cell_type": "code",
      "source": [
        "# Write a function find_max(a, b, c) that takes three numbers as input and returns the largest one."
      ],
      "metadata": {
        "id": "1HX16J7XSfOe"
      },
      "execution_count": 21,
      "outputs": []
    },
    {
      "cell_type": "code",
      "source": [
        "def find_max(a,b,c):\n",
        "  return max(a,b,c)    ## max is inbuilt function"
      ],
      "metadata": {
        "id": "Q__jDDaESkcC"
      },
      "execution_count": 22,
      "outputs": []
    },
    {
      "cell_type": "code",
      "source": [
        "find_max(20,6,5)"
      ],
      "metadata": {
        "colab": {
          "base_uri": "https://localhost:8080/"
        },
        "id": "MH4jtbOsSvJv",
        "outputId": "df1fb66e-0d96-44ec-d0ed-cc0f3080c60e"
      },
      "execution_count": 23,
      "outputs": [
        {
          "output_type": "execute_result",
          "data": {
            "text/plain": [
              "20"
            ]
          },
          "metadata": {},
          "execution_count": 23
        }
      ]
    },
    {
      "cell_type": "code",
      "source": [
        "max(30,15,100)  ## max is inbuild function"
      ],
      "metadata": {
        "colab": {
          "base_uri": "https://localhost:8080/"
        },
        "id": "2Hxy7m7aSyXP",
        "outputId": "79df5408-fc33-4cd6-c6f6-02b45354e7cd"
      },
      "execution_count": 24,
      "outputs": [
        {
          "output_type": "execute_result",
          "data": {
            "text/plain": [
              "100"
            ]
          },
          "metadata": {},
          "execution_count": 24
        }
      ]
    },
    {
      "cell_type": "code",
      "source": [
        "min(10,20,30)     ## min is inbuilt fuction"
      ],
      "metadata": {
        "colab": {
          "base_uri": "https://localhost:8080/"
        },
        "id": "2lFypEcCS0tj",
        "outputId": "7ba48429-2fbf-4866-9565-f2d477b596df"
      },
      "execution_count": 25,
      "outputs": [
        {
          "output_type": "execute_result",
          "data": {
            "text/plain": [
              "10"
            ]
          },
          "metadata": {},
          "execution_count": 25
        }
      ]
    },
    {
      "cell_type": "code",
      "source": [
        "len([1,3,5,6])    ## len is inbuilt function"
      ],
      "metadata": {
        "colab": {
          "base_uri": "https://localhost:8080/"
        },
        "id": "VfLw83j8S_xm",
        "outputId": "91f33e69-8825-43be-fea3-1e9ae9bfccdc"
      },
      "execution_count": 30,
      "outputs": [
        {
          "output_type": "execute_result",
          "data": {
            "text/plain": [
              "4"
            ]
          },
          "metadata": {},
          "execution_count": 30
        }
      ]
    },
    {
      "cell_type": "code",
      "source": [
        "sorted ([20,60,10,5,300])  ## sorted is also inbuilt function(we can directly use)"
      ],
      "metadata": {
        "colab": {
          "base_uri": "https://localhost:8080/"
        },
        "id": "3zHo2ZcCTUHA",
        "outputId": "5dbcfcce-94bc-4048-fde2-0e66ebca7a8f"
      },
      "execution_count": 33,
      "outputs": [
        {
          "output_type": "execute_result",
          "data": {
            "text/plain": [
              "[5, 10, 20, 60, 300]"
            ]
          },
          "metadata": {},
          "execution_count": 33
        }
      ]
    },
    {
      "cell_type": "code",
      "source": [
        "# Write a function factorial(n) that takes a number and returns its factorial."
      ],
      "metadata": {
        "id": "6V5CKxUFT5vH"
      },
      "execution_count": 34,
      "outputs": []
    },
    {
      "cell_type": "code",
      "source": [
        "def factorial(n):\n",
        "  fact = 1\n",
        "  for i in range (2 , n+1):   ## we use for loop\n",
        "    fact *= i   ## we are saving value in fact thats why we right this // or we can also write as fact = fact * i\n",
        "  return fact"
      ],
      "metadata": {
        "id": "pB-sVM-uT7lB"
      },
      "execution_count": 38,
      "outputs": []
    },
    {
      "cell_type": "code",
      "source": [
        "factorial(3)"
      ],
      "metadata": {
        "colab": {
          "base_uri": "https://localhost:8080/"
        },
        "id": "nU-nCI7qU_kM",
        "outputId": "239d1381-b355-4bcc-c350-eb53ce98bbac"
      },
      "execution_count": 44,
      "outputs": [
        {
          "output_type": "execute_result",
          "data": {
            "text/plain": [
              "6"
            ]
          },
          "metadata": {},
          "execution_count": 44
        }
      ]
    },
    {
      "cell_type": "code",
      "source": [
        "import math     ## math is a library // when we use library we need to take import   ## import is inbuilt"
      ],
      "metadata": {
        "id": "9LeBgEqhWBSK"
      },
      "execution_count": 54,
      "outputs": []
    },
    {
      "cell_type": "code",
      "source": [
        "math.factorial(2)"
      ],
      "metadata": {
        "colab": {
          "base_uri": "https://localhost:8080/"
        },
        "id": "3iAOvi56W2ub",
        "outputId": "0fda9f5f-5bd9-40a5-bef0-80068242f52b"
      },
      "execution_count": 55,
      "outputs": [
        {
          "output_type": "execute_result",
          "data": {
            "text/plain": [
              "2"
            ]
          },
          "metadata": {},
          "execution_count": 55
        }
      ]
    },
    {
      "cell_type": "code",
      "source": [
        "math.sqrt(81)"
      ],
      "metadata": {
        "colab": {
          "base_uri": "https://localhost:8080/"
        },
        "id": "J8Y7QDQcW42V",
        "outputId": "e82acd92-0e39-43a2-fa92-344cb252911e"
      },
      "execution_count": 56,
      "outputs": [
        {
          "output_type": "execute_result",
          "data": {
            "text/plain": [
              "9.0"
            ]
          },
          "metadata": {},
          "execution_count": 56
        }
      ]
    },
    {
      "cell_type": "code",
      "source": [
        "math.sin(10)"
      ],
      "metadata": {
        "colab": {
          "base_uri": "https://localhost:8080/"
        },
        "id": "M81iAKCWW9Dy",
        "outputId": "da206597-d3a5-4766-f77b-4c6dfb3e4cec"
      },
      "execution_count": 57,
      "outputs": [
        {
          "output_type": "execute_result",
          "data": {
            "text/plain": [
              "-0.5440211108893698"
            ]
          },
          "metadata": {},
          "execution_count": 57
        }
      ]
    },
    {
      "cell_type": "code",
      "source": [
        "float(10)"
      ],
      "metadata": {
        "colab": {
          "base_uri": "https://localhost:8080/"
        },
        "id": "1n_w4to5W-xY",
        "outputId": "275ad0ee-3b9d-48fa-f4fc-58953651b082"
      },
      "execution_count": 58,
      "outputs": [
        {
          "output_type": "execute_result",
          "data": {
            "text/plain": [
              "10.0"
            ]
          },
          "metadata": {},
          "execution_count": 58
        }
      ]
    },
    {
      "cell_type": "code",
      "source": [
        "int(20.10)"
      ],
      "metadata": {
        "colab": {
          "base_uri": "https://localhost:8080/"
        },
        "id": "4AfZkSBkXAOu",
        "outputId": "a076f498-eca1-45a6-fa07-a22b53882d54"
      },
      "execution_count": 59,
      "outputs": [
        {
          "output_type": "execute_result",
          "data": {
            "text/plain": [
              "20"
            ]
          },
          "metadata": {},
          "execution_count": 59
        }
      ]
    },
    {
      "cell_type": "code",
      "source": [
        "math.pi"
      ],
      "metadata": {
        "colab": {
          "base_uri": "https://localhost:8080/"
        },
        "id": "rR3DHaZqXB3k",
        "outputId": "0db76d13-d483-46bf-c17d-01de76710c43"
      },
      "execution_count": 60,
      "outputs": [
        {
          "output_type": "execute_result",
          "data": {
            "text/plain": [
              "3.141592653589793"
            ]
          },
          "metadata": {},
          "execution_count": 60
        }
      ]
    },
    {
      "cell_type": "code",
      "source": [
        "math.tan(30)"
      ],
      "metadata": {
        "colab": {
          "base_uri": "https://localhost:8080/"
        },
        "id": "1RRN8dV1XEXb",
        "outputId": "c63844ee-3cd6-414b-dc0d-1bd6e526d3ab"
      },
      "execution_count": 61,
      "outputs": [
        {
          "output_type": "execute_result",
          "data": {
            "text/plain": [
              "-6.405331196646276"
            ]
          },
          "metadata": {},
          "execution_count": 61
        }
      ]
    },
    {
      "cell_type": "code",
      "source": [
        "## #Write a function count_vowels(text) that takes a string and returns the number of vowels (a, e, i, o, u) in it.\n",
        ""
      ],
      "metadata": {
        "id": "KUSNWYsuXF__"
      },
      "execution_count": 62,
      "outputs": []
    },
    {
      "cell_type": "code",
      "source": [
        "def count_vowels(text):\n",
        "  vowels = \"aeiou\"\n",
        "  count=sum(1 for i in text.lower()if i in vowels)    ##comprehension   #first sum > cnvert text into lower>>then save the value in i>#> check if i is availble in vowels then sum ani give the result\n",
        "  return count"
      ],
      "metadata": {
        "id": "ULViTXzzXKpo"
      },
      "execution_count": 76,
      "outputs": []
    },
    {
      "cell_type": "code",
      "source": [
        "count_vowels(\"shweta is a smart GIRL\")"
      ],
      "metadata": {
        "colab": {
          "base_uri": "https://localhost:8080/"
        },
        "id": "RRf5LsgmXSHt",
        "outputId": "5895f300-0773-4299-98a2-b4baf25c473f"
      },
      "execution_count": 77,
      "outputs": [
        {
          "output_type": "execute_result",
          "data": {
            "text/plain": [
              "6"
            ]
          },
          "metadata": {},
          "execution_count": 77
        }
      ]
    },
    {
      "cell_type": "code",
      "source": [
        "count_vowels(\"PROgrammming\")"
      ],
      "metadata": {
        "colab": {
          "base_uri": "https://localhost:8080/"
        },
        "id": "lcw2C1_gY7qu",
        "outputId": "2a6ab06d-f675-4583-db19-ef704821f8b5"
      },
      "execution_count": 78,
      "outputs": [
        {
          "output_type": "execute_result",
          "data": {
            "text/plain": [
              "3"
            ]
          },
          "metadata": {},
          "execution_count": 78
        }
      ]
    },
    {
      "cell_type": "code",
      "source": [],
      "metadata": {
        "id": "0Oiw9MV-ZcbG"
      },
      "execution_count": null,
      "outputs": []
    }
  ]
}