{
  "nbformat": 4,
  "nbformat_minor": 0,
  "metadata": {
    "colab": {
      "provenance": []
    },
    "kernelspec": {
      "name": "python3",
      "display_name": "Python 3"
    },
    "language_info": {
      "name": "python"
    }
  },
  "cells": [
    {
      "cell_type": "code",
      "execution_count": 2,
      "metadata": {
        "id": "yWYzdEcn2odn"
      },
      "outputs": [],
      "source": [
        "### Factorial Series :----------IMP   (eg:-- 5!=5*4*3*2*1)"
      ]
    },
    {
      "cell_type": "code",
      "source": [
        "num=5\n",
        "fact=1\n",
        "while num >1:\n",
        "  temp=num   ## current value save in num\n",
        "  fact=fact*temp\n",
        "  num=temp-1\n",
        "\n",
        "\n",
        "print(\"factorial is:--\",fact)"
      ],
      "metadata": {
        "colab": {
          "base_uri": "https://localhost:8080/"
        },
        "id": "OR-Bdy2J34pe",
        "outputId": "8cbfa7fa-25fc-4966-ada8-82207a269782"
      },
      "execution_count": 15,
      "outputs": [
        {
          "output_type": "stream",
          "name": "stdout",
          "text": [
            "factorial is:-- 120\n"
          ]
        }
      ]
    },
    {
      "cell_type": "code",
      "source": [
        "### Reverse the Number\n",
        ""
      ],
      "metadata": {
        "id": "QcuPfjHM4Uyr"
      },
      "execution_count": 16,
      "outputs": []
    },
    {
      "cell_type": "code",
      "source": [
        "num = 1234\n",
        "rev_num = 0\n",
        "\n",
        "while num > 0:\n",
        "  temp = num % 10    ##get last digit from num\n",
        "  rev_num =rev_num * 10 + temp\n",
        "  num = num // 10    ## remive last digit from num\n",
        "\n",
        "print(rev_num)"
      ],
      "metadata": {
        "colab": {
          "base_uri": "https://localhost:8080/"
        },
        "id": "R4OncL2h56OK",
        "outputId": "c1dcbadf-25bc-4627-92a9-b3afb20d146a"
      },
      "execution_count": 27,
      "outputs": [
        {
          "output_type": "stream",
          "name": "stdout",
          "text": [
            "4321\n"
          ]
        }
      ]
    },
    {
      "cell_type": "code",
      "source": [
        "num = 12345\n",
        "digit = 0\n",
        "\n",
        "while num > 0 :\n",
        "  temp = num % 10\n",
        "  digit = digit*10 + temp\n",
        "  num= num // 10\n",
        "\n",
        "print(\"reverse number is=\",digit)"
      ],
      "metadata": {
        "colab": {
          "base_uri": "https://localhost:8080/"
        },
        "id": "nB1pF20U604k",
        "outputId": "add32012-5ee6-44b3-eb57-c0a4221302a2"
      },
      "execution_count": 31,
      "outputs": [
        {
          "output_type": "stream",
          "name": "stdout",
          "text": [
            "reverse number is= 54321\n"
          ]
        }
      ]
    },
    {
      "cell_type": "code",
      "source": [
        "## CONDITIONAL STATEMENT :----"
      ],
      "metadata": {
        "id": "aLuXiRmN8yMn"
      },
      "execution_count": 32,
      "outputs": []
    },
    {
      "cell_type": "code",
      "source": [
        "## IF ,ELSE :-- Appply only single condition\n",
        "## If else and elif     :-- Apply on multiple condition\n",
        "## ---- Pass , Continue and Break"
      ],
      "metadata": {
        "id": "56txBY-c-dUt"
      },
      "execution_count": 33,
      "outputs": []
    },
    {
      "cell_type": "code",
      "source": [
        "## IF ELSE CONDITION"
      ],
      "metadata": {
        "id": "th286-sG-t10"
      },
      "execution_count": 34,
      "outputs": []
    },
    {
      "cell_type": "code",
      "source": [
        "# QUE :-- 1)Check the number is positive or negative"
      ],
      "metadata": {
        "id": "T99L3x0D-z-s"
      },
      "execution_count": 35,
      "outputs": []
    },
    {
      "cell_type": "code",
      "source": [
        "num = 5\n",
        "\n",
        "if num > 0:\n",
        "  print(\"number is positive\")\n",
        "else:\n",
        "  print(\"number is negative\")"
      ],
      "metadata": {
        "colab": {
          "base_uri": "https://localhost:8080/"
        },
        "id": "08S6019S-7wo",
        "outputId": "c83d04b7-8f19-4a08-bce5-b5e64ba8ae57"
      },
      "execution_count": 39,
      "outputs": [
        {
          "output_type": "stream",
          "name": "stdout",
          "text": [
            "number is positive\n"
          ]
        }
      ]
    },
    {
      "cell_type": "code",
      "source": [
        " num = -10\n",
        "\n",
        " if num >0 :\n",
        "  print(\"number is positive\")\n",
        "else:\n",
        "  print(\"number is negative\")"
      ],
      "metadata": {
        "colab": {
          "base_uri": "https://localhost:8080/"
        },
        "id": "_mPGpQTk_LQD",
        "outputId": "c7ae2c3a-0724-4980-96f4-58fcd1ee9080"
      },
      "execution_count": 40,
      "outputs": [
        {
          "output_type": "stream",
          "name": "stdout",
          "text": [
            "number is negative\n"
          ]
        }
      ]
    },
    {
      "cell_type": "code",
      "source": [
        "## BY USING INT(INPUT)"
      ],
      "metadata": {
        "id": "doJDJ5oU_jJP"
      },
      "execution_count": 41,
      "outputs": []
    },
    {
      "cell_type": "code",
      "source": [
        "num = int(input(\"enter the number: \"))\n",
        "\n",
        "while num >0:\n",
        "  print(\"number is positive:--\")\n",
        "else:\n",
        "  print(\"number is negative \")"
      ],
      "metadata": {
        "colab": {
          "base_uri": "https://localhost:8080/"
        },
        "id": "Xp2ScTs8BGWa",
        "outputId": "ad1baa90-f199-4e45-d85a-75f44c1c69e6"
      },
      "execution_count": 48,
      "outputs": [
        {
          "output_type": "stream",
          "name": "stdout",
          "text": [
            "enter the number: -5\n",
            "number is negative \n"
          ]
        }
      ]
    },
    {
      "cell_type": "code",
      "source": [
        "## QUE 2) FIND THE EVEN ODD VALUE :--"
      ],
      "metadata": {
        "id": "VAsOIECcBjvU"
      },
      "execution_count": 49,
      "outputs": []
    },
    {
      "cell_type": "code",
      "source": [
        "num = 9\n",
        "\n",
        "if num % 2 ==0:  #== operator is used to compare two values in Python. It checks if the value on the left side is equal to the value on the right side.\n",
        "  print(\"Number is Even\")\n",
        "else:\n",
        "  print(\"number is Odd\")"
      ],
      "metadata": {
        "colab": {
          "base_uri": "https://localhost:8080/"
        },
        "id": "HiNlhTbYBvV0",
        "outputId": "b011b6b6-fdad-4de6-ee62-8117de117298"
      },
      "execution_count": 50,
      "outputs": [
        {
          "output_type": "stream",
          "name": "stdout",
          "text": [
            "Number is Even\n"
          ]
        }
      ]
    },
    {
      "cell_type": "code",
      "source": [
        "num = 12 ##another example\n",
        "\n",
        "if num % 2 ==0:\n",
        "  print(\"Number is Even\")\n",
        "else:\n",
        "  print(\"Number is Odd\")"
      ],
      "metadata": {
        "colab": {
          "base_uri": "https://localhost:8080/"
        },
        "id": "GxdgWcQ5CBx1",
        "outputId": "7941fad4-3e9a-4d3c-aaa0-346187656648"
      },
      "execution_count": 51,
      "outputs": [
        {
          "output_type": "stream",
          "name": "stdout",
          "text": [
            "Number is Even\n"
          ]
        }
      ]
    },
    {
      "cell_type": "code",
      "source": [
        "## One more sceenario based que\n",
        "###  Checks the voting Elegibility"
      ],
      "metadata": {
        "id": "ZJndYrFVCxJy"
      },
      "execution_count": 52,
      "outputs": []
    },
    {
      "cell_type": "code",
      "source": [
        "num = 50\n",
        "\n",
        "if num >= 18 :\n",
        " print(\"You are Eligible for vote\")\n",
        "else:\n",
        "  print(\"You are not eligible for vote\")"
      ],
      "metadata": {
        "colab": {
          "base_uri": "https://localhost:8080/"
        },
        "id": "0FykJ42UC887",
        "outputId": "9ccca9f1-6734-4015-def6-f3ae76625c5b"
      },
      "execution_count": 57,
      "outputs": [
        {
          "output_type": "stream",
          "name": "stdout",
          "text": [
            "You are Eligible for vote\n"
          ]
        }
      ]
    },
    {
      "cell_type": "code",
      "source": [
        "## Second example for practice"
      ],
      "metadata": {
        "id": "2MYXdAPeDH-a"
      },
      "execution_count": 58,
      "outputs": []
    },
    {
      "cell_type": "code",
      "source": [
        "num = 17\n",
        "\n",
        "if num >=18 :\n",
        "  print(\"you are eligible\")\n",
        "else:\n",
        "  print(\"you are not eligible\")"
      ],
      "metadata": {
        "colab": {
          "base_uri": "https://localhost:8080/"
        },
        "id": "zwtYtAkaDR7M",
        "outputId": "9c3f1c42-cb86-4119-8215-072f27931db1"
      },
      "execution_count": 59,
      "outputs": [
        {
          "output_type": "stream",
          "name": "stdout",
          "text": [
            "you are not eligible\n"
          ]
        }
      ]
    },
    {
      "cell_type": "code",
      "source": [
        "## IF -ELIF    # IT IS USED FOR MULTIPLE CONDITIONS"
      ],
      "metadata": {
        "id": "JP1RoNz6Delb"
      },
      "execution_count": 60,
      "outputs": []
    },
    {
      "cell_type": "code",
      "source": [
        "# Check the grade on the basis of marks"
      ],
      "metadata": {
        "id": "BB6-j7M6DrYu"
      },
      "execution_count": 61,
      "outputs": []
    },
    {
      "cell_type": "code",
      "source": [
        "num = 40\n",
        "\n",
        "if num >=90 :\n",
        " print(\"Grade A\")\n",
        "elif num >= 80 :\n",
        " print(\"Grade B\")\n",
        "elif num >=70 :\n",
        " print(\"Grade c\")\n",
        "elif num >= 50 :\n",
        " print(\"Grade D\")\n",
        "else:\n",
        "  print(\"Fail\")\n"
      ],
      "metadata": {
        "colab": {
          "base_uri": "https://localhost:8080/"
        },
        "id": "v1QsJkXqDxoD",
        "outputId": "b0d3401e-e3d2-4bf0-9ca8-f1f01c4bc926"
      },
      "execution_count": 70,
      "outputs": [
        {
          "output_type": "stream",
          "name": "stdout",
          "text": [
            "Fail\n"
          ]
        }
      ]
    },
    {
      "cell_type": "code",
      "source": [
        "# Anther example for practise :--"
      ],
      "metadata": {
        "id": "-ByPPTm_ELIW"
      },
      "execution_count": 71,
      "outputs": []
    },
    {
      "cell_type": "code",
      "source": [
        "num = 49\n",
        "\n",
        "if num >= 90 :\n",
        " print(\"Grade A\")\n",
        "elif num >=70 :\n",
        "  print(\"Grade B\")\n",
        "elif num>=50 :\n",
        "  print(\"Grade C\")\n",
        "else:\n",
        "  print(\"Fail\")"
      ],
      "metadata": {
        "colab": {
          "base_uri": "https://localhost:8080/"
        },
        "id": "c3sUVnTXEfnt",
        "outputId": "a83c00db-325f-49fa-f08c-ce82383e8c79"
      },
      "execution_count": 78,
      "outputs": [
        {
          "output_type": "stream",
          "name": "stdout",
          "text": [
            "Fail\n"
          ]
        }
      ]
    },
    {
      "cell_type": "code",
      "source": [],
      "metadata": {
        "id": "330NoAuFE2UW"
      },
      "execution_count": null,
      "outputs": []
    }
  ]
}