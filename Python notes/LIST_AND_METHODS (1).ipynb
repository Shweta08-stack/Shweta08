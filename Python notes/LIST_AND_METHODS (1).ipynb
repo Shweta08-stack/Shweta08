{
  "nbformat": 4,
  "nbformat_minor": 0,
  "metadata": {
    "colab": {
      "provenance": []
    },
    "kernelspec": {
      "name": "python3",
      "display_name": "Python 3"
    },
    "language_info": {
      "name": "python"
    }
  },
  "cells": [
    {
      "cell_type": "code",
      "execution_count": 5,
      "metadata": {
        "id": "MAbppWVwYnXf"
      },
      "outputs": [],
      "source": [
        "# LIST []: Always denotes square braces []:--- COLLECTION OF THE ELEMENTS (ADD STORE VALUE MORE THAN ONE )\n",
        "# -- List maintain the order of the elements\n",
        "# ---can be chnaged (modification,remove,mutable)\n",
        "# ---can contain duplicate value.\n",
        "# ---suport different datatypes like int,str,boolean,float etc.\n",
        "# Elements can be accessed using in an index.\n",
        "#---suport different datatypes like int,str,boolean,float etc.\n",
        "\n"
      ]
    },
    {
      "cell_type": "code",
      "source": [
        "\n",
        " #(#INDEXING START FROM ALWAYS ZERO \"0\")"
      ],
      "metadata": {
        "id": "8TsMP5VOdQ9K"
      },
      "execution_count": 8,
      "outputs": []
    },
    {
      "cell_type": "code",
      "source": [
        "List=[10,20,30,40,50,60,60,0]"
      ],
      "metadata": {
        "id": "z3XBOSvXd-TK"
      },
      "execution_count": 28,
      "outputs": []
    },
    {
      "cell_type": "code",
      "source": [
        "print(List)"
      ],
      "metadata": {
        "colab": {
          "base_uri": "https://localhost:8080/"
        },
        "id": "pSG6paFgebri",
        "outputId": "8856e57d-66f3-42fa-aafa-99198d6d469b"
      },
      "execution_count": 29,
      "outputs": [
        {
          "output_type": "stream",
          "name": "stdout",
          "text": [
            "[10, 20, 30, 40, 50, 60, 60, 0]\n"
          ]
        }
      ]
    },
    {
      "cell_type": "code",
      "source": [
        "List = (10,20.5,True,\"shweta\")  #Support different data types."
      ],
      "metadata": {
        "id": "v1MNRV5aecly"
      },
      "execution_count": 14,
      "outputs": []
    },
    {
      "cell_type": "code",
      "source": [
        "List"
      ],
      "metadata": {
        "colab": {
          "base_uri": "https://localhost:8080/"
        },
        "id": "71bvSX3hepfr",
        "outputId": "e0576042-f46a-4db5-baf0-e9b26263ad62"
      },
      "execution_count": 15,
      "outputs": [
        {
          "output_type": "execute_result",
          "data": {
            "text/plain": [
              "(10, 20.5, True, 'shweta')"
            ]
          },
          "metadata": {},
          "execution_count": 15
        }
      ]
    },
    {
      "cell_type": "code",
      "source": [
        "#Empty list ----- we have to create a empty list but do not add any elements in that called empty list a=[]"
      ],
      "metadata": {
        "id": "nd5OOpL7ewro"
      },
      "execution_count": 19,
      "outputs": []
    },
    {
      "cell_type": "code",
      "source": [
        "a=[]            #empty list"
      ],
      "metadata": {
        "id": "cXYcZyble25k"
      },
      "execution_count": 20,
      "outputs": []
    },
    {
      "cell_type": "code",
      "source": [
        "a"
      ],
      "metadata": {
        "colab": {
          "base_uri": "https://localhost:8080/"
        },
        "id": "kDAb2T0Ve7Ji",
        "outputId": "6877510d-14a8-450f-ac45-955e22e7864a"
      },
      "execution_count": 21,
      "outputs": [
        {
          "output_type": "execute_result",
          "data": {
            "text/plain": [
              "[]"
            ]
          },
          "metadata": {},
          "execution_count": 21
        }
      ]
    },
    {
      "cell_type": "code",
      "source": [
        "type(a) # if we #want to check the type"
      ],
      "metadata": {
        "colab": {
          "base_uri": "https://localhost:8080/"
        },
        "id": "F6mI2pqVfKZg",
        "outputId": "2f7d0c04-9580-461b-d2b2-e776bd02b427"
      },
      "execution_count": 23,
      "outputs": [
        {
          "output_type": "execute_result",
          "data": {
            "text/plain": [
              "list"
            ]
          },
          "metadata": {},
          "execution_count": 23
        }
      ]
    },
    {
      "cell_type": "code",
      "source": [
        "#INDEXING ----- We need to select the single elemets in indexing."
      ],
      "metadata": {
        "id": "bUDkOnItfRrU"
      },
      "execution_count": 24,
      "outputs": []
    },
    {
      "cell_type": "code",
      "source": [
        "# (((whenever you create a new list ,python always takes a recent list )))"
      ],
      "metadata": {
        "id": "ulk76kurfine"
      },
      "execution_count": 25,
      "outputs": []
    },
    {
      "cell_type": "code",
      "source": [
        "List=[10,20.5,True,\"Shweta\",60,60]"
      ],
      "metadata": {
        "id": "-rY3fZTffsDg"
      },
      "execution_count": 33,
      "outputs": []
    },
    {
      "cell_type": "code",
      "source": [
        "List[3]"
      ],
      "metadata": {
        "colab": {
          "base_uri": "https://localhost:8080/",
          "height": 35
        },
        "id": "QWvlQn1Mftpi",
        "outputId": "525ced98-5de7-44ef-89cf-86510235ec6b"
      },
      "execution_count": 34,
      "outputs": [
        {
          "output_type": "execute_result",
          "data": {
            "text/plain": [
              "'Shweta'"
            ],
            "application/vnd.google.colaboratory.intrinsic+json": {
              "type": "string"
            }
          },
          "metadata": {},
          "execution_count": 34
        }
      ]
    },
    {
      "cell_type": "code",
      "source": [
        "List[-2]"
      ],
      "metadata": {
        "colab": {
          "base_uri": "https://localhost:8080/"
        },
        "id": "q-jEAFHZfysx",
        "outputId": "2cbd5e51-2a7d-4639-8aca-cacd9f109e0c"
      },
      "execution_count": 35,
      "outputs": [
        {
          "output_type": "execute_result",
          "data": {
            "text/plain": [
              "60"
            ]
          },
          "metadata": {},
          "execution_count": 35
        }
      ]
    },
    {
      "cell_type": "code",
      "source": [
        "List[-1]"
      ],
      "metadata": {
        "colab": {
          "base_uri": "https://localhost:8080/"
        },
        "id": "N-EE4isCgeKF",
        "outputId": "ee5cc763-c77b-41b2-dfef-2f0166750579"
      },
      "execution_count": 37,
      "outputs": [
        {
          "output_type": "execute_result",
          "data": {
            "text/plain": [
              "60"
            ]
          },
          "metadata": {},
          "execution_count": 37
        }
      ]
    },
    {
      "cell_type": "code",
      "source": [
        "List[2]"
      ],
      "metadata": {
        "colab": {
          "base_uri": "https://localhost:8080/"
        },
        "id": "Eui6wa7fg5Q8",
        "outputId": "46b84cfe-59c3-4762-866b-f7e511716537"
      },
      "execution_count": 39,
      "outputs": [
        {
          "output_type": "execute_result",
          "data": {
            "text/plain": [
              "True"
            ]
          },
          "metadata": {},
          "execution_count": 39
        }
      ]
    },
    {
      "cell_type": "code",
      "source": [
        "# SLICING ---- WE can select the multiple elements. ###SYNTAX-list[start:stop:step]"
      ],
      "metadata": {
        "id": "L9n54736g88l"
      },
      "execution_count": 40,
      "outputs": []
    },
    {
      "cell_type": "code",
      "source": [
        "List=[10,20.5,True,\"Shweta\",60,60]"
      ],
      "metadata": {
        "id": "d3GrcpmchEEo"
      },
      "execution_count": 41,
      "outputs": []
    },
    {
      "cell_type": "code",
      "source": [
        "List[0:4]"
      ],
      "metadata": {
        "colab": {
          "base_uri": "https://localhost:8080/"
        },
        "id": "N3CuAuMLhQHv",
        "outputId": "efc35bbc-231b-42fc-fe4d-aace0e475c93"
      },
      "execution_count": 42,
      "outputs": [
        {
          "output_type": "execute_result",
          "data": {
            "text/plain": [
              "[10, 20.5, True, 'Shweta']"
            ]
          },
          "metadata": {},
          "execution_count": 42
        }
      ]
    },
    {
      "cell_type": "code",
      "source": [
        "List[1:] # From start index 1 ...it will give the result after the index 1"
      ],
      "metadata": {
        "colab": {
          "base_uri": "https://localhost:8080/"
        },
        "id": "t4SiGf7chUwM",
        "outputId": "90c38ef8-578b-4cdc-c8c7-c8db527cdafd"
      },
      "execution_count": 46,
      "outputs": [
        {
          "output_type": "execute_result",
          "data": {
            "text/plain": [
              "[20.5, True, 'Shweta', 60, 60]"
            ]
          },
          "metadata": {},
          "execution_count": 46
        }
      ]
    },
    {
      "cell_type": "code",
      "source": [
        "List [:5]      #From give result before the index of 5"
      ],
      "metadata": {
        "colab": {
          "base_uri": "https://localhost:8080/"
        },
        "id": "ZnWcmLC6hZl-",
        "outputId": "bb1db262-4201-46f4-8be6-4d4a0f26cc98"
      },
      "execution_count": 47,
      "outputs": [
        {
          "output_type": "execute_result",
          "data": {
            "text/plain": [
              "[10, 20.5, True, 'Shweta', 60]"
            ]
          },
          "metadata": {},
          "execution_count": 47
        }
      ]
    },
    {
      "cell_type": "code",
      "source": [
        "List [1:6:2]"
      ],
      "metadata": {
        "colab": {
          "base_uri": "https://localhost:8080/"
        },
        "id": "bja9zrZxh1M3",
        "outputId": "42d03ace-0d3a-4498-e585-0ce65d1913a9"
      },
      "execution_count": 48,
      "outputs": [
        {
          "output_type": "execute_result",
          "data": {
            "text/plain": [
              "[20.5, 'Shweta', 60]"
            ]
          },
          "metadata": {},
          "execution_count": 48
        }
      ]
    },
    {
      "cell_type": "code",
      "source": [
        "List[0:4:1]"
      ],
      "metadata": {
        "colab": {
          "base_uri": "https://localhost:8080/"
        },
        "id": "mBTKD0Yjh_Bi",
        "outputId": "2bfd0446-bf50-4d94-fb1f-f6815b57aeb1"
      },
      "execution_count": 49,
      "outputs": [
        {
          "output_type": "execute_result",
          "data": {
            "text/plain": [
              "[10, 20.5, True, 'Shweta']"
            ]
          },
          "metadata": {},
          "execution_count": 49
        }
      ]
    },
    {
      "cell_type": "code",
      "source": [
        "#CHANGING THE ELEMENTS ------- WE CAN CHANGE THE ELEMENTS BY USING THE INDEX(ON INDEX)"
      ],
      "metadata": {
        "id": "uov5NDW-iIBd"
      },
      "execution_count": 50,
      "outputs": []
    },
    {
      "cell_type": "code",
      "source": [
        "List[1]=99"
      ],
      "metadata": {
        "id": "Zjx-_s-HihfN"
      },
      "execution_count": 51,
      "outputs": []
    },
    {
      "cell_type": "code",
      "source": [
        "List"
      ],
      "metadata": {
        "colab": {
          "base_uri": "https://localhost:8080/"
        },
        "id": "SJ5JaZa9imt0",
        "outputId": "7234ecb1-39b8-453c-e952-a2faff1e2833"
      },
      "execution_count": 52,
      "outputs": [
        {
          "output_type": "execute_result",
          "data": {
            "text/plain": [
              "[10, 99, True, 'Shweta', 60, 60]"
            ]
          },
          "metadata": {},
          "execution_count": 52
        }
      ]
    },
    {
      "cell_type": "code",
      "source": [
        "List[0]=0"
      ],
      "metadata": {
        "id": "ZdSUuqtXioFz"
      },
      "execution_count": 55,
      "outputs": []
    },
    {
      "cell_type": "code",
      "source": [
        "List"
      ],
      "metadata": {
        "colab": {
          "base_uri": "https://localhost:8080/"
        },
        "id": "9vooAFKCiqtr",
        "outputId": "6a9cef2e-06c7-47f6-d9d7-ffe3390726c9"
      },
      "execution_count": 56,
      "outputs": [
        {
          "output_type": "execute_result",
          "data": {
            "text/plain": [
              "[0, 0, True, 'Shweta', 60, 60]"
            ]
          },
          "metadata": {},
          "execution_count": 56
        }
      ]
    },
    {
      "cell_type": "code",
      "source": [
        "List[1]=\"Shruti\""
      ],
      "metadata": {
        "id": "onDonddrirQm"
      },
      "execution_count": 57,
      "outputs": []
    },
    {
      "cell_type": "code",
      "source": [
        "List"
      ],
      "metadata": {
        "colab": {
          "base_uri": "https://localhost:8080/"
        },
        "id": "E-Y5M-jrizLE",
        "outputId": "8febf023-bb72-4312-ed0f-16c6ff50c665"
      },
      "execution_count": 58,
      "outputs": [
        {
          "output_type": "execute_result",
          "data": {
            "text/plain": [
              "[0, 'Shruti', True, 'Shweta', 60, 60]"
            ]
          },
          "metadata": {},
          "execution_count": 58
        }
      ]
    },
    {
      "cell_type": "code",
      "source": [
        "#LIST METHOD() :---------"
      ],
      "metadata": {
        "id": "HeGmRQDpi0D9"
      },
      "execution_count": 59,
      "outputs": []
    },
    {
      "cell_type": "code",
      "source": [
        "#1) APPEND METHOD () :---- Add a single element at the end."
      ],
      "metadata": {
        "id": "8QNpDrD6jBJL"
      },
      "execution_count": 60,
      "outputs": []
    },
    {
      "cell_type": "code",
      "source": [
        "List=[10,20.5,\"Shweta\",40,50,60]"
      ],
      "metadata": {
        "id": "T3-tmwndjMUB"
      },
      "execution_count": 61,
      "outputs": []
    },
    {
      "cell_type": "code",
      "source": [
        "List.append(100) #Example (1)"
      ],
      "metadata": {
        "id": "fiOFA8fXjSox"
      },
      "execution_count": 62,
      "outputs": []
    },
    {
      "cell_type": "code",
      "source": [
        "List"
      ],
      "metadata": {
        "colab": {
          "base_uri": "https://localhost:8080/"
        },
        "id": "GTQOQU2yjVZz",
        "outputId": "0159b276-a92f-4d4a-be44-56674bb131e3"
      },
      "execution_count": 63,
      "outputs": [
        {
          "output_type": "execute_result",
          "data": {
            "text/plain": [
              "[10, 20.5, 'Shweta', 40, 50, 60, 100]"
            ]
          },
          "metadata": {},
          "execution_count": 63
        }
      ]
    },
    {
      "cell_type": "code",
      "source": [
        "List.append(20000)"
      ],
      "metadata": {
        "id": "J8N7gY6njWHJ"
      },
      "execution_count": 64,
      "outputs": []
    },
    {
      "cell_type": "code",
      "source": [
        "List"
      ],
      "metadata": {
        "colab": {
          "base_uri": "https://localhost:8080/"
        },
        "id": "jTakdu4hjjG9",
        "outputId": "8dc0f730-8ecc-47b6-cf40-519e23d1d3d8"
      },
      "execution_count": 65,
      "outputs": [
        {
          "output_type": "execute_result",
          "data": {
            "text/plain": [
              "[10, 20.5, 'Shweta', 40, 50, 60, 100, 20000]"
            ]
          },
          "metadata": {},
          "execution_count": 65
        }
      ]
    },
    {
      "cell_type": "code",
      "source": [
        "List.append(\"jenny\")"
      ],
      "metadata": {
        "id": "KNkJLMqtjkNO"
      },
      "execution_count": 69,
      "outputs": []
    },
    {
      "cell_type": "code",
      "source": [
        "List"
      ],
      "metadata": {
        "colab": {
          "base_uri": "https://localhost:8080/"
        },
        "id": "HnauPBtwjr0M",
        "outputId": "daf5d55f-a5e4-43ef-e9a4-89012a4ca8b5"
      },
      "execution_count": 67,
      "outputs": [
        {
          "output_type": "execute_result",
          "data": {
            "text/plain": [
              "[10, 20.5, 'Shweta', 40, 50, 60, 100, 20000, 'Jenny']"
            ]
          },
          "metadata": {},
          "execution_count": 67
        }
      ]
    },
    {
      "cell_type": "code",
      "source": [
        "## INSERT METHOD :------------ We can add the elemet at the particulat index. (((we can add but all data will be shift //)))"
      ],
      "metadata": {
        "id": "QgwkYWzqjsYY"
      },
      "execution_count": 70,
      "outputs": []
    },
    {
      "cell_type": "code",
      "source": [
        "List.insert(2,\"Shraddha\")"
      ],
      "metadata": {
        "id": "krbZeLcXj950"
      },
      "execution_count": 75,
      "outputs": []
    },
    {
      "cell_type": "code",
      "source": [
        "List"
      ],
      "metadata": {
        "colab": {
          "base_uri": "https://localhost:8080/"
        },
        "id": "q0U2ShrGkFzD",
        "outputId": "1557221a-c28b-4d73-87f6-02b8e0f8e111"
      },
      "execution_count": 79,
      "outputs": [
        {
          "output_type": "execute_result",
          "data": {
            "text/plain": [
              "[10,\n",
              " 20.5,\n",
              " 'Shraddha',\n",
              " 'Shraddha',\n",
              " 'Shweta',\n",
              " 40,\n",
              " 50,\n",
              " 60,\n",
              " 100,\n",
              " 20000,\n",
              " 'Jenny',\n",
              " 'jenny']"
            ]
          },
          "metadata": {},
          "execution_count": 79
        }
      ]
    },
    {
      "cell_type": "code",
      "source": [
        "List.insert(3,50)"
      ],
      "metadata": {
        "id": "tbwIYLWGkGgx"
      },
      "execution_count": 80,
      "outputs": []
    },
    {
      "cell_type": "code",
      "source": [
        "List"
      ],
      "metadata": {
        "colab": {
          "base_uri": "https://localhost:8080/"
        },
        "id": "HOiaNuj6kvqJ",
        "outputId": "a07c6097-8742-48a9-d26a-cd100091fa40"
      },
      "execution_count": 81,
      "outputs": [
        {
          "output_type": "execute_result",
          "data": {
            "text/plain": [
              "[10,\n",
              " 20.5,\n",
              " 'Shraddha',\n",
              " 50,\n",
              " 'Shraddha',\n",
              " 'Shweta',\n",
              " 40,\n",
              " 50,\n",
              " 60,\n",
              " 100,\n",
              " 20000,\n",
              " 'Jenny',\n",
              " 'jenny']"
            ]
          },
          "metadata": {},
          "execution_count": 81
        }
      ]
    },
    {
      "cell_type": "code",
      "source": [
        "##EXTEND METHOD :---ADD MULTIPLE ELEMETS FROM ANOTHER ITERABLE. (Iterable means fetch the data from the another list)"
      ],
      "metadata": {
        "id": "V_kWB7JCkwXY"
      },
      "execution_count": 82,
      "outputs": []
    },
    {
      "cell_type": "code",
      "source": [
        "List=[10,20,30,40,50]"
      ],
      "metadata": {
        "id": "c_dwrLfylHJU"
      },
      "execution_count": 84,
      "outputs": []
    },
    {
      "cell_type": "code",
      "source": [
        "  #why we are using the square braces here,because we are adding the list ."
      ],
      "metadata": {
        "id": "hywCnfNhlJ5i"
      },
      "execution_count": 88,
      "outputs": []
    },
    {
      "cell_type": "code",
      "source": [
        "List.extend([4,5,6])"
      ],
      "metadata": {
        "id": "CXEhDOLhld8z"
      },
      "execution_count": 90,
      "outputs": []
    },
    {
      "cell_type": "code",
      "source": [
        "List"
      ],
      "metadata": {
        "colab": {
          "base_uri": "https://localhost:8080/"
        },
        "id": "FMcIBP73lnhf",
        "outputId": "6d9be8c8-61f9-4b5e-d85b-db76bffaf06e"
      },
      "execution_count": 91,
      "outputs": [
        {
          "output_type": "execute_result",
          "data": {
            "text/plain": [
              "[10, 20, 30, 40, 50, 4, 5, 6]"
            ]
          },
          "metadata": {},
          "execution_count": 91
        }
      ]
    },
    {
      "cell_type": "code",
      "source": [
        "List.extend(\"shweta\")"
      ],
      "metadata": {
        "id": "Zo8uI208luC3"
      },
      "execution_count": 92,
      "outputs": []
    },
    {
      "cell_type": "code",
      "source": [
        "List"
      ],
      "metadata": {
        "colab": {
          "base_uri": "https://localhost:8080/"
        },
        "id": "YRcx06AplyQQ",
        "outputId": "0719ad5c-dd89-422e-c1ff-3cc3a71fe766"
      },
      "execution_count": 93,
      "outputs": [
        {
          "output_type": "execute_result",
          "data": {
            "text/plain": [
              "[10, 20, 30, 40, 50, 4, 5, 6, 's', 'h', 'w', 'e', 't', 'a']"
            ]
          },
          "metadata": {},
          "execution_count": 93
        }
      ]
    },
    {
      "cell_type": "code",
      "source": [
        "List.extend([0,1,2])"
      ],
      "metadata": {
        "id": "7JFqxXt0ly6G"
      },
      "execution_count": 94,
      "outputs": []
    },
    {
      "cell_type": "code",
      "source": [
        "List"
      ],
      "metadata": {
        "colab": {
          "base_uri": "https://localhost:8080/"
        },
        "id": "4VOhBxaXl4rF",
        "outputId": "c6504dec-c029-4939-eee2-2fa8e98e0aa9"
      },
      "execution_count": 95,
      "outputs": [
        {
          "output_type": "execute_result",
          "data": {
            "text/plain": [
              "[10, 20, 30, 40, 50, 4, 5, 6, 's', 'h', 'w', 'e', 't', 'a', 0, 1, 2]"
            ]
          },
          "metadata": {},
          "execution_count": 95
        }
      ]
    },
    {
      "cell_type": "code",
      "source": [
        "## REMOVE METHOD ----IF we want to remove a elements ,weneed to put the exact value in remove method."
      ],
      "metadata": {
        "id": "sDTMvyK8l5VJ"
      },
      "execution_count": 96,
      "outputs": []
    },
    {
      "cell_type": "code",
      "source": [
        "List.remove(6)"
      ],
      "metadata": {
        "id": "_FASYWAYmXpP"
      },
      "execution_count": 97,
      "outputs": []
    },
    {
      "cell_type": "code",
      "source": [
        "List"
      ],
      "metadata": {
        "colab": {
          "base_uri": "https://localhost:8080/"
        },
        "id": "HRiGpN4OmaEn",
        "outputId": "a96956a0-c781-484d-ed5d-c6daa9af1f27"
      },
      "execution_count": 98,
      "outputs": [
        {
          "output_type": "execute_result",
          "data": {
            "text/plain": [
              "[10, 20, 30, 40, 50, 4, 5, 's', 'h', 'w', 'e', 't', 'a', 0, 1, 2]"
            ]
          },
          "metadata": {},
          "execution_count": 98
        }
      ]
    },
    {
      "cell_type": "code",
      "source": [
        "List.remove(\"s\")"
      ],
      "metadata": {
        "id": "SpNXt46WmbLr"
      },
      "execution_count": 103,
      "outputs": []
    },
    {
      "cell_type": "code",
      "source": [
        "List"
      ],
      "metadata": {
        "colab": {
          "base_uri": "https://localhost:8080/"
        },
        "id": "I3KfFEkZme39",
        "outputId": "c7c16392-e944-4645-9fff-baa0f5bd0d16"
      },
      "execution_count": 104,
      "outputs": [
        {
          "output_type": "execute_result",
          "data": {
            "text/plain": [
              "[10, 20, 30, 40, 50, 4, 5, 'h', 'w', 'e', 't', 'a', 0, 1, 2]"
            ]
          },
          "metadata": {},
          "execution_count": 104
        }
      ]
    },
    {
      "cell_type": "code",
      "source": [
        "List.remove(30)"
      ],
      "metadata": {
        "id": "6e1kHRMSmpxF"
      },
      "execution_count": 105,
      "outputs": []
    },
    {
      "cell_type": "code",
      "source": [
        "List"
      ],
      "metadata": {
        "colab": {
          "base_uri": "https://localhost:8080/"
        },
        "id": "QocEDP1tmt6t",
        "outputId": "3ce28929-3caf-47de-fa79-afc16787beb0"
      },
      "execution_count": 106,
      "outputs": [
        {
          "output_type": "execute_result",
          "data": {
            "text/plain": [
              "[10, 20, 40, 50, 4, 5, 'h', 'w', 'e', 't', 'a', 0, 1, 2]"
            ]
          },
          "metadata": {},
          "execution_count": 106
        }
      ]
    },
    {
      "cell_type": "code",
      "source": [
        "## POP METHOD :--- If we want to pop means remove the elements we need to put the index of this particular elemets.\n",
        "\n",
        "#Que:What is diff between REMOVE and POP method:--\n",
        "## ANSWER :- If we want to remove elements using the remove() method, we need to specify the element to remove. If we want to remove an element using the pop() method, we need to provide the index of the element to be removed.\n",
        "\n",
        "#If we do not add any index then it will take a default last value."
      ],
      "metadata": {
        "id": "4TiZtEITmufz"
      },
      "execution_count": 108,
      "outputs": []
    },
    {
      "cell_type": "code",
      "source": [
        "List=[10,20,30,40,50,60,70,80,90,100]"
      ],
      "metadata": {
        "id": "tr4n-REfnx1U"
      },
      "execution_count": 121,
      "outputs": []
    },
    {
      "cell_type": "code",
      "source": [
        "List.pop() #If we run the programm it will show which elemet they pop(remove) and we have to run"
      ],
      "metadata": {
        "colab": {
          "base_uri": "https://localhost:8080/"
        },
        "id": "CZ61BehHoPTT",
        "outputId": "84c7f415-fcb8-4483-a0ee-1b5a6a235d1a"
      },
      "execution_count": 122,
      "outputs": [
        {
          "output_type": "execute_result",
          "data": {
            "text/plain": [
              "100"
            ]
          },
          "metadata": {},
          "execution_count": 122
        }
      ]
    },
    {
      "cell_type": "code",
      "source": [
        "List.pop(1)"
      ],
      "metadata": {
        "colab": {
          "base_uri": "https://localhost:8080/"
        },
        "id": "4W8RDyDgooWE",
        "outputId": "c09fdc1c-f0d1-4e9e-9ee7-77dae28f5023"
      },
      "execution_count": 123,
      "outputs": [
        {
          "output_type": "execute_result",
          "data": {
            "text/plain": [
              "20"
            ]
          },
          "metadata": {},
          "execution_count": 123
        }
      ]
    },
    {
      "cell_type": "code",
      "source": [
        "List"
      ],
      "metadata": {
        "colab": {
          "base_uri": "https://localhost:8080/"
        },
        "id": "ylA6_DM8opmB",
        "outputId": "6c5e30a1-b63b-47ab-b0ef-2c4d99bc4709"
      },
      "execution_count": 124,
      "outputs": [
        {
          "output_type": "execute_result",
          "data": {
            "text/plain": [
              "[10, 30, 40, 50, 60, 70, 80, 90]"
            ]
          },
          "metadata": {},
          "execution_count": 124
        }
      ]
    },
    {
      "cell_type": "code",
      "source": [
        "List.pop(5)"
      ],
      "metadata": {
        "colab": {
          "base_uri": "https://localhost:8080/"
        },
        "id": "MYsDo0JPotwE",
        "outputId": "495b6800-4d46-4b1c-cdda-51fde5f3554a"
      },
      "execution_count": 129,
      "outputs": [
        {
          "output_type": "execute_result",
          "data": {
            "text/plain": [
              "90"
            ]
          },
          "metadata": {},
          "execution_count": 129
        }
      ]
    },
    {
      "cell_type": "code",
      "source": [
        "List"
      ],
      "metadata": {
        "colab": {
          "base_uri": "https://localhost:8080/"
        },
        "id": "xI53UPHfouN7",
        "outputId": "298795ae-18f3-45dd-fddd-cd6a69394399"
      },
      "execution_count": 130,
      "outputs": [
        {
          "output_type": "execute_result",
          "data": {
            "text/plain": [
              "[10, 30, 40, 50, 60]"
            ]
          },
          "metadata": {},
          "execution_count": 130
        }
      ]
    },
    {
      "cell_type": "code",
      "source": [
        "List.pop(0)"
      ],
      "metadata": {
        "colab": {
          "base_uri": "https://localhost:8080/"
        },
        "id": "DnLbyPZ-pyd9",
        "outputId": "21fa9e6d-a23a-40d6-dd41-069e987822da"
      },
      "execution_count": 131,
      "outputs": [
        {
          "output_type": "execute_result",
          "data": {
            "text/plain": [
              "10"
            ]
          },
          "metadata": {},
          "execution_count": 131
        }
      ]
    },
    {
      "cell_type": "code",
      "source": [
        "List"
      ],
      "metadata": {
        "colab": {
          "base_uri": "https://localhost:8080/"
        },
        "id": "mEwIG4jbp-XY",
        "outputId": "8f523c04-ea8d-4096-8aa7-91bfe2ebdf51"
      },
      "execution_count": 132,
      "outputs": [
        {
          "output_type": "execute_result",
          "data": {
            "text/plain": [
              "[30, 40, 50, 60]"
            ]
          },
          "metadata": {},
          "execution_count": 132
        }
      ]
    },
    {
      "cell_type": "code",
      "source": [
        "##CLEAR METHOD ():-- CLEAR ALL THE LIST"
      ],
      "metadata": {
        "id": "JtaXwy0ap_Mr"
      },
      "execution_count": 133,
      "outputs": []
    },
    {
      "cell_type": "code",
      "source": [
        "List.clear()"
      ],
      "metadata": {
        "id": "eO69ha7BqStu"
      },
      "execution_count": 134,
      "outputs": []
    },
    {
      "cell_type": "code",
      "source": [
        "List"
      ],
      "metadata": {
        "colab": {
          "base_uri": "https://localhost:8080/"
        },
        "id": "Er2_Glx3qWQK",
        "outputId": "ac11c0c0-b2b1-4a2d-9071-fe81f3d4ee3c"
      },
      "execution_count": 135,
      "outputs": [
        {
          "output_type": "execute_result",
          "data": {
            "text/plain": [
              "[]"
            ]
          },
          "metadata": {},
          "execution_count": 135
        }
      ]
    },
    {
      "cell_type": "code",
      "source": [
        "## INDEX METHOD()-----It return the index of the first occurance value always."
      ],
      "metadata": {
        "id": "UgCZM08pqW4w"
      },
      "execution_count": 148,
      "outputs": []
    },
    {
      "cell_type": "code",
      "source": [
        "Num=[10,20,30,40,50,60]"
      ],
      "metadata": {
        "id": "vQplMXFr2lCP"
      },
      "execution_count": 145,
      "outputs": []
    },
    {
      "cell_type": "code",
      "source": [
        "Num.index(20)"
      ],
      "metadata": {
        "colab": {
          "base_uri": "https://localhost:8080/"
        },
        "id": "HMNZd16W2qaE",
        "outputId": "33d81e24-b63d-408d-a039-b373943f154d"
      },
      "execution_count": 139,
      "outputs": [
        {
          "output_type": "execute_result",
          "data": {
            "text/plain": [
              "1"
            ]
          },
          "metadata": {},
          "execution_count": 139
        }
      ]
    },
    {
      "cell_type": "code",
      "source": [
        "Num.index(60)"
      ],
      "metadata": {
        "colab": {
          "base_uri": "https://localhost:8080/"
        },
        "id": "hwybkjbO2s7h",
        "outputId": "a0c8ed5d-f87c-4b5d-d797-baeb5998c533"
      },
      "execution_count": 146,
      "outputs": [
        {
          "output_type": "execute_result",
          "data": {
            "text/plain": [
              "5"
            ]
          },
          "metadata": {},
          "execution_count": 146
        }
      ]
    },
    {
      "cell_type": "code",
      "source": [
        "##COUNT METHOD() :It count the occurance value. It tell how many elemets are available in the list."
      ],
      "metadata": {
        "id": "BJSzUrhg2ycZ"
      },
      "execution_count": 149,
      "outputs": []
    },
    {
      "cell_type": "code",
      "source": [
        "Num.count(20)"
      ],
      "metadata": {
        "colab": {
          "base_uri": "https://localhost:8080/"
        },
        "id": "jkGdJOie3EQ0",
        "outputId": "0ced7ada-1f7e-45b7-a8e9-3b7df35490ef"
      },
      "execution_count": 151,
      "outputs": [
        {
          "output_type": "execute_result",
          "data": {
            "text/plain": [
              "1"
            ]
          },
          "metadata": {},
          "execution_count": 151
        }
      ]
    },
    {
      "cell_type": "code",
      "source": [
        "Num.count(60)"
      ],
      "metadata": {
        "colab": {
          "base_uri": "https://localhost:8080/"
        },
        "id": "QTyh2z1E3gzb",
        "outputId": "f0c2e070-685d-4b50-f3c9-21f8050b6728"
      },
      "execution_count": 153,
      "outputs": [
        {
          "output_type": "execute_result",
          "data": {
            "text/plain": [
              "1"
            ]
          },
          "metadata": {},
          "execution_count": 153
        }
      ]
    },
    {
      "cell_type": "code",
      "source": [
        "Num=[1,1,1,2,2,2,3,4,4,]"
      ],
      "metadata": {
        "id": "zJ1RM8iU32R2"
      },
      "execution_count": 157,
      "outputs": []
    },
    {
      "cell_type": "code",
      "source": [
        "Num.count(2)"
      ],
      "metadata": {
        "colab": {
          "base_uri": "https://localhost:8080/"
        },
        "id": "n4u9qXPG4Fe3",
        "outputId": "30924af0-7474-4b00-f8d8-90ffa32fad1b"
      },
      "execution_count": 158,
      "outputs": [
        {
          "output_type": "execute_result",
          "data": {
            "text/plain": [
              "3"
            ]
          },
          "metadata": {},
          "execution_count": 158
        }
      ]
    },
    {
      "cell_type": "code",
      "source": [
        "Num.count(1)"
      ],
      "metadata": {
        "colab": {
          "base_uri": "https://localhost:8080/"
        },
        "id": "VAdaNdbU4O7o",
        "outputId": "544364d5-abe4-4e8b-9e71-931899519f2f"
      },
      "execution_count": 159,
      "outputs": [
        {
          "output_type": "execute_result",
          "data": {
            "text/plain": [
              "3"
            ]
          },
          "metadata": {},
          "execution_count": 159
        }
      ]
    },
    {
      "cell_type": "code",
      "source": [
        "Num.count(3)"
      ],
      "metadata": {
        "colab": {
          "base_uri": "https://localhost:8080/"
        },
        "id": "43XXHuZJ4RDg",
        "outputId": "50d05a99-c141-425a-bed0-7462ee250466"
      },
      "execution_count": 166,
      "outputs": [
        {
          "output_type": "execute_result",
          "data": {
            "text/plain": [
              "1"
            ]
          },
          "metadata": {},
          "execution_count": 166
        }
      ]
    },
    {
      "cell_type": "code",
      "source": [
        "### REVERSE METHOD() :-----Reverse the order of the elemets"
      ],
      "metadata": {
        "id": "NtYBSQdO4Uo4"
      },
      "execution_count": 161,
      "outputs": []
    },
    {
      "cell_type": "code",
      "source": [
        "num=[1,300,12,10.5,5,99,500,100]"
      ],
      "metadata": {
        "id": "y83FtZki4c4z"
      },
      "execution_count": 179,
      "outputs": []
    },
    {
      "cell_type": "code",
      "source": [
        "num.reverse()"
      ],
      "metadata": {
        "id": "6HYL3avt4imR"
      },
      "execution_count": 180,
      "outputs": []
    },
    {
      "cell_type": "code",
      "source": [
        "Num"
      ],
      "metadata": {
        "colab": {
          "base_uri": "https://localhost:8080/"
        },
        "id": "6FnpFHc84mon",
        "outputId": "87789e45-a3ad-4316-9aa8-5a7d1fd561a5"
      },
      "execution_count": 167,
      "outputs": [
        {
          "output_type": "execute_result",
          "data": {
            "text/plain": [
              "[1, 1, 1, 2, 2, 2, 3, 4, 4]"
            ]
          },
          "metadata": {},
          "execution_count": 167
        }
      ]
    },
    {
      "cell_type": "code",
      "source": [
        "Num.clear()"
      ],
      "metadata": {
        "id": "_Qc1OQuJ4paW"
      },
      "execution_count": 168,
      "outputs": []
    },
    {
      "cell_type": "code",
      "source": [
        "Num"
      ],
      "metadata": {
        "colab": {
          "base_uri": "https://localhost:8080/"
        },
        "id": "tEwvYqXz48UX",
        "outputId": "248c78ea-b03a-4a5c-d680-456d6b31f7ab"
      },
      "execution_count": 169,
      "outputs": [
        {
          "output_type": "execute_result",
          "data": {
            "text/plain": [
              "[]"
            ]
          },
          "metadata": {},
          "execution_count": 169
        }
      ]
    },
    {
      "cell_type": "code",
      "source": [
        "num.reverse()"
      ],
      "metadata": {
        "id": "QpMoeh2z49aw"
      },
      "execution_count": 170,
      "outputs": []
    },
    {
      "cell_type": "code",
      "source": [
        "num"
      ],
      "metadata": {
        "colab": {
          "base_uri": "https://localhost:8080/"
        },
        "id": "Jga-r_Ta4_vM",
        "outputId": "ee5ca440-6ed3-47c6-df4a-66963dff07a7"
      },
      "execution_count": 171,
      "outputs": [
        {
          "output_type": "execute_result",
          "data": {
            "text/plain": [
              "[1, 10.5, 5, 99, 500, 100]"
            ]
          },
          "metadata": {},
          "execution_count": 171
        }
      ]
    },
    {
      "cell_type": "code",
      "source": [
        "num.reverse()"
      ],
      "metadata": {
        "id": "pV2oY_jV5AZz"
      },
      "execution_count": 172,
      "outputs": []
    },
    {
      "cell_type": "code",
      "source": [
        "num"
      ],
      "metadata": {
        "colab": {
          "base_uri": "https://localhost:8080/"
        },
        "id": "LUy9vqE05Dtt",
        "outputId": "aaf47413-358d-4fa5-c35d-a4cff3cb4fc4"
      },
      "execution_count": 173,
      "outputs": [
        {
          "output_type": "execute_result",
          "data": {
            "text/plain": [
              "[100, 500, 99, 5, 10.5, 1]"
            ]
          },
          "metadata": {},
          "execution_count": 173
        }
      ]
    },
    {
      "cell_type": "code",
      "source": [
        "num.reverse()"
      ],
      "metadata": {
        "id": "thlcjBDU5E9X"
      },
      "execution_count": 174,
      "outputs": []
    },
    {
      "cell_type": "code",
      "source": [
        "num"
      ],
      "metadata": {
        "colab": {
          "base_uri": "https://localhost:8080/"
        },
        "id": "28VoF6Tq5IIL",
        "outputId": "2c7a049e-9edd-4299-ef3e-49360c56a113"
      },
      "execution_count": 175,
      "outputs": [
        {
          "output_type": "execute_result",
          "data": {
            "text/plain": [
              "[1, 10.5, 5, 99, 500, 100]"
            ]
          },
          "metadata": {},
          "execution_count": 175
        }
      ]
    },
    {
      "cell_type": "code",
      "source": [
        "### SORT METHOD () :--- Set the elemets in a ascending order"
      ],
      "metadata": {
        "id": "QJxGn7G45IlN"
      },
      "execution_count": 176,
      "outputs": []
    },
    {
      "cell_type": "code",
      "source": [
        "Num.sort()"
      ],
      "metadata": {
        "id": "htpaOpu35VO4"
      },
      "execution_count": 181,
      "outputs": []
    },
    {
      "cell_type": "code",
      "source": [
        "num"
      ],
      "metadata": {
        "colab": {
          "base_uri": "https://localhost:8080/"
        },
        "id": "CBO9epq-5i7Z",
        "outputId": "8e4e8c35-c1b8-48d1-acde-917c9f2239b3"
      },
      "execution_count": 182,
      "outputs": [
        {
          "output_type": "execute_result",
          "data": {
            "text/plain": [
              "[100, 500, 99, 5, 10.5, 12, 300, 1]"
            ]
          },
          "metadata": {},
          "execution_count": 182
        }
      ]
    },
    {
      "cell_type": "code",
      "source": [
        "num.sort()"
      ],
      "metadata": {
        "id": "8_mR5YO95j2l"
      },
      "execution_count": 183,
      "outputs": []
    },
    {
      "cell_type": "code",
      "source": [
        "num"
      ],
      "metadata": {
        "colab": {
          "base_uri": "https://localhost:8080/"
        },
        "id": "1LphjjlD51RP",
        "outputId": "7deeb56a-36aa-4f17-ebcd-183d860cd0ee"
      },
      "execution_count": 184,
      "outputs": [
        {
          "output_type": "execute_result",
          "data": {
            "text/plain": [
              "[1, 5, 10.5, 12, 99, 100, 300, 500]"
            ]
          },
          "metadata": {},
          "execution_count": 184
        }
      ]
    },
    {
      "cell_type": "code",
      "source": [
        "num.sort()"
      ],
      "metadata": {
        "id": "ME06ORbO53LN"
      },
      "execution_count": 185,
      "outputs": []
    },
    {
      "cell_type": "code",
      "source": [
        "num"
      ],
      "metadata": {
        "colab": {
          "base_uri": "https://localhost:8080/"
        },
        "id": "9hS6tp0d55ac",
        "outputId": "bddd6e66-9604-44d3-a893-58ad6e203c04"
      },
      "execution_count": 186,
      "outputs": [
        {
          "output_type": "execute_result",
          "data": {
            "text/plain": [
              "[1, 5, 10.5, 12, 99, 100, 300, 500]"
            ]
          },
          "metadata": {},
          "execution_count": 186
        }
      ]
    },
    {
      "cell_type": "code",
      "source": [
        "# If we want to reverse the value then first sort the elemets and then apply reverse method"
      ],
      "metadata": {
        "id": "lvpwzz5B56KM"
      },
      "execution_count": 187,
      "outputs": []
    },
    {
      "cell_type": "code",
      "source": [
        "num.reverse()"
      ],
      "metadata": {
        "id": "pqgKiesz6HBe"
      },
      "execution_count": 188,
      "outputs": []
    },
    {
      "cell_type": "code",
      "source": [
        "num"
      ],
      "metadata": {
        "colab": {
          "base_uri": "https://localhost:8080/"
        },
        "id": "YhNFIcDs6Iv6",
        "outputId": "a331c2b8-9876-4958-81fb-4a4f8c20b5de"
      },
      "execution_count": 189,
      "outputs": [
        {
          "output_type": "execute_result",
          "data": {
            "text/plain": [
              "[500, 300, 100, 99, 12, 10.5, 5, 1]"
            ]
          },
          "metadata": {},
          "execution_count": 189
        }
      ]
    },
    {
      "cell_type": "code",
      "source": [
        "#### COPY METHOD () :-- Copy the all elemets in another list"
      ],
      "metadata": {
        "id": "SyxUhE7-6Jar"
      },
      "execution_count": 190,
      "outputs": []
    },
    {
      "cell_type": "code",
      "source": [
        "num3=num.copy()"
      ],
      "metadata": {
        "id": "b-xgkDEf6aor"
      },
      "execution_count": 198,
      "outputs": []
    },
    {
      "cell_type": "code",
      "source": [
        "num3"
      ],
      "metadata": {
        "colab": {
          "base_uri": "https://localhost:8080/"
        },
        "id": "Ito8pWGJ6kG7",
        "outputId": "aa307fdd-a93e-44e8-ea3d-c1a0bb11a015"
      },
      "execution_count": 199,
      "outputs": [
        {
          "output_type": "execute_result",
          "data": {
            "text/plain": [
              "[500, 300, 100, 99, 12, 10.5, 5, 1]"
            ]
          },
          "metadata": {},
          "execution_count": 199
        }
      ]
    },
    {
      "cell_type": "code",
      "source": [
        "num3.sort()"
      ],
      "metadata": {
        "id": "dt_t5fo-61Y_"
      },
      "execution_count": 200,
      "outputs": []
    },
    {
      "cell_type": "code",
      "source": [
        "num3"
      ],
      "metadata": {
        "colab": {
          "base_uri": "https://localhost:8080/"
        },
        "id": "Rv9vW6g265JP",
        "outputId": "dd60754e-3b96-451e-bd33-3a5efaacc6b9"
      },
      "execution_count": 201,
      "outputs": [
        {
          "output_type": "execute_result",
          "data": {
            "text/plain": [
              "[1, 5, 10.5, 12, 99, 100, 300, 500]"
            ]
          },
          "metadata": {},
          "execution_count": 201
        }
      ]
    },
    {
      "cell_type": "code",
      "source": [
        "## for practise :---"
      ],
      "metadata": {
        "id": "M8fBib9z654u"
      },
      "execution_count": 202,
      "outputs": []
    },
    {
      "cell_type": "code",
      "source": [
        "num3.append(20000)"
      ],
      "metadata": {
        "id": "JdCNTJzK6_OW"
      },
      "execution_count": 203,
      "outputs": []
    },
    {
      "cell_type": "code",
      "source": [
        "num3"
      ],
      "metadata": {
        "colab": {
          "base_uri": "https://localhost:8080/"
        },
        "id": "_5_y0HX27CM3",
        "outputId": "2f448e1b-3b55-43fd-f913-86d06a68c262"
      },
      "execution_count": 204,
      "outputs": [
        {
          "output_type": "execute_result",
          "data": {
            "text/plain": [
              "[1, 5, 10.5, 12, 99, 100, 300, 500, 20000]"
            ]
          },
          "metadata": {},
          "execution_count": 204
        }
      ]
    },
    {
      "cell_type": "code",
      "source": [
        "num3.insert(0,0)"
      ],
      "metadata": {
        "id": "kSFUvCRS7C7c"
      },
      "execution_count": 205,
      "outputs": []
    },
    {
      "cell_type": "code",
      "source": [
        "num3"
      ],
      "metadata": {
        "colab": {
          "base_uri": "https://localhost:8080/"
        },
        "id": "mxWvMKRK7Op3",
        "outputId": "950e69c0-c8e3-4bd6-f977-1c137aa336f3"
      },
      "execution_count": 206,
      "outputs": [
        {
          "output_type": "execute_result",
          "data": {
            "text/plain": [
              "[0, 1, 5, 10.5, 12, 99, 100, 300, 500, 20000]"
            ]
          },
          "metadata": {},
          "execution_count": 206
        }
      ]
    },
    {
      "cell_type": "code",
      "source": [
        "num3.extend([\"a,b,c\"])"
      ],
      "metadata": {
        "id": "3Y-Ml1FV7P96"
      },
      "execution_count": 210,
      "outputs": []
    },
    {
      "cell_type": "code",
      "source": [
        "num3"
      ],
      "metadata": {
        "colab": {
          "base_uri": "https://localhost:8080/"
        },
        "id": "6Vt-mQX57Tzv",
        "outputId": "b0b325b3-39aa-4e9b-be84-da03f93ddc07"
      },
      "execution_count": 211,
      "outputs": [
        {
          "output_type": "execute_result",
          "data": {
            "text/plain": [
              "[0, 1, 5, 10.5, 12, 99, 100, 300, 500, 20000, 'a,b,c']"
            ]
          },
          "metadata": {},
          "execution_count": 211
        }
      ]
    },
    {
      "cell_type": "code",
      "source": [
        "num3.pop(6)"
      ],
      "metadata": {
        "colab": {
          "base_uri": "https://localhost:8080/"
        },
        "id": "Jr9RwADi7hQT",
        "outputId": "eb906fe4-adfa-4c4a-ea91-0dfaed44c7ea"
      },
      "execution_count": 214,
      "outputs": [
        {
          "output_type": "execute_result",
          "data": {
            "text/plain": [
              "100"
            ]
          },
          "metadata": {},
          "execution_count": 214
        }
      ]
    },
    {
      "cell_type": "code",
      "source": [
        "num.count(100)"
      ],
      "metadata": {
        "colab": {
          "base_uri": "https://localhost:8080/"
        },
        "id": "T5dmpQ5T7qgR",
        "outputId": "3b3c73ed-7bbf-4f1f-988c-9f79f87b0c88"
      },
      "execution_count": 215,
      "outputs": [
        {
          "output_type": "execute_result",
          "data": {
            "text/plain": [
              "1"
            ]
          },
          "metadata": {},
          "execution_count": 215
        }
      ]
    },
    {
      "cell_type": "code",
      "source": [
        "num3.reverse()"
      ],
      "metadata": {
        "id": "nlh3ZyAF725e"
      },
      "execution_count": 216,
      "outputs": []
    },
    {
      "cell_type": "code",
      "source": [
        "num3"
      ],
      "metadata": {
        "colab": {
          "base_uri": "https://localhost:8080/"
        },
        "id": "SKq9vDC878Xp",
        "outputId": "6a99ae9f-ca66-40ba-cd80-a07e9b707773"
      },
      "execution_count": 217,
      "outputs": [
        {
          "output_type": "execute_result",
          "data": {
            "text/plain": [
              "['a,b,c', 20000, 500, 300, 99, 12, 10.5, 5, 1, 0]"
            ]
          },
          "metadata": {},
          "execution_count": 217
        }
      ]
    },
    {
      "cell_type": "code",
      "source": [
        "num3.remove(\"a,b,c\")"
      ],
      "metadata": {
        "id": "GjONEIxP79Mf"
      },
      "execution_count": 222,
      "outputs": []
    },
    {
      "cell_type": "code",
      "source": [
        "num3"
      ],
      "metadata": {
        "colab": {
          "base_uri": "https://localhost:8080/"
        },
        "id": "CVm-Dlsa8Ezl",
        "outputId": "01917424-2363-41ad-bef8-f591bdd83ef1"
      },
      "execution_count": 223,
      "outputs": [
        {
          "output_type": "execute_result",
          "data": {
            "text/plain": [
              "[20000, 500, 300, 99, 12, 10.5, 5, 1, 0]"
            ]
          },
          "metadata": {},
          "execution_count": 223
        }
      ]
    },
    {
      "cell_type": "code",
      "source": [
        "num.remove(10.5)"
      ],
      "metadata": {
        "id": "Ng8GKysj8XQ-"
      },
      "execution_count": 224,
      "outputs": []
    },
    {
      "cell_type": "code",
      "source": [
        "num3"
      ],
      "metadata": {
        "colab": {
          "base_uri": "https://localhost:8080/"
        },
        "id": "vvILrp928b1j",
        "outputId": "1c173aa7-dbe2-4cb8-b578-40b21ada4f65"
      },
      "execution_count": 225,
      "outputs": [
        {
          "output_type": "execute_result",
          "data": {
            "text/plain": [
              "[20000, 500, 300, 99, 12, 10.5, 5, 1, 0]"
            ]
          },
          "metadata": {},
          "execution_count": 225
        }
      ]
    },
    {
      "cell_type": "code",
      "source": [
        "num.count(500)"
      ],
      "metadata": {
        "colab": {
          "base_uri": "https://localhost:8080/"
        },
        "id": "saGo5Szp8crh",
        "outputId": "7acaf8d5-7ebe-4f30-c436-a476e678deee"
      },
      "execution_count": 226,
      "outputs": [
        {
          "output_type": "execute_result",
          "data": {
            "text/plain": [
              "1"
            ]
          },
          "metadata": {},
          "execution_count": 226
        }
      ]
    },
    {
      "cell_type": "code",
      "source": [
        "num3.index(500)"
      ],
      "metadata": {
        "colab": {
          "base_uri": "https://localhost:8080/"
        },
        "id": "A3En3h7R8fxh",
        "outputId": "f594ec72-6b48-41cb-cb72-45b0f0546277"
      },
      "execution_count": 230,
      "outputs": [
        {
          "output_type": "execute_result",
          "data": {
            "text/plain": [
              "1"
            ]
          },
          "metadata": {},
          "execution_count": 230
        }
      ]
    },
    {
      "cell_type": "code",
      "source": [
        "num.index(1)"
      ],
      "metadata": {
        "colab": {
          "base_uri": "https://localhost:8080/"
        },
        "id": "gNcjT2CS8mzE",
        "outputId": "d32ce097-9390-48f4-92fe-8e7a5d15962e"
      },
      "execution_count": 231,
      "outputs": [
        {
          "output_type": "execute_result",
          "data": {
            "text/plain": [
              "6"
            ]
          },
          "metadata": {},
          "execution_count": 231
        }
      ]
    },
    {
      "cell_type": "code",
      "source": [
        "num.index(300)"
      ],
      "metadata": {
        "colab": {
          "base_uri": "https://localhost:8080/"
        },
        "id": "F7fqW6YB837h",
        "outputId": "6ab93dc3-eb21-4608-ea51-c8db02feb97e"
      },
      "execution_count": 232,
      "outputs": [
        {
          "output_type": "execute_result",
          "data": {
            "text/plain": [
              "1"
            ]
          },
          "metadata": {},
          "execution_count": 232
        }
      ]
    },
    {
      "cell_type": "code",
      "source": [
        "num3.sort()"
      ],
      "metadata": {
        "id": "gTUKTIW889h6"
      },
      "execution_count": 234,
      "outputs": []
    },
    {
      "cell_type": "code",
      "source": [
        "num3"
      ],
      "metadata": {
        "colab": {
          "base_uri": "https://localhost:8080/"
        },
        "id": "KrFjOycw9Ds7",
        "outputId": "3a029a7e-6d50-4256-f024-23e610484b4b"
      },
      "execution_count": 235,
      "outputs": [
        {
          "output_type": "execute_result",
          "data": {
            "text/plain": [
              "[0, 1, 5, 10.5, 12, 99, 300, 500, 20000]"
            ]
          },
          "metadata": {},
          "execution_count": 235
        }
      ]
    },
    {
      "cell_type": "code",
      "source": [
        "num.clear()"
      ],
      "metadata": {
        "id": "LRHkmHOv9FgB"
      },
      "execution_count": 236,
      "outputs": []
    },
    {
      "cell_type": "code",
      "source": [
        "num3"
      ],
      "metadata": {
        "colab": {
          "base_uri": "https://localhost:8080/"
        },
        "id": "RCqH6Is59IaH",
        "outputId": "f62e8a49-4357-44bc-d312-1b791062367d"
      },
      "execution_count": 252,
      "outputs": [
        {
          "output_type": "execute_result",
          "data": {
            "text/plain": [
              "[]"
            ]
          },
          "metadata": {},
          "execution_count": 252
        }
      ]
    },
    {
      "cell_type": "code",
      "source": [
        "num3"
      ],
      "metadata": {
        "colab": {
          "base_uri": "https://localhost:8080/"
        },
        "id": "uOqEbxeK9KUr",
        "outputId": "41a638fc-7e02-46fa-caf5-56903e080616"
      },
      "execution_count": 253,
      "outputs": [
        {
          "output_type": "execute_result",
          "data": {
            "text/plain": [
              "[]"
            ]
          },
          "metadata": {},
          "execution_count": 253
        }
      ]
    },
    {
      "cell_type": "code",
      "source": [
        "VERY Important###LIST COMPREHENSION :-In the list comprehension we want to do any operation with every elemets in this list."
      ],
      "metadata": {
        "id": "SNLJW2gi9K8t"
      },
      "execution_count": 240,
      "outputs": []
    },
    {
      "cell_type": "code",
      "source": [
        "x=[1,2,3,4,5]    #if we want a square of each and every elemets are available in the list."
      ],
      "metadata": {
        "id": "-HhmCvOY9mI1"
      },
      "execution_count": 241,
      "outputs": []
    },
    {
      "cell_type": "code",
      "source": [
        "square=[i**2 for i in x]"
      ],
      "metadata": {
        "id": "WQtI_stV9rwE"
      },
      "execution_count": 242,
      "outputs": []
    },
    {
      "cell_type": "code",
      "source": [
        "square"
      ],
      "metadata": {
        "colab": {
          "base_uri": "https://localhost:8080/"
        },
        "id": "X_yC2rPj-Dd-",
        "outputId": "e07f231e-bcde-4a84-a4d6-5278cfd569a3"
      },
      "execution_count": 243,
      "outputs": [
        {
          "output_type": "execute_result",
          "data": {
            "text/plain": [
              "[1, 4, 9, 16, 25]"
            ]
          },
          "metadata": {},
          "execution_count": 243
        }
      ]
    },
    {
      "cell_type": "code",
      "source": [
        "addition=[add+2 for add in x]"
      ],
      "metadata": {
        "id": "ZMMQJfP7-FNG"
      },
      "execution_count": 246,
      "outputs": []
    },
    {
      "cell_type": "code",
      "source": [
        "addition"
      ],
      "metadata": {
        "colab": {
          "base_uri": "https://localhost:8080/"
        },
        "id": "CV9TRtOx-KuG",
        "outputId": "ee5912f6-fffb-40ec-a870-c96469c51dd4"
      },
      "execution_count": 247,
      "outputs": [
        {
          "output_type": "execute_result",
          "data": {
            "text/plain": [
              "[3, 4, 5, 6, 7]"
            ]
          },
          "metadata": {},
          "execution_count": 247
        }
      ]
    },
    {
      "cell_type": "code",
      "source": [
        "sub=[sub-1 for sub in x]"
      ],
      "metadata": {
        "id": "K1pTSwku-Res"
      },
      "execution_count": 248,
      "outputs": []
    },
    {
      "cell_type": "code",
      "source": [
        "sub"
      ],
      "metadata": {
        "colab": {
          "base_uri": "https://localhost:8080/"
        },
        "id": "vuujhnka-ksX",
        "outputId": "2b48101f-b8fa-447b-c05b-77918403a841"
      },
      "execution_count": 249,
      "outputs": [
        {
          "output_type": "execute_result",
          "data": {
            "text/plain": [
              "[0, 1, 2, 3, 4]"
            ]
          },
          "metadata": {},
          "execution_count": 249
        }
      ]
    },
    {
      "cell_type": "code",
      "source": [
        "#### Concatenation :--- Addition of two number and we do not have any limitation in it.\n",
        "### We can only do the addition of the elemets\n",
        "#DIFF BWTEEN extend and concatenation:---------in extend method we have some limitation but in concatenation we do not have any limitations"
      ],
      "metadata": {
        "id": "bfc1eRm9-lUN"
      },
      "execution_count": 250,
      "outputs": []
    },
    {
      "cell_type": "code",
      "source": [
        "a=[1,2,3]"
      ],
      "metadata": {
        "id": "hOvPVYlX_2a5"
      },
      "execution_count": 264,
      "outputs": []
    },
    {
      "cell_type": "code",
      "source": [
        "b=[4,5,6]"
      ],
      "metadata": {
        "id": "oiMK27mSANGi"
      },
      "execution_count": 265,
      "outputs": []
    },
    {
      "cell_type": "code",
      "source": [
        "a+b"
      ],
      "metadata": {
        "colab": {
          "base_uri": "https://localhost:8080/"
        },
        "id": "3O3m59aTAOxw",
        "outputId": "be8f58cd-1233-479f-d11e-3a97a0e629b6"
      },
      "execution_count": 266,
      "outputs": [
        {
          "output_type": "execute_result",
          "data": {
            "text/plain": [
              "[1, 2, 3, 4, 5, 6]"
            ]
          },
          "metadata": {},
          "execution_count": 266
        }
      ]
    },
    {
      "cell_type": "code",
      "source": [
        "Str=[\"a,b,c\"]"
      ],
      "metadata": {
        "id": "rCaU6s61AR1C"
      },
      "execution_count": 268,
      "outputs": []
    },
    {
      "cell_type": "code",
      "source": [
        "str1=[\"d,e,f\"]"
      ],
      "metadata": {
        "id": "9ORky7vRAhvn"
      },
      "execution_count": 273,
      "outputs": []
    },
    {
      "cell_type": "code",
      "source": [
        "str2=[\"g,e,f\"]"
      ],
      "metadata": {
        "id": "uohnfkTVAwDc"
      },
      "execution_count": 274,
      "outputs": []
    },
    {
      "cell_type": "code",
      "source": [
        "Str+str1+str2"
      ],
      "metadata": {
        "colab": {
          "base_uri": "https://localhost:8080/"
        },
        "id": "zwYBb0YeA0-y",
        "outputId": "47e1d4f9-f741-498a-894d-91ce68105a43"
      },
      "execution_count": 275,
      "outputs": [
        {
          "output_type": "execute_result",
          "data": {
            "text/plain": [
              "['a,b,c', 'd,e,f', 'g,e,f']"
            ]
          },
          "metadata": {},
          "execution_count": 275
        }
      ]
    },
    {
      "cell_type": "code",
      "source": [
        "### Repeatation :---Repeated the elements"
      ],
      "metadata": {
        "id": "fnnQ7pMsBK2C"
      },
      "execution_count": 276,
      "outputs": []
    },
    {
      "cell_type": "code",
      "source": [
        "list=[1,2,3]"
      ],
      "metadata": {
        "id": "qrA5CAsiBXHl"
      },
      "execution_count": 280,
      "outputs": []
    },
    {
      "cell_type": "code",
      "source": [
        "list*3"
      ],
      "metadata": {
        "colab": {
          "base_uri": "https://localhost:8080/"
        },
        "id": "YUmhNWRmBiB3",
        "outputId": "6e59a15d-ed38-4c84-d466-069f51b809cb"
      },
      "execution_count": 281,
      "outputs": [
        {
          "output_type": "execute_result",
          "data": {
            "text/plain": [
              "[1, 2, 3, 1, 2, 3, 1, 2, 3]"
            ]
          },
          "metadata": {},
          "execution_count": 281
        }
      ]
    },
    {
      "cell_type": "code",
      "source": [
        "list*5"
      ],
      "metadata": {
        "colab": {
          "base_uri": "https://localhost:8080/"
        },
        "id": "uErsKjElBjpr",
        "outputId": "1bd6370f-55c6-418b-87a6-1be45e1174b1"
      },
      "execution_count": 283,
      "outputs": [
        {
          "output_type": "execute_result",
          "data": {
            "text/plain": [
              "[1, 2, 3, 1, 2, 3, 1, 2, 3, 1, 2, 3, 1, 2, 3]"
            ]
          },
          "metadata": {},
          "execution_count": 283
        }
      ]
    },
    {
      "cell_type": "code",
      "source": [
        "### Membership () :--- We can check the variable are availbl in the list or not"
      ],
      "metadata": {
        "id": "3IprnMRGBmZ5"
      },
      "execution_count": 284,
      "outputs": []
    },
    {
      "cell_type": "code",
      "source": [
        "list"
      ],
      "metadata": {
        "colab": {
          "base_uri": "https://localhost:8080/"
        },
        "id": "iPdbM4nRByz6",
        "outputId": "345670c3-0c96-42a3-fcc0-4b06d95a4c07"
      },
      "execution_count": 285,
      "outputs": [
        {
          "output_type": "execute_result",
          "data": {
            "text/plain": [
              "[1, 2, 3]"
            ]
          },
          "metadata": {},
          "execution_count": 285
        }
      ]
    },
    {
      "cell_type": "code",
      "source": [
        "3 in list"
      ],
      "metadata": {
        "colab": {
          "base_uri": "https://localhost:8080/"
        },
        "id": "hQu9ijwdB1xb",
        "outputId": "c53c02cf-1ccd-49d0-cd4f-7b0db418226f"
      },
      "execution_count": 286,
      "outputs": [
        {
          "output_type": "execute_result",
          "data": {
            "text/plain": [
              "True"
            ]
          },
          "metadata": {},
          "execution_count": 286
        }
      ]
    },
    {
      "cell_type": "code",
      "source": [
        "4 in list"
      ],
      "metadata": {
        "colab": {
          "base_uri": "https://localhost:8080/"
        },
        "id": "shuJEiizB7hU",
        "outputId": "034dc4cb-fcad-4358-dda0-47ce16560851"
      },
      "execution_count": 287,
      "outputs": [
        {
          "output_type": "execute_result",
          "data": {
            "text/plain": [
              "False"
            ]
          },
          "metadata": {},
          "execution_count": 287
        }
      ]
    },
    {
      "cell_type": "code",
      "source": [
        "\"shweta\" in list"
      ],
      "metadata": {
        "colab": {
          "base_uri": "https://localhost:8080/"
        },
        "id": "9awjnQacB8uT",
        "outputId": "f6a61311-b4cd-461c-bdba-26480be63da9"
      },
      "execution_count": 289,
      "outputs": [
        {
          "output_type": "execute_result",
          "data": {
            "text/plain": [
              "False"
            ]
          },
          "metadata": {},
          "execution_count": 289
        }
      ]
    },
    {
      "cell_type": "code",
      "source": [
        "1 in list"
      ],
      "metadata": {
        "colab": {
          "base_uri": "https://localhost:8080/"
        },
        "id": "USxPBenkB_E7",
        "outputId": "b581a062-f538-4662-c41d-c03695b7c315"
      },
      "execution_count": 290,
      "outputs": [
        {
          "output_type": "execute_result",
          "data": {
            "text/plain": [
              "True"
            ]
          },
          "metadata": {},
          "execution_count": 290
        }
      ]
    },
    {
      "cell_type": "code",
      "source": [
        "### Tupple () :-\n",
        "#--- Tupple is a fix order set of elemets.\n",
        "#---- it is immutable _=:-- immutable means once the elemets created we can not be changed.\n",
        "#----allow duplication\n",
        "#----support different data types\n",
        "#---elemeents can be accessed using index"
      ],
      "metadata": {
        "id": "MpN8gnFBCCPE"
      },
      "execution_count": 292,
      "outputs": []
    },
    {
      "cell_type": "code",
      "source": [
        "# EMPTY TUPPLE ():-"
      ],
      "metadata": {
        "id": "jzAl4LSACqac"
      },
      "execution_count": 293,
      "outputs": []
    },
    {
      "cell_type": "code",
      "source": [
        "a=()"
      ],
      "metadata": {
        "id": "u-4DO8r-DCWB"
      },
      "execution_count": 296,
      "outputs": []
    },
    {
      "cell_type": "code",
      "source": [
        "type(a)"
      ],
      "metadata": {
        "colab": {
          "base_uri": "https://localhost:8080/"
        },
        "id": "1uH4UCDLDEV2",
        "outputId": "3719f969-b9a5-4335-e357-48a04e9845d5"
      },
      "execution_count": 297,
      "outputs": [
        {
          "output_type": "execute_result",
          "data": {
            "text/plain": [
              "tuple"
            ]
          },
          "metadata": {},
          "execution_count": 297
        }
      ]
    },
    {
      "cell_type": "code",
      "source": [
        "a=(10,10,20,20,)   # allow the duplicate elemets"
      ],
      "metadata": {
        "id": "JfOQ542FDFTq"
      },
      "execution_count": 298,
      "outputs": []
    },
    {
      "cell_type": "code",
      "source": [
        "a"
      ],
      "metadata": {
        "colab": {
          "base_uri": "https://localhost:8080/"
        },
        "id": "PAOIuAFCDOce",
        "outputId": "6c5d9bb8-e0e8-4768-b807-4e31d2b1ff34"
      },
      "execution_count": 299,
      "outputs": [
        {
          "output_type": "execute_result",
          "data": {
            "text/plain": [
              "(10, 10, 20, 20)"
            ]
          },
          "metadata": {},
          "execution_count": 299
        }
      ]
    },
    {
      "cell_type": "code",
      "source": [
        "c=(10,10.5,\"shweta\",True)   #Support different data types"
      ],
      "metadata": {
        "id": "oFVf6iBJDPYq"
      },
      "execution_count": 300,
      "outputs": []
    },
    {
      "cell_type": "code",
      "source": [
        "c"
      ],
      "metadata": {
        "colab": {
          "base_uri": "https://localhost:8080/"
        },
        "id": "4SUe1gziDZe2",
        "outputId": "49cede76-457c-4071-8f87-2ee331f10628"
      },
      "execution_count": 301,
      "outputs": [
        {
          "output_type": "execute_result",
          "data": {
            "text/plain": [
              "(10, 10.5, 'shweta', True)"
            ]
          },
          "metadata": {},
          "execution_count": 301
        }
      ]
    },
    {
      "cell_type": "code",
      "source": [
        "## METHOD OF TUPPLE () :-- There are only two methods in tupple"
      ],
      "metadata": {
        "id": "LehH1sMYDaL1"
      },
      "execution_count": 303,
      "outputs": []
    },
    {
      "cell_type": "code",
      "source": [
        "#Index Method() :-- It tells the elemet index .on ehich index elemets are available"
      ],
      "metadata": {
        "id": "lJ43lBsODkz-"
      },
      "execution_count": 304,
      "outputs": []
    },
    {
      "cell_type": "code",
      "source": [
        "T1=(10,20,30,40,50,50,30,40)"
      ],
      "metadata": {
        "id": "VORks-U_DtFo"
      },
      "execution_count": 309,
      "outputs": []
    },
    {
      "cell_type": "code",
      "source": [
        "T1.index(20)"
      ],
      "metadata": {
        "colab": {
          "base_uri": "https://localhost:8080/"
        },
        "id": "e95xG9b8DxDe",
        "outputId": "8f49b814-f087-4607-f614-ef31725525e0"
      },
      "execution_count": 306,
      "outputs": [
        {
          "output_type": "execute_result",
          "data": {
            "text/plain": [
              "1"
            ]
          },
          "metadata": {},
          "execution_count": 306
        }
      ]
    },
    {
      "cell_type": "code",
      "source": [
        "T1.index(50)"
      ],
      "metadata": {
        "colab": {
          "base_uri": "https://localhost:8080/"
        },
        "id": "41IQj2XPDzXC",
        "outputId": "bf7fc977-aced-4bf2-9c77-a8d28f5ceaac"
      },
      "execution_count": 307,
      "outputs": [
        {
          "output_type": "execute_result",
          "data": {
            "text/plain": [
              "4"
            ]
          },
          "metadata": {},
          "execution_count": 307
        }
      ]
    },
    {
      "cell_type": "code",
      "source": [
        "##COUNT METHOD() :- It counts the elemets ,how many elemets are present in the variable."
      ],
      "metadata": {
        "id": "ihrHNSM6D1cn"
      },
      "execution_count": 310,
      "outputs": []
    },
    {
      "cell_type": "code",
      "source": [
        "T1.count(30)"
      ],
      "metadata": {
        "colab": {
          "base_uri": "https://localhost:8080/"
        },
        "id": "F8cN9JIcEJtC",
        "outputId": "0187a49f-d400-426b-e0c8-603c46593053"
      },
      "execution_count": 311,
      "outputs": [
        {
          "output_type": "execute_result",
          "data": {
            "text/plain": [
              "2"
            ]
          },
          "metadata": {},
          "execution_count": 311
        }
      ]
    },
    {
      "cell_type": "code",
      "source": [
        "T1.count(50)"
      ],
      "metadata": {
        "colab": {
          "base_uri": "https://localhost:8080/"
        },
        "id": "Zld-utrkENFO",
        "outputId": "c476ebe5-c185-4646-f584-fcdd1da1685c"
      },
      "execution_count": 312,
      "outputs": [
        {
          "output_type": "execute_result",
          "data": {
            "text/plain": [
              "2"
            ]
          },
          "metadata": {},
          "execution_count": 312
        }
      ]
    },
    {
      "cell_type": "code",
      "source": [
        "T1.count(10)"
      ],
      "metadata": {
        "colab": {
          "base_uri": "https://localhost:8080/"
        },
        "id": "C0KAYLGcEPmr",
        "outputId": "73fe9f78-8c76-4a06-b8c1-c9670d91136d"
      },
      "execution_count": 313,
      "outputs": [
        {
          "output_type": "execute_result",
          "data": {
            "text/plain": [
              "1"
            ]
          },
          "metadata": {},
          "execution_count": 313
        }
      ]
    },
    {
      "cell_type": "code",
      "source": [
        "## Indexing and slicing [] :-If we want a range of the particular elemets only when we use the indexing and slicing\n",
        "# In indexing we can take only single elements but in the slicing we can take a multiple elemets its like a range."
      ],
      "metadata": {
        "id": "BH0-j1smESDb"
      },
      "execution_count": 314,
      "outputs": []
    },
    {
      "cell_type": "code",
      "source": [
        "b=(10,20,20,30,30,40)"
      ],
      "metadata": {
        "id": "qzxJ1NwDE8Qu"
      },
      "execution_count": 328,
      "outputs": []
    },
    {
      "cell_type": "code",
      "source": [
        "b[1]    #we always use a square bracket in indexing and slicing"
      ],
      "metadata": {
        "colab": {
          "base_uri": "https://localhost:8080/"
        },
        "id": "Il1kRBM4Fgt_",
        "outputId": "eef4ec62-db64-41ae-fbdb-08d702bc9e6a"
      },
      "execution_count": 330,
      "outputs": [
        {
          "output_type": "execute_result",
          "data": {
            "text/plain": [
              "20"
            ]
          },
          "metadata": {},
          "execution_count": 330
        }
      ]
    },
    {
      "cell_type": "code",
      "source": [
        "b[2]"
      ],
      "metadata": {
        "colab": {
          "base_uri": "https://localhost:8080/"
        },
        "id": "wCr9Jq2KGPlj",
        "outputId": "f3684d13-9bb5-4d67-faa3-815b281a9808"
      },
      "execution_count": 329,
      "outputs": [
        {
          "output_type": "execute_result",
          "data": {
            "text/plain": [
              "20"
            ]
          },
          "metadata": {},
          "execution_count": 329
        }
      ]
    },
    {
      "cell_type": "code",
      "source": [
        "## Slicing :----we can find the range for multiple elemets.\n",
        "# if hum [2:5]letee hai toh elemets 2 se start hoga and 5 ke pahle ki jitne bhi values hai wo output me dega."
      ],
      "metadata": {
        "id": "kyEwLx5pGaD6"
      },
      "execution_count": 326,
      "outputs": []
    },
    {
      "cell_type": "code",
      "source": [
        "b[2:3]"
      ],
      "metadata": {
        "colab": {
          "base_uri": "https://localhost:8080/"
        },
        "id": "eQzUA8d0GjgS",
        "outputId": "4ee25ee0-068e-42fa-c379-d40e59f54168"
      },
      "execution_count": 327,
      "outputs": [
        {
          "output_type": "execute_result",
          "data": {
            "text/plain": [
              "(30,)"
            ]
          },
          "metadata": {},
          "execution_count": 327
        }
      ]
    },
    {
      "cell_type": "code",
      "source": [
        "b[0:5]"
      ],
      "metadata": {
        "colab": {
          "base_uri": "https://localhost:8080/"
        },
        "id": "Gmz9PdRLGp8g",
        "outputId": "5d912bfd-2234-4a97-bd76-a5370170d132"
      },
      "execution_count": 332,
      "outputs": [
        {
          "output_type": "execute_result",
          "data": {
            "text/plain": [
              "(10, 20, 20, 30, 30)"
            ]
          },
          "metadata": {},
          "execution_count": 332
        }
      ]
    },
    {
      "cell_type": "code",
      "source": [
        "## Tupple Concatenation() :--- Addition of two number."
      ],
      "metadata": {
        "id": "JL7S09MRH3PQ"
      },
      "execution_count": 333,
      "outputs": []
    },
    {
      "cell_type": "code",
      "source": [
        "a=(1,2,3)"
      ],
      "metadata": {
        "id": "iVDST724ITrM"
      },
      "execution_count": 334,
      "outputs": []
    },
    {
      "cell_type": "code",
      "source": [
        "b=(4,5,6)"
      ],
      "metadata": {
        "id": "RKCJJ_RwIVvk"
      },
      "execution_count": 335,
      "outputs": []
    },
    {
      "cell_type": "code",
      "source": [
        "a+b"
      ],
      "metadata": {
        "colab": {
          "base_uri": "https://localhost:8080/"
        },
        "id": "WF6wxsQ5IXbb",
        "outputId": "c513d5db-dee6-44b8-a6e2-1d54d674acf8"
      },
      "execution_count": 336,
      "outputs": [
        {
          "output_type": "execute_result",
          "data": {
            "text/plain": [
              "(1, 2, 3, 4, 5, 6)"
            ]
          },
          "metadata": {},
          "execution_count": 336
        }
      ]
    },
    {
      "cell_type": "code",
      "source": [
        "a=(\"a\",\"b\")"
      ],
      "metadata": {
        "id": "S3eSiB_xIYSk"
      },
      "execution_count": 337,
      "outputs": []
    },
    {
      "cell_type": "code",
      "source": [
        "b=(\"c\",\"d\")"
      ],
      "metadata": {
        "id": "HU1DTw8aIiWr"
      },
      "execution_count": 338,
      "outputs": []
    },
    {
      "cell_type": "code",
      "source": [
        "a+b"
      ],
      "metadata": {
        "colab": {
          "base_uri": "https://localhost:8080/"
        },
        "id": "xANiaiINIkws",
        "outputId": "6b26abc4-f79b-4c99-85f1-b764defef74f"
      },
      "execution_count": 339,
      "outputs": [
        {
          "output_type": "execute_result",
          "data": {
            "text/plain": [
              "('a', 'b', 'c', 'd')"
            ]
          },
          "metadata": {},
          "execution_count": 339
        }
      ]
    },
    {
      "cell_type": "code",
      "source": [
        "## Repeatation ():-- repeated the elemets"
      ],
      "metadata": {
        "id": "yYE90XdsIlya"
      },
      "execution_count": 340,
      "outputs": []
    },
    {
      "cell_type": "code",
      "source": [
        "a*3"
      ],
      "metadata": {
        "colab": {
          "base_uri": "https://localhost:8080/"
        },
        "id": "WSKJ_FarIrOA",
        "outputId": "c0735177-f00e-46bd-d751-14d9407d945f"
      },
      "execution_count": 341,
      "outputs": [
        {
          "output_type": "execute_result",
          "data": {
            "text/plain": [
              "('a', 'b', 'a', 'b', 'a', 'b')"
            ]
          },
          "metadata": {},
          "execution_count": 341
        }
      ]
    },
    {
      "cell_type": "code",
      "source": [
        "9b*1"
      ],
      "metadata": {
        "colab": {
          "base_uri": "https://localhost:8080/"
        },
        "id": "dzHMlfpKIt4V",
        "outputId": "9bfa06c7-b217-4330-fc8e-2620cc3210d3"
      },
      "execution_count": 342,
      "outputs": [
        {
          "output_type": "execute_result",
          "data": {
            "text/plain": [
              "('c', 'd')"
            ]
          },
          "metadata": {},
          "execution_count": 342
        }
      ]
    },
    {
      "cell_type": "code",
      "source": [
        "b*2"
      ],
      "metadata": {
        "colab": {
          "base_uri": "https://localhost:8080/"
        },
        "id": "ZVs2pV2rIvk4",
        "outputId": "ac894508-5f50-40c1-99bf-2c5d5f365b6d"
      },
      "execution_count": 343,
      "outputs": [
        {
          "output_type": "execute_result",
          "data": {
            "text/plain": [
              "('c', 'd', 'c', 'd')"
            ]
          },
          "metadata": {},
          "execution_count": 343
        }
      ]
    },
    {
      "cell_type": "code",
      "source": [
        "## MEMBERSHIP() :-- To check xyz elemets are availble in the variable or not and it gives always value in boolean datatypes like true and false"
      ],
      "metadata": {
        "id": "Y58zlzBlI9sl"
      },
      "execution_count": 344,
      "outputs": []
    },
    {
      "cell_type": "code",
      "source": [
        "a"
      ],
      "metadata": {
        "colab": {
          "base_uri": "https://localhost:8080/"
        },
        "id": "tyMFd292IwwH",
        "outputId": "3101fc27-478c-4585-cb50-dce2f4f6bd81"
      },
      "execution_count": 346,
      "outputs": [
        {
          "output_type": "execute_result",
          "data": {
            "text/plain": [
              "('a', 'b')"
            ]
          },
          "metadata": {},
          "execution_count": 346
        }
      ]
    },
    {
      "cell_type": "code",
      "source": [
        "a in a"
      ],
      "metadata": {
        "colab": {
          "base_uri": "https://localhost:8080/"
        },
        "id": "1W79mU3aJTga",
        "outputId": "0bf72f2a-714f-4bf0-caa2-94c706eabe9e"
      },
      "execution_count": 347,
      "outputs": [
        {
          "output_type": "execute_result",
          "data": {
            "text/plain": [
              "False"
            ]
          },
          "metadata": {},
          "execution_count": 347
        }
      ]
    },
    {
      "cell_type": "code",
      "source": [
        "\"a\" in a"
      ],
      "metadata": {
        "colab": {
          "base_uri": "https://localhost:8080/"
        },
        "id": "ztq0SdowJW7f",
        "outputId": "d90fbbd2-da2d-4601-c9c4-d318b44c1bc6"
      },
      "execution_count": 348,
      "outputs": [
        {
          "output_type": "execute_result",
          "data": {
            "text/plain": [
              "True"
            ]
          },
          "metadata": {},
          "execution_count": 348
        }
      ]
    },
    {
      "cell_type": "code",
      "source": [
        "2 in a"
      ],
      "metadata": {
        "colab": {
          "base_uri": "https://localhost:8080/"
        },
        "id": "ZCcVr1gcJaiO",
        "outputId": "02ad56d7-22b4-4a98-9c34-e6c767e819c6"
      },
      "execution_count": 349,
      "outputs": [
        {
          "output_type": "execute_result",
          "data": {
            "text/plain": [
              "False"
            ]
          },
          "metadata": {},
          "execution_count": 349
        }
      ]
    },
    {
      "cell_type": "code",
      "source": [
        "\"b\" in a"
      ],
      "metadata": {
        "colab": {
          "base_uri": "https://localhost:8080/"
        },
        "id": "dGuJ1-y0Jc21",
        "outputId": "f3ccdff7-137b-459d-83ae-cdc741ceb5ad"
      },
      "execution_count": 350,
      "outputs": [
        {
          "output_type": "execute_result",
          "data": {
            "text/plain": [
              "True"
            ]
          },
          "metadata": {},
          "execution_count": 350
        }
      ]
    },
    {
      "cell_type": "code",
      "source": [
        "### SET {} :-\n",
        "#--- Set is a unordered elemets (no fix order)\n",
        "#--- mutuble (it can be change)\n",
        "#---no duplication\n",
        "#no indexing\n",
        "#mix data types"
      ],
      "metadata": {
        "id": "kvkrUnYfJejy"
      },
      "execution_count": 353,
      "outputs": []
    },
    {
      "cell_type": "code",
      "source": [
        "#EMPTY SET () :- why we used the parantheses braces because set and dict both braces are same and We use set() so that the developer doesn't get confused.\n",
        "#-- if we want to check the type of sequesnces only then we use empty set"
      ],
      "metadata": {
        "id": "0RUlwXqbJnB-"
      },
      "execution_count": 366,
      "outputs": []
    },
    {
      "cell_type": "code",
      "source": [
        "a=set()"
      ],
      "metadata": {
        "id": "DfFhGdHGMYGJ"
      },
      "execution_count": 397,
      "outputs": []
    },
    {
      "cell_type": "code",
      "source": [
        "type(a)"
      ],
      "metadata": {
        "colab": {
          "base_uri": "https://localhost:8080/"
        },
        "id": "Ou9jLFHoMufu",
        "outputId": "5a37e399-7b63-45a3-a96b-7a5adde44e63"
      },
      "execution_count": 398,
      "outputs": [
        {
          "output_type": "execute_result",
          "data": {
            "text/plain": [
              "set"
            ]
          },
          "metadata": {},
          "execution_count": 398
        }
      ]
    },
    {
      "cell_type": "code",
      "source": [
        "num={10,10,20,30} # no duplication"
      ],
      "metadata": {
        "id": "NBBc7XBWMzDP"
      },
      "execution_count": 377,
      "outputs": []
    },
    {
      "cell_type": "code",
      "source": [
        "num"
      ],
      "metadata": {
        "colab": {
          "base_uri": "https://localhost:8080/"
        },
        "id": "eXu_yXOmNZ6_",
        "outputId": "f0b2e05b-cdef-4b56-dd74-6c4cdef815af"
      },
      "execution_count": 378,
      "outputs": [
        {
          "output_type": "execute_result",
          "data": {
            "text/plain": [
              "{10, 20, 30}"
            ]
          },
          "metadata": {},
          "execution_count": 378
        }
      ]
    },
    {
      "cell_type": "code",
      "source": [
        "num={10,10,20,\"shweta\"} ## mix data types"
      ],
      "metadata": {
        "id": "pQluWERaNaqj"
      },
      "execution_count": 381,
      "outputs": []
    },
    {
      "cell_type": "code",
      "source": [
        "num"
      ],
      "metadata": {
        "colab": {
          "base_uri": "https://localhost:8080/"
        },
        "id": "U9FT1CRJNirf",
        "outputId": "75ae3f01-2da2-4d04-f6fd-64707e6f47ff"
      },
      "execution_count": 382,
      "outputs": [
        {
          "output_type": "execute_result",
          "data": {
            "text/plain": [
              "{10, 20, 'shweta'}"
            ]
          },
          "metadata": {},
          "execution_count": 382
        }
      ]
    },
    {
      "cell_type": "code",
      "source": [
        "num"
      ],
      "metadata": {
        "colab": {
          "base_uri": "https://localhost:8080/"
        },
        "id": "pwBfJtKoNjP_",
        "outputId": "a2187f4f-aead-4a68-dec2-33b61c37a8ed"
      },
      "execution_count": 383,
      "outputs": [
        {
          "output_type": "execute_result",
          "data": {
            "text/plain": [
              "{10, 20, 'shweta'}"
            ]
          },
          "metadata": {},
          "execution_count": 383
        }
      ]
    },
    {
      "cell_type": "code",
      "source": [
        "num"
      ],
      "metadata": {
        "colab": {
          "base_uri": "https://localhost:8080/"
        },
        "id": "bFWEPucdNqH6",
        "outputId": "0643d76a-d302-4b9c-f5eb-13f65b5e9fa3"
      },
      "execution_count": 384,
      "outputs": [
        {
          "output_type": "execute_result",
          "data": {
            "text/plain": [
              "{10, 20, 'shweta'}"
            ]
          },
          "metadata": {},
          "execution_count": 384
        }
      ]
    },
    {
      "cell_type": "code",
      "source": [
        "num={10,40,50,90,20}"
      ],
      "metadata": {
        "id": "lcMMjBMXNrDu"
      },
      "execution_count": 385,
      "outputs": []
    },
    {
      "cell_type": "code",
      "source": [
        "num"
      ],
      "metadata": {
        "colab": {
          "base_uri": "https://localhost:8080/"
        },
        "id": "L6ylyiuvNuPH",
        "outputId": "495d68a7-ff27-4b29-97e2-b29ea7b82e2e"
      },
      "execution_count": 386,
      "outputs": [
        {
          "output_type": "execute_result",
          "data": {
            "text/plain": [
              "{10, 20, 40, 50, 90}"
            ]
          },
          "metadata": {},
          "execution_count": 386
        }
      ]
    },
    {
      "cell_type": "code",
      "source": [
        "num"
      ],
      "metadata": {
        "colab": {
          "base_uri": "https://localhost:8080/"
        },
        "id": "OExKOW2FNuxI",
        "outputId": "f7fb218b-60b5-4a5f-d561-45b419387050"
      },
      "execution_count": 387,
      "outputs": [
        {
          "output_type": "execute_result",
          "data": {
            "text/plain": [
              "{10, 20, 40, 50, 90}"
            ]
          },
          "metadata": {},
          "execution_count": 387
        }
      ]
    },
    {
      "cell_type": "code",
      "source": [
        "num"
      ],
      "metadata": {
        "colab": {
          "base_uri": "https://localhost:8080/"
        },
        "id": "PIMKyk4cNvsJ",
        "outputId": "ac716034-5f40-4fbd-9442-bf2fafaf3187"
      },
      "execution_count": 388,
      "outputs": [
        {
          "output_type": "execute_result",
          "data": {
            "text/plain": [
              "{10, 20, 40, 50, 90}"
            ]
          },
          "metadata": {},
          "execution_count": 388
        }
      ]
    },
    {
      "cell_type": "code",
      "source": [
        "num={10,20,30}"
      ],
      "metadata": {
        "id": "68PBd7H7N3Wy"
      },
      "execution_count": 390,
      "outputs": []
    },
    {
      "cell_type": "code",
      "source": [
        "num.add(40)"
      ],
      "metadata": {
        "id": "UJKCFgQeN7lH"
      },
      "execution_count": 392,
      "outputs": []
    },
    {
      "cell_type": "code",
      "source": [],
      "metadata": {
        "id": "q6eX1H9SOs9n"
      },
      "execution_count": null,
      "outputs": []
    },
    {
      "cell_type": "code",
      "source": [
        "num"
      ],
      "metadata": {
        "colab": {
          "base_uri": "https://localhost:8080/"
        },
        "id": "_WXT7I-vN9mo",
        "outputId": "2504cb6c-c5a5-4999-93f3-641a56d9bdc8"
      },
      "execution_count": 393,
      "outputs": [
        {
          "output_type": "execute_result",
          "data": {
            "text/plain": [
              "{10, 20, 30, 40}"
            ]
          },
          "metadata": {},
          "execution_count": 393
        }
      ]
    },
    {
      "cell_type": "code",
      "source": [
        "del set"
      ],
      "metadata": {
        "id": "AXFI1qqCOB6h"
      },
      "execution_count": 396,
      "outputs": []
    },
    {
      "cell_type": "code",
      "source": [],
      "metadata": {
        "id": "TiG97KcwOPj4"
      },
      "execution_count": null,
      "outputs": []
    }
  ]
}