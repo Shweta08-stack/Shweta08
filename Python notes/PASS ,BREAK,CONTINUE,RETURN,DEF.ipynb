{
  "nbformat": 4,
  "nbformat_minor": 0,
  "metadata": {
    "colab": {
      "provenance": []
    },
    "kernelspec": {
      "name": "python3",
      "display_name": "Python 3"
    },
    "language_info": {
      "name": "python"
    }
  },
  "cells": [
    {
      "cell_type": "markdown",
      "source": [
        "#PASS CONTINUE AND BREAK AND RETURN"
      ],
      "metadata": {
        "id": "keRTkti90GHF"
      }
    },
    {
      "cell_type": "code",
      "execution_count": 3,
      "metadata": {
        "colab": {
          "base_uri": "https://localhost:8080/"
        },
        "id": "X1maAvjjy0Td",
        "outputId": "cf7c79d5-ba41-4086-f83d-045b13c37b2b"
      },
      "outputs": [
        {
          "output_type": "stream",
          "name": "stdout",
          "text": [
            "desh badal raha hai :-  1\n",
            "desh badal raha hai :-  3\n",
            "desh badal raha hai :-  5\n"
          ]
        }
      ],
      "source": [
        "numbers = [1, -1, 3, -3, 5, -7]\n",
        "\n",
        "for i in numbers:\n",
        "  if i < 0:\n",
        "    pass      #do nothing\n",
        "  else:\n",
        "    print(\"desh badal raha hai :- \", i)"
      ]
    },
    {
      "cell_type": "code",
      "source": [
        "numbers = [1, -1, 3, -3, 5, -7]\n",
        "\n",
        "for i in numbers:\n",
        "  if i < 0:\n",
        "    print(\"hi -ve values ahe\", i)      #do nothing\n",
        "  else:\n",
        "    print(\"hi positive values ahe \", i)"
      ],
      "metadata": {
        "colab": {
          "base_uri": "https://localhost:8080/"
        },
        "id": "H_DSSJZB1MUF",
        "outputId": "c8f193d1-fe51-4c8c-afd1-b98d060ee79d"
      },
      "execution_count": 7,
      "outputs": [
        {
          "output_type": "stream",
          "name": "stdout",
          "text": [
            "hi positive values ahe  1\n",
            "hi -ve values ahe -1\n",
            "hi positive values ahe  3\n",
            "hi -ve values ahe -3\n",
            "hi positive values ahe  5\n",
            "hi -ve values ahe -7\n"
          ]
        }
      ]
    },
    {
      "cell_type": "code",
      "source": [
        "x = 10\n",
        "\n",
        "if x > 5:\n",
        "  pass"
      ],
      "metadata": {
        "id": "VWxTfs9K2bZJ"
      },
      "execution_count": 8,
      "outputs": []
    },
    {
      "cell_type": "code",
      "source": [
        "#break"
      ],
      "metadata": {
        "id": "Gg1QFwGK3Yua"
      },
      "execution_count": 9,
      "outputs": []
    },
    {
      "cell_type": "code",
      "source": [
        "number = [1,3,5,8,9, 10, 12]\n",
        "for i in number:\n",
        "  if i % 2 == 0:\n",
        "    print(\"the first even number is found\", i)\n",
        "    break\n",
        "  else:\n",
        "    print(\"this is odd number\", i)"
      ],
      "metadata": {
        "colab": {
          "base_uri": "https://localhost:8080/"
        },
        "id": "cm0VIopt3zYw",
        "outputId": "f54fd57d-650c-454c-9b4e-f90107a4eebd"
      },
      "execution_count": 15,
      "outputs": [
        {
          "output_type": "stream",
          "name": "stdout",
          "text": [
            "this is odd number 1\n",
            "this is odd number 3\n",
            "this is odd number 5\n",
            "the first even number is found 8\n"
          ]
        }
      ]
    },
    {
      "cell_type": "code",
      "source": [
        "#continue"
      ],
      "metadata": {
        "id": "UFrYVC1F5l0E"
      },
      "execution_count": 16,
      "outputs": []
    },
    {
      "cell_type": "code",
      "source": [
        "number = [1,-2,-7,5,6,-8,9,-6]\n",
        "\n",
        "for i in number:\n",
        "  if i < 0:\n",
        "    continue  #skip negative number\n",
        "  print(i)"
      ],
      "metadata": {
        "colab": {
          "base_uri": "https://localhost:8080/"
        },
        "id": "0ynVwF_36Pzt",
        "outputId": "2489cfe9-1c6a-4d12-ce20-3ffdeaaf3e4f"
      },
      "execution_count": 17,
      "outputs": [
        {
          "output_type": "stream",
          "name": "stdout",
          "text": [
            "1\n",
            "5\n",
            "6\n",
            "9\n"
          ]
        }
      ]
    },
    {
      "cell_type": "markdown",
      "source": [
        "#FUNCTIONS"
      ],
      "metadata": {
        "id": "0UOUU72r8xls"
      }
    },
    {
      "cell_type": "code",
      "source": [
        "a = 10\n",
        "b = 20\n",
        "\n",
        "a + b"
      ],
      "metadata": {
        "colab": {
          "base_uri": "https://localhost:8080/"
        },
        "id": "ouHDiWrj8jRM",
        "outputId": "56124f05-35e9-45d9-a88e-dc61308e5847"
      },
      "execution_count": 21,
      "outputs": [
        {
          "output_type": "execute_result",
          "data": {
            "text/plain": [
              "30"
            ]
          },
          "metadata": {},
          "execution_count": 21
        }
      ]
    },
    {
      "cell_type": "code",
      "source": [
        "def add(a, b):\n",
        "  return a + b"
      ],
      "metadata": {
        "id": "Hu2w55IZ9t4J"
      },
      "execution_count": 24,
      "outputs": []
    },
    {
      "cell_type": "code",
      "source": [
        "add(50,60)"
      ],
      "metadata": {
        "colab": {
          "base_uri": "https://localhost:8080/"
        },
        "id": "GUdJPZdR-OFV",
        "outputId": "46c3d232-bcfa-4a39-9ff6-dcef5a3bb3af"
      },
      "execution_count": 25,
      "outputs": [
        {
          "output_type": "execute_result",
          "data": {
            "text/plain": [
              "110"
            ]
          },
          "metadata": {},
          "execution_count": 25
        }
      ]
    },
    {
      "cell_type": "code",
      "source": [
        "def greeting(name = \"Dear\"):\n",
        "  print(\"Hello\", name)"
      ],
      "metadata": {
        "id": "kjqvbqPe-ULf"
      },
      "execution_count": 26,
      "outputs": []
    },
    {
      "cell_type": "code",
      "source": [
        "greeting()"
      ],
      "metadata": {
        "colab": {
          "base_uri": "https://localhost:8080/"
        },
        "id": "CTY-KEE0_SIR",
        "outputId": "efc1e857-bd35-4c25-b656-aa9bfc4089b4"
      },
      "execution_count": 27,
      "outputs": [
        {
          "output_type": "stream",
          "name": "stdout",
          "text": [
            "Hello Dear\n"
          ]
        }
      ]
    },
    {
      "cell_type": "code",
      "source": [
        "greeting(\"shreya\")"
      ],
      "metadata": {
        "colab": {
          "base_uri": "https://localhost:8080/"
        },
        "id": "bRikt-SZ_gTM",
        "outputId": "3e726130-b354-4222-94d0-a01ae3270288"
      },
      "execution_count": 28,
      "outputs": [
        {
          "output_type": "stream",
          "name": "stdout",
          "text": [
            "Hello shreya\n"
          ]
        }
      ]
    },
    {
      "cell_type": "code",
      "source": [
        "for i in ['aditya', 'shreya', 'shweta', \"tushar\"]:\n",
        "  greeting(i)"
      ],
      "metadata": {
        "colab": {
          "base_uri": "https://localhost:8080/"
        },
        "id": "CH75BHuZ_mZp",
        "outputId": "55667b2b-8152-4d65-b3df-47e114b2757a"
      },
      "execution_count": 29,
      "outputs": [
        {
          "output_type": "stream",
          "name": "stdout",
          "text": [
            "Hello aditya\n",
            "Hello shreya\n",
            "Hello shweta\n",
            "Hello tushar\n"
          ]
        }
      ]
    },
    {
      "cell_type": "code",
      "source": [
        "#Write a function add_numbers(a, b) that takes two numbers as input and returns their sum.\n",
        "\n",
        "#Write a function check_even_odd(n) that takes a number as input and prints whether it is \"Even\" or \"Odd\".\n",
        "\n",
        "#Write a function find_max(a, b, c) that takes three numbers as input and returns the largest one.\n",
        "\n",
        "#Write a function factorial(n) that takes a number and returns its factorial.\n",
        "\n",
        "#Write a function count_vowels(text) that takes a string and returns the number of vowels (a, e, i, o, u) in it."
      ],
      "metadata": {
        "id": "HHZWYZuAAORv"
      },
      "execution_count": null,
      "outputs": []
    }
  ]
}