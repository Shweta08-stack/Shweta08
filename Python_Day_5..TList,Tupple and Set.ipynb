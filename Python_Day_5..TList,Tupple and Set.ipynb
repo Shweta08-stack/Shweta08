{
  "nbformat": 4,
  "nbformat_minor": 0,
  "metadata": {
    "colab": {
      "provenance": []
    },
    "kernelspec": {
      "name": "python3",
      "display_name": "Python 3"
    },
    "language_info": {
      "name": "python"
    }
  },
  "cells": [
    {
      "cell_type": "code",
      "execution_count": 1,
      "metadata": {
        "id": "Qw5VLI5USh-C"
      },
      "outputs": [],
      "source": [
        "#.index() - It return the index of first occurance value"
      ]
    },
    {
      "cell_type": "code",
      "source": [
        "num = [10,20,20,30,40,50,60,70,70,80]"
      ],
      "metadata": {
        "id": "fTD0jQ3NTHJo"
      },
      "execution_count": 3,
      "outputs": []
    },
    {
      "cell_type": "code",
      "source": [
        "num.index(20)"
      ],
      "metadata": {
        "colab": {
          "base_uri": "https://localhost:8080/"
        },
        "id": "WPQ5NblPTevd",
        "outputId": "abf8842f-517c-4c98-c7fe-17ac4e30d9f9"
      },
      "execution_count": 4,
      "outputs": [
        {
          "output_type": "execute_result",
          "data": {
            "text/plain": [
              "1"
            ]
          },
          "metadata": {},
          "execution_count": 4
        }
      ]
    },
    {
      "cell_type": "code",
      "source": [
        "num.index(70)"
      ],
      "metadata": {
        "colab": {
          "base_uri": "https://localhost:8080/"
        },
        "id": "xNV7GJp1T5vk",
        "outputId": "a1618c66-3b6b-4845-a5e8-fef7ecf2703b"
      },
      "execution_count": 5,
      "outputs": [
        {
          "output_type": "execute_result",
          "data": {
            "text/plain": [
              "7"
            ]
          },
          "metadata": {},
          "execution_count": 5
        }
      ]
    },
    {
      "cell_type": "code",
      "source": [
        "#.count()- count the occurance of value"
      ],
      "metadata": {
        "id": "UMP6ifcVUCou"
      },
      "execution_count": 6,
      "outputs": []
    },
    {
      "cell_type": "code",
      "source": [
        "num.count(20)"
      ],
      "metadata": {
        "colab": {
          "base_uri": "https://localhost:8080/"
        },
        "id": "_PR2O4IhUpfc",
        "outputId": "5253fda9-52ca-4782-c61c-4a0f3e8cac5f"
      },
      "execution_count": 7,
      "outputs": [
        {
          "output_type": "execute_result",
          "data": {
            "text/plain": [
              "2"
            ]
          },
          "metadata": {},
          "execution_count": 7
        }
      ]
    },
    {
      "cell_type": "code",
      "source": [
        "num.count(10)"
      ],
      "metadata": {
        "colab": {
          "base_uri": "https://localhost:8080/"
        },
        "id": "WX1eDaB7Ur53",
        "outputId": "8d8f4454-9257-4a9b-d098-c662d70793e7"
      },
      "execution_count": 8,
      "outputs": [
        {
          "output_type": "execute_result",
          "data": {
            "text/plain": [
              "1"
            ]
          },
          "metadata": {},
          "execution_count": 8
        }
      ]
    },
    {
      "cell_type": "code",
      "source": [
        "#.reverse()"
      ],
      "metadata": {
        "id": "OVj_4Q0lU65C"
      },
      "execution_count": 9,
      "outputs": []
    },
    {
      "cell_type": "code",
      "source": [
        "num.reverse()"
      ],
      "metadata": {
        "id": "QFmarBuAVClm"
      },
      "execution_count": 10,
      "outputs": []
    },
    {
      "cell_type": "code",
      "source": [
        "num"
      ],
      "metadata": {
        "colab": {
          "base_uri": "https://localhost:8080/"
        },
        "id": "8O6R8EAcVFe2",
        "outputId": "3c406158-5351-4c9f-9525-ddb56a550ac7"
      },
      "execution_count": 11,
      "outputs": [
        {
          "output_type": "execute_result",
          "data": {
            "text/plain": [
              "[80, 70, 70, 60, 50, 40, 30, 20, 20, 10]"
            ]
          },
          "metadata": {},
          "execution_count": 11
        }
      ]
    },
    {
      "cell_type": "code",
      "source": [
        "#.sort()"
      ],
      "metadata": {
        "id": "g_0CUWdeVGfW"
      },
      "execution_count": 15,
      "outputs": []
    },
    {
      "cell_type": "code",
      "source": [
        "num.sort()"
      ],
      "metadata": {
        "id": "G1mzwGBLVNGh"
      },
      "execution_count": 13,
      "outputs": []
    },
    {
      "cell_type": "code",
      "source": [
        "num"
      ],
      "metadata": {
        "colab": {
          "base_uri": "https://localhost:8080/"
        },
        "id": "MNFg9uSLVO0Q",
        "outputId": "bda5ad12-579c-451f-c124-e446b91247b6"
      },
      "execution_count": 14,
      "outputs": [
        {
          "output_type": "execute_result",
          "data": {
            "text/plain": [
              "[10, 20, 20, 30, 40, 50, 60, 70, 70, 80]"
            ]
          },
          "metadata": {},
          "execution_count": 14
        }
      ]
    },
    {
      "cell_type": "code",
      "source": [
        "num1 = [5,7,1,2,9,8]"
      ],
      "metadata": {
        "id": "tFXzN_c6VPYG"
      },
      "execution_count": 16,
      "outputs": []
    },
    {
      "cell_type": "code",
      "source": [
        "num1.reverse()"
      ],
      "metadata": {
        "id": "hpvsfg8CVpCi"
      },
      "execution_count": 17,
      "outputs": []
    },
    {
      "cell_type": "code",
      "source": [
        "num1"
      ],
      "metadata": {
        "colab": {
          "base_uri": "https://localhost:8080/"
        },
        "id": "wxhIXd0zVqy8",
        "outputId": "9a5ff316-1017-43fb-e395-4fc56b98f15f"
      },
      "execution_count": 18,
      "outputs": [
        {
          "output_type": "execute_result",
          "data": {
            "text/plain": [
              "[8, 9, 2, 1, 7, 5]"
            ]
          },
          "metadata": {},
          "execution_count": 18
        }
      ]
    },
    {
      "cell_type": "code",
      "source": [
        "num1.sort()"
      ],
      "metadata": {
        "id": "7y7UkpjqVrfx"
      },
      "execution_count": 19,
      "outputs": []
    },
    {
      "cell_type": "code",
      "source": [
        "num1"
      ],
      "metadata": {
        "colab": {
          "base_uri": "https://localhost:8080/"
        },
        "id": "PyYgVtpjV5s2",
        "outputId": "1f38755f-f850-4c93-c593-c78f8b5742bc"
      },
      "execution_count": 20,
      "outputs": [
        {
          "output_type": "execute_result",
          "data": {
            "text/plain": [
              "[1, 2, 5, 7, 8, 9]"
            ]
          },
          "metadata": {},
          "execution_count": 20
        }
      ]
    },
    {
      "cell_type": "code",
      "source": [
        "num1.reverse()"
      ],
      "metadata": {
        "id": "xmKKnNpBV6fG"
      },
      "execution_count": 21,
      "outputs": []
    },
    {
      "cell_type": "code",
      "source": [
        "num1"
      ],
      "metadata": {
        "colab": {
          "base_uri": "https://localhost:8080/"
        },
        "id": "1k1W8wslV_dG",
        "outputId": "a48f8e4c-2d4a-420f-d6aa-195fbb78d5d2"
      },
      "execution_count": 22,
      "outputs": [
        {
          "output_type": "execute_result",
          "data": {
            "text/plain": [
              "[9, 8, 7, 5, 2, 1]"
            ]
          },
          "metadata": {},
          "execution_count": 22
        }
      ]
    },
    {
      "cell_type": "code",
      "source": [
        "#.copy()"
      ],
      "metadata": {
        "id": "h-ZNadtZWAH9"
      },
      "execution_count": 23,
      "outputs": []
    },
    {
      "cell_type": "code",
      "source": [
        "num3 = num.copy()"
      ],
      "metadata": {
        "id": "Aw7BBNSIWPZN"
      },
      "execution_count": 24,
      "outputs": []
    },
    {
      "cell_type": "code",
      "source": [
        "num3"
      ],
      "metadata": {
        "colab": {
          "base_uri": "https://localhost:8080/"
        },
        "id": "2oy89IuBWTc7",
        "outputId": "cd3cd618-c021-4d1c-a10f-e56df99fabaf"
      },
      "execution_count": 25,
      "outputs": [
        {
          "output_type": "execute_result",
          "data": {
            "text/plain": [
              "[10, 20, 20, 30, 40, 50, 60, 70, 70, 80]"
            ]
          },
          "metadata": {},
          "execution_count": 25
        }
      ]
    },
    {
      "cell_type": "code",
      "source": [
        "num4 = num"
      ],
      "metadata": {
        "id": "BdFFAEiRWUHT"
      },
      "execution_count": 26,
      "outputs": []
    },
    {
      "cell_type": "code",
      "source": [
        "num4"
      ],
      "metadata": {
        "colab": {
          "base_uri": "https://localhost:8080/"
        },
        "id": "-o_No3ULWd0b",
        "outputId": "c12eba6f-24bb-4532-ca7b-7cf0246d3437"
      },
      "execution_count": 27,
      "outputs": [
        {
          "output_type": "execute_result",
          "data": {
            "text/plain": [
              "[10, 20, 20, 30, 40, 50, 60, 70, 70, 80]"
            ]
          },
          "metadata": {},
          "execution_count": 27
        }
      ]
    },
    {
      "cell_type": "code",
      "source": [
        "#list comperhension"
      ],
      "metadata": {
        "id": "kt0YGEUbWeni"
      },
      "execution_count": 28,
      "outputs": []
    },
    {
      "cell_type": "code",
      "source": [
        " 2 ** 2"
      ],
      "metadata": {
        "colab": {
          "base_uri": "https://localhost:8080/"
        },
        "id": "MkEonuhCW7WR",
        "outputId": "e31935c5-0cbf-46a2-da3c-3655e868caa4"
      },
      "execution_count": 29,
      "outputs": [
        {
          "output_type": "execute_result",
          "data": {
            "text/plain": [
              "4"
            ]
          },
          "metadata": {},
          "execution_count": 29
        }
      ]
    },
    {
      "cell_type": "code",
      "source": [
        "x = [1,2,3,4,5]"
      ],
      "metadata": {
        "id": "j-jGIoYDXHa_"
      },
      "execution_count": 30,
      "outputs": []
    },
    {
      "cell_type": "code",
      "source": [
        "square = [tushar ** 2 for tushar in x]"
      ],
      "metadata": {
        "id": "lIge4SqhXMUP"
      },
      "execution_count": 36,
      "outputs": []
    },
    {
      "cell_type": "code",
      "source": [
        "square"
      ],
      "metadata": {
        "colab": {
          "base_uri": "https://localhost:8080/"
        },
        "id": "wv4fKx1UXPWa",
        "outputId": "92bf7a89-5cec-43b7-e9db-270da0514ef8"
      },
      "execution_count": 38,
      "outputs": [
        {
          "output_type": "execute_result",
          "data": {
            "text/plain": [
              "[1, 4, 9, 16, 25]"
            ]
          },
          "metadata": {},
          "execution_count": 38
        }
      ]
    },
    {
      "cell_type": "code",
      "source": [
        "# in keyword use for one by one iteration"
      ],
      "metadata": {
        "id": "_bpjY4J3XcRw"
      },
      "execution_count": 39,
      "outputs": []
    },
    {
      "cell_type": "code",
      "source": [
        "list = [4,5,6,7,8,9]"
      ],
      "metadata": {
        "id": "9oXzPxCxZAm7"
      },
      "execution_count": 41,
      "outputs": []
    },
    {
      "cell_type": "code",
      "source": [
        "ans = [i + 2 for i in list]"
      ],
      "metadata": {
        "id": "cI1RCNChZDmE"
      },
      "execution_count": 43,
      "outputs": []
    },
    {
      "cell_type": "code",
      "source": [
        "ans"
      ],
      "metadata": {
        "colab": {
          "base_uri": "https://localhost:8080/"
        },
        "id": "gndZ8isfZakt",
        "outputId": "93e51c04-22cb-4bb4-e39b-cceb6f84e926"
      },
      "execution_count": 44,
      "outputs": [
        {
          "output_type": "execute_result",
          "data": {
            "text/plain": [
              "[6, 7, 8, 9, 10, 11]"
            ]
          },
          "metadata": {},
          "execution_count": 44
        }
      ]
    },
    {
      "cell_type": "code",
      "source": [
        "#concatenation (+)"
      ],
      "metadata": {
        "id": "klfW4M94ZhbB"
      },
      "execution_count": 45,
      "outputs": []
    },
    {
      "cell_type": "code",
      "source": [
        "a = [1,2,3]\n",
        "b = [4,5,6]"
      ],
      "metadata": {
        "id": "TyiYvWpVaFKr"
      },
      "execution_count": 47,
      "outputs": []
    },
    {
      "cell_type": "code",
      "source": [
        "a + b"
      ],
      "metadata": {
        "colab": {
          "base_uri": "https://localhost:8080/"
        },
        "id": "pX__Bl0XaHCV",
        "outputId": "0afc3068-0c5b-4a87-df8a-0ed4d016919d"
      },
      "execution_count": 48,
      "outputs": [
        {
          "output_type": "execute_result",
          "data": {
            "text/plain": [
              "[1, 2, 3, 4, 5, 6]"
            ]
          },
          "metadata": {},
          "execution_count": 48
        }
      ]
    },
    {
      "cell_type": "code",
      "source": [
        "#repetition (*)"
      ],
      "metadata": {
        "id": "4oanfBQnaKe5"
      },
      "execution_count": 49,
      "outputs": []
    },
    {
      "cell_type": "code",
      "source": [
        "a * 3"
      ],
      "metadata": {
        "colab": {
          "base_uri": "https://localhost:8080/"
        },
        "id": "nxOggBIWao3I",
        "outputId": "2bec173a-b705-46af-9f03-c50d127f6130"
      },
      "execution_count": 50,
      "outputs": [
        {
          "output_type": "execute_result",
          "data": {
            "text/plain": [
              "[1, 2, 3, 1, 2, 3, 1, 2, 3]"
            ]
          },
          "metadata": {},
          "execution_count": 50
        }
      ]
    },
    {
      "cell_type": "code",
      "source": [
        "#membership ( in)"
      ],
      "metadata": {
        "id": "n0EIZpeiarFX"
      },
      "execution_count": 51,
      "outputs": []
    },
    {
      "cell_type": "code",
      "source": [
        "3 in a"
      ],
      "metadata": {
        "colab": {
          "base_uri": "https://localhost:8080/"
        },
        "id": "2LBcXGV4a4OS",
        "outputId": "acf80e78-60b3-4d74-9b43-3d3c6a94da08"
      },
      "execution_count": 52,
      "outputs": [
        {
          "output_type": "execute_result",
          "data": {
            "text/plain": [
              "True"
            ]
          },
          "metadata": {},
          "execution_count": 52
        }
      ]
    },
    {
      "cell_type": "code",
      "source": [
        "4 in a"
      ],
      "metadata": {
        "colab": {
          "base_uri": "https://localhost:8080/"
        },
        "id": "xLxybY2ka7Ty",
        "outputId": "cd304277-a3e7-48ca-a0cd-4fba03afa9e7"
      },
      "execution_count": 53,
      "outputs": [
        {
          "output_type": "execute_result",
          "data": {
            "text/plain": [
              "False"
            ]
          },
          "metadata": {},
          "execution_count": 53
        }
      ]
    },
    {
      "cell_type": "markdown",
      "source": [
        "#Tuple()\n",
        "\n",
        "Tuple is fix ordered set of elements\n",
        "\n",
        "immutable - once created , element cannot be changed\n",
        "\n",
        "allow duplication\n",
        "\n",
        "support different data type\n",
        "\n",
        "element can be accesed using index"
      ],
      "metadata": {
        "id": "Cw2cYxAJbdzX"
      }
    },
    {
      "cell_type": "code",
      "source": [
        "# empty tuple"
      ],
      "metadata": {
        "id": "cVWF34LIbBBd"
      },
      "execution_count": 54,
      "outputs": []
    },
    {
      "cell_type": "code",
      "source": [
        "a = ()"
      ],
      "metadata": {
        "id": "5838g66WcbMy"
      },
      "execution_count": 55,
      "outputs": []
    },
    {
      "cell_type": "code",
      "source": [
        "type(a)"
      ],
      "metadata": {
        "colab": {
          "base_uri": "https://localhost:8080/"
        },
        "id": "U6OMiRtrceuu",
        "outputId": "19c62c8e-9995-4825-cc37-f786772a3023"
      },
      "execution_count": 56,
      "outputs": [
        {
          "output_type": "execute_result",
          "data": {
            "text/plain": [
              "tuple"
            ]
          },
          "metadata": {},
          "execution_count": 56
        }
      ]
    },
    {
      "cell_type": "code",
      "source": [
        "b = (10,20,20,40,50,60)"
      ],
      "metadata": {
        "id": "hKF9Ig2kcgek"
      },
      "execution_count": 75,
      "outputs": []
    },
    {
      "cell_type": "code",
      "source": [
        "c = (20, 45.9, True, \"tushar\")"
      ],
      "metadata": {
        "id": "nUZsIm4AclMh"
      },
      "execution_count": 58,
      "outputs": []
    },
    {
      "cell_type": "code",
      "source": [
        "b.count(20)"
      ],
      "metadata": {
        "colab": {
          "base_uri": "https://localhost:8080/"
        },
        "id": "q2J1eEibcqiZ",
        "outputId": "465cd4c8-a6bd-4c2c-eec3-a784a55040dd"
      },
      "execution_count": 59,
      "outputs": [
        {
          "output_type": "execute_result",
          "data": {
            "text/plain": [
              "2"
            ]
          },
          "metadata": {},
          "execution_count": 59
        }
      ]
    },
    {
      "cell_type": "code",
      "source": [
        "c.index(45.9)"
      ],
      "metadata": {
        "colab": {
          "base_uri": "https://localhost:8080/"
        },
        "id": "NUig30emdVz2",
        "outputId": "ee30400b-4235-4532-b844-8ce3247ade63"
      },
      "execution_count": 60,
      "outputs": [
        {
          "output_type": "execute_result",
          "data": {
            "text/plain": [
              "1"
            ]
          },
          "metadata": {},
          "execution_count": 60
        }
      ]
    },
    {
      "cell_type": "code",
      "source": [
        "#index & slicing []"
      ],
      "metadata": {
        "id": "EPVDQJW-dZzU"
      },
      "execution_count": 62,
      "outputs": []
    },
    {
      "cell_type": "code",
      "source": [
        "b"
      ],
      "metadata": {
        "colab": {
          "base_uri": "https://localhost:8080/"
        },
        "id": "OfuQeinwdpm5",
        "outputId": "1dece203-4b61-432f-dfc5-a20dbfe0b511"
      },
      "execution_count": 63,
      "outputs": [
        {
          "output_type": "execute_result",
          "data": {
            "text/plain": [
              "(10, 20, 20, 40, 50, 60)"
            ]
          },
          "metadata": {},
          "execution_count": 63
        }
      ]
    },
    {
      "cell_type": "code",
      "source": [
        "b[3]   #indexing  2 is 2nd index"
      ],
      "metadata": {
        "colab": {
          "base_uri": "https://localhost:8080/"
        },
        "id": "KmKw1JbpdtVN",
        "outputId": "c5e7f13a-b863-4446-a1f3-4578097d65b2"
      },
      "execution_count": 68,
      "outputs": [
        {
          "output_type": "execute_result",
          "data": {
            "text/plain": [
              "40"
            ]
          },
          "metadata": {},
          "execution_count": 68
        }
      ]
    },
    {
      "cell_type": "code",
      "source": [
        "b[2:5]   #slicing - range 2 to 3"
      ],
      "metadata": {
        "colab": {
          "base_uri": "https://localhost:8080/"
        },
        "id": "h6TduUl8duqr",
        "outputId": "3b99beb8-c1b9-440b-de13-69e0f6cac911"
      },
      "execution_count": 76,
      "outputs": [
        {
          "output_type": "execute_result",
          "data": {
            "text/plain": [
              "(20, 40, 50)"
            ]
          },
          "metadata": {},
          "execution_count": 76
        }
      ]
    },
    {
      "cell_type": "code",
      "source": [
        "#tuple concatenation"
      ],
      "metadata": {
        "id": "ehNFCg6cdyi0"
      },
      "execution_count": 69,
      "outputs": []
    },
    {
      "cell_type": "code",
      "source": [
        "a = (1,2,3)\n",
        "b = (4,5,6)"
      ],
      "metadata": {
        "id": "gTj-kZpueqHe"
      },
      "execution_count": 77,
      "outputs": []
    },
    {
      "cell_type": "code",
      "source": [
        "a  +b"
      ],
      "metadata": {
        "colab": {
          "base_uri": "https://localhost:8080/"
        },
        "id": "FE60HtnSetZf",
        "outputId": "a8f60b15-2fdd-4860-fe45-824a3b35e8f4"
      },
      "execution_count": 78,
      "outputs": [
        {
          "output_type": "execute_result",
          "data": {
            "text/plain": [
              "(1, 2, 3, 4, 5, 6)"
            ]
          },
          "metadata": {},
          "execution_count": 78
        }
      ]
    },
    {
      "cell_type": "code",
      "source": [
        "#repetition"
      ],
      "metadata": {
        "id": "bdBKHbDweuN6"
      },
      "execution_count": 72,
      "outputs": []
    },
    {
      "cell_type": "code",
      "source": [
        "a * 3"
      ],
      "metadata": {
        "colab": {
          "base_uri": "https://localhost:8080/"
        },
        "id": "UwPyIOwOezJ8",
        "outputId": "c006a8e7-de2f-4ced-d725-8b3bfcc8bc80"
      },
      "execution_count": 79,
      "outputs": [
        {
          "output_type": "execute_result",
          "data": {
            "text/plain": [
              "(1, 2, 3, 1, 2, 3, 1, 2, 3)"
            ]
          },
          "metadata": {},
          "execution_count": 79
        }
      ]
    },
    {
      "cell_type": "code",
      "source": [
        "#membership"
      ],
      "metadata": {
        "id": "Tyrc6Qx7e0zk"
      },
      "execution_count": 80,
      "outputs": []
    },
    {
      "cell_type": "code",
      "source": [
        "4 in a"
      ],
      "metadata": {
        "colab": {
          "base_uri": "https://localhost:8080/"
        },
        "id": "xRMb1-3kfc86",
        "outputId": "a5994f93-0222-4b01-a3b8-0038990cb7ca"
      },
      "execution_count": 81,
      "outputs": [
        {
          "output_type": "execute_result",
          "data": {
            "text/plain": [
              "False"
            ]
          },
          "metadata": {},
          "execution_count": 81
        }
      ]
    },
    {
      "cell_type": "code",
      "source": [
        "3 in a"
      ],
      "metadata": {
        "colab": {
          "base_uri": "https://localhost:8080/"
        },
        "id": "V-r8jMm6fea1",
        "outputId": "c48d41f9-65a6-4733-f25c-f9011ab9d78e"
      },
      "execution_count": 82,
      "outputs": [
        {
          "output_type": "execute_result",
          "data": {
            "text/plain": [
              "True"
            ]
          },
          "metadata": {},
          "execution_count": 82
        }
      ]
    },
    {
      "cell_type": "markdown",
      "source": [
        "# set {}\n",
        "\n",
        "unordered - no fix order\n",
        "\n",
        "mutable - can be change\n",
        "\n",
        "no duplication - only unique element\n",
        "\n",
        "no indexing\n",
        "\n",
        "mix data type\n"
      ],
      "metadata": {
        "id": "0nK1OTZPf1e0"
      }
    },
    {
      "cell_type": "code",
      "source": [
        "#empty set"
      ],
      "metadata": {
        "id": "6vERGSwMffWx"
      },
      "execution_count": 83,
      "outputs": []
    },
    {
      "cell_type": "code",
      "source": [
        "#list = [], tuple = (), set = {}, dict ={key:value}"
      ],
      "metadata": {
        "id": "2jg_mBAngWtI"
      },
      "execution_count": 84,
      "outputs": []
    },
    {
      "cell_type": "code",
      "source": [
        "c = []"
      ],
      "metadata": {
        "id": "gBoTSSTBhGaB"
      },
      "execution_count": 91,
      "outputs": []
    },
    {
      "cell_type": "code",
      "source": [
        "d = ()"
      ],
      "metadata": {
        "id": "CbNajCKQhN0w"
      },
      "execution_count": 92,
      "outputs": []
    },
    {
      "cell_type": "code",
      "source": [
        "b = set()"
      ],
      "metadata": {
        "id": "4UaAOeg1gj66"
      },
      "execution_count": 85,
      "outputs": []
    },
    {
      "cell_type": "code",
      "source": [
        "type(b)"
      ],
      "metadata": {
        "colab": {
          "base_uri": "https://localhost:8080/"
        },
        "id": "_Sbsbc6egrk5",
        "outputId": "9a1cad5f-e455-4834-d843-037fe48d4311"
      },
      "execution_count": 88,
      "outputs": [
        {
          "output_type": "execute_result",
          "data": {
            "text/plain": [
              "set"
            ]
          },
          "metadata": {},
          "execution_count": 88
        }
      ]
    },
    {
      "cell_type": "code",
      "source": [
        "a = {}"
      ],
      "metadata": {
        "id": "_nIjgvcRgl7q"
      },
      "execution_count": 86,
      "outputs": []
    },
    {
      "cell_type": "code",
      "source": [
        "type(a)"
      ],
      "metadata": {
        "colab": {
          "base_uri": "https://localhost:8080/"
        },
        "id": "PCHuK9vXgoHz",
        "outputId": "2d2a52e6-d0af-44a8-90cd-912b44a063ea"
      },
      "execution_count": 87,
      "outputs": [
        {
          "output_type": "execute_result",
          "data": {
            "text/plain": [
              "dict"
            ]
          },
          "metadata": {},
          "execution_count": 87
        }
      ]
    },
    {
      "cell_type": "code",
      "source": [
        "num = {10,20,20,30,30,40,40,40}"
      ],
      "metadata": {
        "id": "zy3jzBXUgqA5"
      },
      "execution_count": 93,
      "outputs": []
    },
    {
      "cell_type": "code",
      "source": [
        "num"
      ],
      "metadata": {
        "colab": {
          "base_uri": "https://localhost:8080/"
        },
        "id": "LEFoQrwEh2O7",
        "outputId": "25385820-222a-444a-edcb-7bb3ad87cd6c"
      },
      "execution_count": 94,
      "outputs": [
        {
          "output_type": "execute_result",
          "data": {
            "text/plain": [
              "{10, 20, 30, 40}"
            ]
          },
          "metadata": {},
          "execution_count": 94
        }
      ]
    },
    {
      "cell_type": "code",
      "source": [
        "num1 = {20,45.6,True, False, \"Tushar\"}"
      ],
      "metadata": {
        "id": "lNegc3qkh2yZ"
      },
      "execution_count": 95,
      "outputs": []
    },
    {
      "cell_type": "code",
      "source": [
        "num1"
      ],
      "metadata": {
        "colab": {
          "base_uri": "https://localhost:8080/"
        },
        "id": "Y5rk4UOAh-LD",
        "outputId": "c372676f-1f8a-4892-ba42-155a9084e045"
      },
      "execution_count": 97,
      "outputs": [
        {
          "output_type": "execute_result",
          "data": {
            "text/plain": [
              "{20, 45.6, False, True, 'Tushar'}"
            ]
          },
          "metadata": {},
          "execution_count": 97
        }
      ]
    },
    {
      "cell_type": "code",
      "source": [
        "#.add()"
      ],
      "metadata": {
        "id": "t8uFQFcHiKvP"
      },
      "execution_count": 98,
      "outputs": []
    },
    {
      "cell_type": "code",
      "source": [
        "num.add(78)"
      ],
      "metadata": {
        "id": "_BDz2QIWiTpB"
      },
      "execution_count": 99,
      "outputs": []
    },
    {
      "cell_type": "code",
      "source": [
        "num"
      ],
      "metadata": {
        "colab": {
          "base_uri": "https://localhost:8080/"
        },
        "id": "Yj_4FswHiWOR",
        "outputId": "f5deab2f-8259-4d78-94e3-349717b68b75"
      },
      "execution_count": 100,
      "outputs": [
        {
          "output_type": "execute_result",
          "data": {
            "text/plain": [
              "{10, 20, 30, 40, 78}"
            ]
          },
          "metadata": {},
          "execution_count": 100
        }
      ]
    },
    {
      "cell_type": "code",
      "source": [
        "num.update([45,95,78])"
      ],
      "metadata": {
        "id": "5tjWFMKgiW4L"
      },
      "execution_count": 101,
      "outputs": []
    },
    {
      "cell_type": "code",
      "source": [
        "num"
      ],
      "metadata": {
        "colab": {
          "base_uri": "https://localhost:8080/"
        },
        "id": "PvJjiw2jioZ5",
        "outputId": "0d0f86ea-a65b-403c-bb2f-7ebf0a4ad75f"
      },
      "execution_count": 102,
      "outputs": [
        {
          "output_type": "execute_result",
          "data": {
            "text/plain": [
              "{10, 20, 30, 40, 45, 78, 95}"
            ]
          },
          "metadata": {},
          "execution_count": 102
        }
      ]
    },
    {
      "cell_type": "code",
      "source": [
        "#remove"
      ],
      "metadata": {
        "id": "fFnAdDd1io95"
      },
      "execution_count": 103,
      "outputs": []
    },
    {
      "cell_type": "code",
      "source": [
        "num.remove(40)"
      ],
      "metadata": {
        "id": "33kXRjHmi05m"
      },
      "execution_count": 104,
      "outputs": []
    },
    {
      "cell_type": "code",
      "source": [
        "num"
      ],
      "metadata": {
        "colab": {
          "base_uri": "https://localhost:8080/"
        },
        "id": "T6K56vKDi2-g",
        "outputId": "e344817c-0bd8-4ec6-e13d-8816a4c1bb8b"
      },
      "execution_count": 105,
      "outputs": [
        {
          "output_type": "execute_result",
          "data": {
            "text/plain": [
              "{10, 20, 30, 45, 78, 95}"
            ]
          },
          "metadata": {},
          "execution_count": 105
        }
      ]
    },
    {
      "cell_type": "code",
      "source": [
        "num.remove(500)"
      ],
      "metadata": {
        "colab": {
          "base_uri": "https://localhost:8080/",
          "height": 141
        },
        "id": "X3GY_CiBi3iH",
        "outputId": "00d987b1-6cdb-4da3-aafa-48081c9c577a"
      },
      "execution_count": 106,
      "outputs": [
        {
          "output_type": "error",
          "ename": "KeyError",
          "evalue": "500",
          "traceback": [
            "\u001b[0;31m---------------------------------------------------------------------------\u001b[0m",
            "\u001b[0;31mKeyError\u001b[0m                                  Traceback (most recent call last)",
            "\u001b[0;32m<ipython-input-106-1e31260cf34d>\u001b[0m in \u001b[0;36m<cell line: 0>\u001b[0;34m()\u001b[0m\n\u001b[0;32m----> 1\u001b[0;31m \u001b[0mnum\u001b[0m\u001b[0;34m.\u001b[0m\u001b[0mremove\u001b[0m\u001b[0;34m(\u001b[0m\u001b[0;36m500\u001b[0m\u001b[0;34m)\u001b[0m\u001b[0;34m\u001b[0m\u001b[0;34m\u001b[0m\u001b[0m\n\u001b[0m",
            "\u001b[0;31mKeyError\u001b[0m: 500"
          ]
        }
      ]
    },
    {
      "cell_type": "code",
      "source": [
        "#discard - remove element if not found-no error"
      ],
      "metadata": {
        "id": "3gkyi0kJjB1z"
      },
      "execution_count": 107,
      "outputs": []
    },
    {
      "cell_type": "code",
      "source": [
        "num.discard(500)"
      ],
      "metadata": {
        "id": "kY4DvJA0jPmx"
      },
      "execution_count": 108,
      "outputs": []
    },
    {
      "cell_type": "code",
      "source": [
        "num"
      ],
      "metadata": {
        "colab": {
          "base_uri": "https://localhost:8080/"
        },
        "id": "rnaaYS2JjeJL",
        "outputId": "6326eac0-720e-4c35-ad7b-5f678bcb141a"
      },
      "execution_count": 111,
      "outputs": [
        {
          "output_type": "execute_result",
          "data": {
            "text/plain": [
              "{10, 30, 45, 78, 95}"
            ]
          },
          "metadata": {},
          "execution_count": 111
        }
      ]
    },
    {
      "cell_type": "code",
      "source": [
        "num.discard(20)"
      ],
      "metadata": {
        "id": "PzqBDYkMjRsk"
      },
      "execution_count": 109,
      "outputs": []
    },
    {
      "cell_type": "code",
      "source": [
        "num"
      ],
      "metadata": {
        "colab": {
          "base_uri": "https://localhost:8080/"
        },
        "id": "5afxRL9PjXvx",
        "outputId": "a3452475-ff06-43a3-82f5-b04daebe334c"
      },
      "execution_count": 110,
      "outputs": [
        {
          "output_type": "execute_result",
          "data": {
            "text/plain": [
              "{10, 30, 45, 78, 95}"
            ]
          },
          "metadata": {},
          "execution_count": 110
        }
      ]
    },
    {
      "cell_type": "code",
      "source": [
        "#clear()"
      ],
      "metadata": {
        "id": "DuqLyZEDjYUw"
      },
      "execution_count": 112,
      "outputs": []
    },
    {
      "cell_type": "code",
      "source": [
        "num.clear()"
      ],
      "metadata": {
        "id": "UyHqEHORjol3"
      },
      "execution_count": 113,
      "outputs": []
    },
    {
      "cell_type": "code",
      "source": [
        "num"
      ],
      "metadata": {
        "colab": {
          "base_uri": "https://localhost:8080/"
        },
        "id": "e8Gpiad6jqCS",
        "outputId": "f5e52dc0-460d-431c-da76-b212fb8b3d78"
      },
      "execution_count": 114,
      "outputs": [
        {
          "output_type": "execute_result",
          "data": {
            "text/plain": [
              "set()"
            ]
          },
          "metadata": {},
          "execution_count": 114
        }
      ]
    },
    {
      "cell_type": "code",
      "source": [],
      "metadata": {
        "id": "q6GQw6DFjqsX"
      },
      "execution_count": null,
      "outputs": []
    }
  ]
}